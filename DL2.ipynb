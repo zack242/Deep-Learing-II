{
 "cells": [
  {
   "cell_type": "code",
   "execution_count": 7,
   "metadata": {},
   "outputs": [
    {
     "name": "stderr",
     "output_type": "stream",
     "text": [
      "<frozen importlib._bootstrap>:228: RuntimeWarning: scipy._lib.messagestream.MessageStream size changed, may indicate binary incompatibility. Expected 56 from C header, got 64 from PyObject\n"
     ]
    }
   ],
   "source": [
    "import os \n",
    "import requests \n",
    "import scipy.io as sio\n",
    "from sklearn.datasets import fetch_openml\n",
    "import numpy as np\n",
    "from sklearn.preprocessing import LabelBinarizer\n",
    "from scipy.special import expit\n",
    "\n",
    "\n",
    "########## Partie 2 - Data loading \n",
    "def fetch_alpha_digits_data():\n",
    "    alphadigs_url = 'https://cs.nyu.edu/~roweis/data/binaryalphadigs.mat'\n",
    "    r = requests.get(alphadigs_url, allow_redirects=True)\n",
    "    filename = 'binaryalphadigs.mat'\n",
    "    open('data/' + filename, 'wb').write(r.content)\n",
    "    \n",
    "def fetch_mnist_digits_data(data_length):\n",
    "    # Fetch data \n",
    "    mnist = fetch_openml('mnist_784')\n",
    "\n",
    "    # Get pixels values\n",
    "    X = mnist['data'].values.copy() #apply(lambda x: 1 if x > 125 else 0)\n",
    "    # From grayscale to black and white\n",
    "    X[X < 125] = 0 \n",
    "    X[X >= 125] = 1\n",
    "\n",
    "\n",
    "    #train_length = (int)(data_length*test_train)\n",
    "\n",
    "    X_train, X_test = X[:data_length, :], X[data_length:data_length+10000, :]\n",
    "    # get labels \n",
    "    y = mnist['target'].values.copy()\n",
    "    y_train, y_test = y[:data_length], y[data_length:data_length+10000]\n",
    "    # One hot encoding for labels \n",
    "    y_train = LabelBinarizer().fit_transform(y_train)\n",
    "    y_test = LabelBinarizer().fit_transform(y_test)\n",
    "    return X_train, X_test, y_train, y_test\n",
    "    \n",
    "def lire_alpha_digit(digits_list):\n",
    "    \"\"\"Read alpha_digit data from specific digits_list\n",
    "\n",
    "    Keyword arguments:\n",
    "    digits_list -- list of digits to be fetched as str\n",
    "    ['0', '2', 'F', 'Z']\n",
    "    \n",
    "    Return: \n",
    "    alpha digits data regarding the input digits as a np.array matrix\n",
    "    (row is a data point, columns are the features of each picture )\n",
    "    \"\"\"\n",
    "    # check if data is in data/ folder \n",
    "    if os.path.exists('data/binaryalphadigs.mat'):\n",
    "        print('File already downloaded, using version in data folder..')\n",
    "    # download it if necessary\n",
    "    else:\n",
    "        print('Fetching data on internet...')\n",
    "        fetch_alpha_digits_data()\n",
    "    # load data \n",
    "    alphadigs_dict = sio.loadmat('data/binaryalphadigs.mat')\n",
    "    \n",
    "    # filter digits\n",
    "    digit2idx = {}\n",
    "    for i, digit in enumerate(alphadigs_dict['classlabels'][0]):\n",
    "        digit2idx[digit[0]] = i\n",
    "    \n",
    "    # collect indexes \n",
    "    idxs = []\n",
    "    for digit in digits_list:\n",
    "        idxs.append(digit2idx[digit])\n",
    "    #return alphadigs_dict['dat'][idxs]\n",
    "    # Adapter au format (n, p), chaque colonne designe un pixel et chaque ligne une image\n",
    "    return np.stack(np.concatenate(alphadigs_dict['dat'][idxs])).reshape(-1, 20*16)\n",
    "\n",
    "def sigmoid(x):\n",
    "    return expit(x)\n",
    "    "
   ]
  },
  {
   "cell_type": "code",
   "execution_count": 71,
   "metadata": {},
   "outputs": [],
   "source": [
    "import os\n",
    "import requests\n",
    "from scipy.io import loadmat\n",
    "from sklearn.datasets import fetch_openml\n",
    "from sklearn.preprocessing import OneHotEncoder\n",
    "\n",
    "def get_mnist(): \n",
    "    mnist = fetch_openml('mnist_784')\n",
    "    X = mnist['data'].values\n",
    "    X = (mnist['data'] > 128).astype(int)\n",
    "    y = mnist['target'].values\n",
    "    y = OneHotEncoder().fit_transform(y.reshape(-1, 1)).toarray()\n",
    "\n",
    "    return X, y\n",
    "    \n",
    "def get_alphadigs():\n",
    "    if os.path.exists('data/alphadigs.mat'):\n",
    "        return loadmat('data/alphadigs.mat')\n",
    "    \n",
    "    alphadigs_url = 'https://cs.nyu.edu/~roweis/data/binaryalphadigs.mat'\n",
    "    r = requests.get(alphadigs_url, allow_redirects=True)\n",
    "\n",
    "    with open('data/alphadigs.mat', 'wb') as f:\n",
    "        f.write(r.content)\n",
    "                \n",
    "    return loadmat('data/alphadigs.mat')\n",
    "      \n",
    "def lire_alpha_digit(list_digits) : \n",
    "    X = get_alphadigs()\n",
    "    indices = np.where(np.isin(X[\"classlabels\"], list_digits))[1]\n",
    "    rows = X[\"dat\"][indices]\n",
    "    return rows  "
   ]
  },
  {
   "cell_type": "code",
   "execution_count": 72,
   "metadata": {},
   "outputs": [
    {
     "name": "stderr",
     "output_type": "stream",
     "text": [
      "/Users/zakariatozy/opt/anaconda3/lib/python3.9/site-packages/sklearn/datasets/_openml.py:932: FutureWarning: The default value of `parser` will change from `'liac-arff'` to `'auto'` in 1.4. You can set `parser='auto'` to silence this warning. Therefore, an `ImportError` will be raised from 1.4 if the dataset is dense and pandas is not installed. Note that the pandas parser may return different data types. See the Notes Section in fetch_openml's API doc for details.\n",
      "  warn(\n"
     ]
    }
   ],
   "source": [
    "f = lire_alpha_digit(['0', '2', 'P','F', 'Z'])\n",
    "x,y = get_mnist()"
   ]
  }
 ],
 "metadata": {
  "kernelspec": {
   "display_name": "base",
   "language": "python",
   "name": "python3"
  },
  "language_info": {
   "codemirror_mode": {
    "name": "ipython",
    "version": 3
   },
   "file_extension": ".py",
   "mimetype": "text/x-python",
   "name": "python",
   "nbconvert_exporter": "python",
   "pygments_lexer": "ipython3",
   "version": "3.9.12"
  },
  "orig_nbformat": 4,
  "vscode": {
   "interpreter": {
    "hash": "f9536b55bfb9378dc6c66f0d0ab12324a50b180b1476f0ea0b6d5b7b55d4ecf0"
   }
  }
 },
 "nbformat": 4,
 "nbformat_minor": 2
}
