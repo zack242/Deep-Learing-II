{
 "cells": [
  {
   "cell_type": "code",
   "execution_count": 1,
   "id": "after-stocks",
   "metadata": {},
   "outputs": [],
   "source": [
    "import os \n",
    "import requests \n",
    "import scipy.io as sio\n",
    "from sklearn.datasets import fetch_openml\n",
    "import numpy as np\n",
    "import matplotlib.pyplot as plt\n",
    "from rbm import RBM\n",
    "from dnn import DNN\n",
    "from utils_projet import lire_alpha_digit, sigmoid\n",
    "from principal_RBM_alpha import init_RBM, entree_sortie_RBM,\\\n",
    "                                sortie_entree_RBM, train_RBM\n",
    "from principal_DNN_alpha import init_DNN, pretrain_DNN, generer_image_DBN"
   ]
  },
  {
   "cell_type": "code",
   "execution_count": 3,
   "id": "cognitive-order",
   "metadata": {
    "tags": []
   },
   "outputs": [
    {
     "name": "stdout",
     "output_type": "stream",
     "text": [
      "File already downloaded, using version in data folder..\n",
      "Epoch: 0 -- Erreur de reconstruction: 0.32411858974358976\n",
      "Epoch: 1 -- Erreur de reconstruction: 0.29102564102564105\n",
      "Epoch: 2 -- Erreur de reconstruction: 0.27095352564102565\n",
      "Epoch: 3 -- Erreur de reconstruction: 0.24863782051282052\n",
      "Epoch: 4 -- Erreur de reconstruction: 0.23405448717948718\n",
      "Epoch: 5 -- Erreur de reconstruction: 0.21582532051282052\n",
      "Epoch: 6 -- Erreur de reconstruction: 0.19763621794871794\n",
      "Epoch: 7 -- Erreur de reconstruction: 0.19278846153846155\n",
      "Epoch: 8 -- Erreur de reconstruction: 0.1735176282051282\n",
      "Epoch: 9 -- Erreur de reconstruction: 0.16442307692307692\n",
      "Epoch: 10 -- Erreur de reconstruction: 0.15600961538461539\n",
      "Epoch: 11 -- Erreur de reconstruction: 0.15256410256410258\n",
      "Epoch: 12 -- Erreur de reconstruction: 0.1465544871794872\n",
      "Epoch: 13 -- Erreur de reconstruction: 0.1408253205128205\n",
      "Epoch: 14 -- Erreur de reconstruction: 0.13305288461538461\n",
      "Epoch: 15 -- Erreur de reconstruction: 0.1312900641025641\n",
      "Epoch: 16 -- Erreur de reconstruction: 0.12291666666666666\n",
      "Epoch: 17 -- Erreur de reconstruction: 0.11899038461538461\n",
      "Epoch: 18 -- Erreur de reconstruction: 0.11213942307692308\n",
      "Epoch: 19 -- Erreur de reconstruction: 0.10893429487179487\n",
      "Epoch: 20 -- Erreur de reconstruction: 0.10596955128205128\n",
      "Epoch: 21 -- Erreur de reconstruction: 0.09915865384615384\n",
      "Epoch: 22 -- Erreur de reconstruction: 0.09495192307692307\n",
      "Epoch: 23 -- Erreur de reconstruction: 0.08930288461538462\n",
      "Epoch: 24 -- Erreur de reconstruction: 0.08818108974358975\n",
      "Epoch: 25 -- Erreur de reconstruction: 0.08449519230769231\n",
      "Epoch: 26 -- Erreur de reconstruction: 0.08076923076923077\n",
      "Epoch: 27 -- Erreur de reconstruction: 0.07960737179487179\n",
      "Epoch: 28 -- Erreur de reconstruction: 0.07279647435897436\n",
      "Epoch: 29 -- Erreur de reconstruction: 0.07215544871794871\n",
      "Epoch: 30 -- Erreur de reconstruction: 0.06794871794871794\n",
      "Epoch: 31 -- Erreur de reconstruction: 0.0672275641025641\n",
      "Epoch: 32 -- Erreur de reconstruction: 0.06454326923076924\n",
      "Epoch: 33 -- Erreur de reconstruction: 0.061578525641025644\n",
      "Epoch: 34 -- Erreur de reconstruction: 0.06125801282051282\n",
      "Epoch: 35 -- Erreur de reconstruction: 0.058333333333333334\n",
      "Epoch: 36 -- Erreur de reconstruction: 0.05532852564102564\n",
      "Epoch: 37 -- Erreur de reconstruction: 0.053044871794871794\n",
      "Epoch: 38 -- Erreur de reconstruction: 0.055608974358974356\n",
      "Epoch: 39 -- Erreur de reconstruction: 0.05096153846153846\n",
      "Epoch: 40 -- Erreur de reconstruction: 0.049318910256410255\n",
      "Epoch: 41 -- Erreur de reconstruction: 0.04827724358974359\n",
      "Epoch: 42 -- Erreur de reconstruction: 0.04811698717948718\n",
      "Epoch: 43 -- Erreur de reconstruction: 0.04607371794871795\n",
      "Epoch: 44 -- Erreur de reconstruction: 0.046474358974358976\n",
      "Epoch: 45 -- Erreur de reconstruction: 0.042387820512820515\n",
      "Epoch: 46 -- Erreur de reconstruction: 0.04038461538461539\n",
      "Epoch: 47 -- Erreur de reconstruction: 0.040865384615384616\n",
      "Epoch: 48 -- Erreur de reconstruction: 0.04010416666666667\n",
      "Epoch: 49 -- Erreur de reconstruction: 0.03802083333333333\n",
      "Epoch: 50 -- Erreur de reconstruction: 0.03826121794871795\n",
      "Epoch: 51 -- Erreur de reconstruction: 0.034575320512820515\n",
      "Epoch: 52 -- Erreur de reconstruction: 0.03641826923076923\n",
      "Epoch: 53 -- Erreur de reconstruction: 0.03297275641025641\n",
      "Epoch: 54 -- Erreur de reconstruction: 0.035416666666666666\n",
      "Epoch: 55 -- Erreur de reconstruction: 0.03169070512820513\n",
      "Epoch: 56 -- Erreur de reconstruction: 0.03325320512820513\n",
      "Epoch: 57 -- Erreur de reconstruction: 0.03076923076923077\n",
      "Epoch: 58 -- Erreur de reconstruction: 0.02996794871794872\n",
      "Epoch: 59 -- Erreur de reconstruction: 0.02936698717948718\n",
      "Epoch: 60 -- Erreur de reconstruction: 0.027724358974358973\n",
      "Epoch: 61 -- Erreur de reconstruction: 0.02952724358974359\n",
      "Epoch: 62 -- Erreur de reconstruction: 0.02936698717948718\n",
      "Epoch: 63 -- Erreur de reconstruction: 0.027283653846153846\n",
      "Epoch: 64 -- Erreur de reconstruction: 0.025881410256410258\n",
      "Epoch: 65 -- Erreur de reconstruction: 0.0265625\n",
      "Epoch: 66 -- Erreur de reconstruction: 0.02548076923076923\n",
      "Epoch: 67 -- Erreur de reconstruction: 0.02532051282051282\n",
      "Epoch: 68 -- Erreur de reconstruction: 0.02455929487179487\n",
      "Epoch: 69 -- Erreur de reconstruction: 0.022916666666666665\n",
      "Epoch: 70 -- Erreur de reconstruction: 0.022395833333333334\n",
      "Epoch: 71 -- Erreur de reconstruction: 0.02295673076923077\n",
      "Epoch: 72 -- Erreur de reconstruction: 0.02247596153846154\n",
      "Epoch: 73 -- Erreur de reconstruction: 0.021153846153846155\n",
      "Epoch: 74 -- Erreur de reconstruction: 0.02231570512820513\n",
      "Epoch: 75 -- Erreur de reconstruction: 0.022556089743589743\n",
      "Epoch: 76 -- Erreur de reconstruction: 0.02063301282051282\n",
      "Epoch: 77 -- Erreur de reconstruction: 0.020913461538461537\n",
      "Epoch: 78 -- Erreur de reconstruction: 0.01967147435897436\n",
      "Epoch: 79 -- Erreur de reconstruction: 0.02015224358974359\n",
      "Epoch: 80 -- Erreur de reconstruction: 0.018149038461538463\n",
      "Epoch: 81 -- Erreur de reconstruction: 0.019591346153846154\n",
      "Epoch: 82 -- Erreur de reconstruction: 0.020913461538461537\n",
      "Epoch: 83 -- Erreur de reconstruction: 0.019951923076923075\n",
      "Epoch: 84 -- Erreur de reconstruction: 0.019110576923076925\n",
      "Epoch: 85 -- Erreur de reconstruction: 0.017107371794871797\n",
      "Epoch: 86 -- Erreur de reconstruction: 0.018389423076923078\n",
      "Epoch: 87 -- Erreur de reconstruction: 0.01622596153846154\n",
      "Epoch: 88 -- Erreur de reconstruction: 0.01658653846153846\n",
      "Epoch: 89 -- Erreur de reconstruction: 0.017868589743589743\n",
      "Epoch: 90 -- Erreur de reconstruction: 0.015184294871794872\n",
      "Epoch: 91 -- Erreur de reconstruction: 0.015544871794871795\n",
      "Epoch: 92 -- Erreur de reconstruction: 0.01658653846153846\n",
      "Epoch: 93 -- Erreur de reconstruction: 0.015064102564102564\n",
      "Epoch: 94 -- Erreur de reconstruction: 0.01622596153846154\n",
      "Epoch: 95 -- Erreur de reconstruction: 0.015504807692307693\n",
      "Epoch: 96 -- Erreur de reconstruction: 0.015224358974358974\n",
      "Epoch: 97 -- Erreur de reconstruction: 0.014342948717948717\n",
      "Epoch: 98 -- Erreur de reconstruction: 0.015024038461538462\n",
      "Epoch: 99 -- Erreur de reconstruction: 0.014142628205128205\n",
      "Epoch: 0 -- Erreur de reconstruction: 0.2393076923076923\n",
      "Epoch: 1 -- Erreur de reconstruction: 0.20807692307692308\n",
      "Epoch: 2 -- Erreur de reconstruction: 0.19484615384615384\n",
      "Epoch: 3 -- Erreur de reconstruction: 0.1803076923076923\n",
      "Epoch: 4 -- Erreur de reconstruction: 0.16246153846153846\n",
      "Epoch: 5 -- Erreur de reconstruction: 0.15417948717948718\n",
      "Epoch: 6 -- Erreur de reconstruction: 0.1421025641025641\n",
      "Epoch: 7 -- Erreur de reconstruction: 0.1345897435897436\n",
      "Epoch: 8 -- Erreur de reconstruction: 0.12487179487179487\n",
      "Epoch: 9 -- Erreur de reconstruction: 0.11671794871794872\n",
      "Epoch: 10 -- Erreur de reconstruction: 0.11074358974358975\n",
      "Epoch: 11 -- Erreur de reconstruction: 0.10192307692307692\n",
      "Epoch: 12 -- Erreur de reconstruction: 0.09566666666666666\n",
      "Epoch: 13 -- Erreur de reconstruction: 0.08851282051282051\n",
      "Epoch: 14 -- Erreur de reconstruction: 0.0845897435897436\n",
      "Epoch: 15 -- Erreur de reconstruction: 0.08241025641025641\n",
      "Epoch: 16 -- Erreur de reconstruction: 0.0777948717948718\n",
      "Epoch: 17 -- Erreur de reconstruction: 0.0742051282051282\n",
      "Epoch: 18 -- Erreur de reconstruction: 0.06861538461538462\n",
      "Epoch: 19 -- Erreur de reconstruction: 0.06748717948717949\n",
      "Epoch: 20 -- Erreur de reconstruction: 0.063\n",
      "Epoch: 21 -- Erreur de reconstruction: 0.06141025641025641\n",
      "Epoch: 22 -- Erreur de reconstruction: 0.057692307692307696\n",
      "Epoch: 23 -- Erreur de reconstruction: 0.053384615384615385\n",
      "Epoch: 24 -- Erreur de reconstruction: 0.05294871794871795\n",
      "Epoch: 25 -- Erreur de reconstruction: 0.05064102564102564\n",
      "Epoch: 26 -- Erreur de reconstruction: 0.04674358974358974\n",
      "Epoch: 27 -- Erreur de reconstruction: 0.0471025641025641\n",
      "Epoch: 28 -- Erreur de reconstruction: 0.04382051282051282\n",
      "Epoch: 29 -- Erreur de reconstruction: 0.043102564102564106\n",
      "Epoch: 30 -- Erreur de reconstruction: 0.040358974358974356\n",
      "Epoch: 31 -- Erreur de reconstruction: 0.03892307692307692\n",
      "Epoch: 32 -- Erreur de reconstruction: 0.03817948717948718\n",
      "Epoch: 33 -- Erreur de reconstruction: 0.037333333333333336\n",
      "Epoch: 34 -- Erreur de reconstruction: 0.03651282051282051\n",
      "Epoch: 35 -- Erreur de reconstruction: 0.034\n",
      "Epoch: 36 -- Erreur de reconstruction: 0.033512820512820514\n",
      "Epoch: 37 -- Erreur de reconstruction: 0.03217948717948718\n",
      "Epoch: 38 -- Erreur de reconstruction: 0.031615384615384615\n",
      "Epoch: 39 -- Erreur de reconstruction: 0.030358974358974358\n",
      "Epoch: 40 -- Erreur de reconstruction: 0.029\n",
      "Epoch: 41 -- Erreur de reconstruction: 0.028205128205128206\n",
      "Epoch: 42 -- Erreur de reconstruction: 0.02717948717948718\n",
      "Epoch: 43 -- Erreur de reconstruction: 0.02558974358974359\n",
      "Epoch: 44 -- Erreur de reconstruction: 0.024923076923076923\n",
      "Epoch: 45 -- Erreur de reconstruction: 0.025333333333333333\n",
      "Epoch: 46 -- Erreur de reconstruction: 0.023923076923076922\n",
      "Epoch: 47 -- Erreur de reconstruction: 0.022384615384615385\n",
      "Epoch: 48 -- Erreur de reconstruction: 0.023487179487179488\n",
      "Epoch: 49 -- Erreur de reconstruction: 0.022205128205128204\n",
      "Epoch: 50 -- Erreur de reconstruction: 0.02123076923076923\n",
      "Epoch: 51 -- Erreur de reconstruction: 0.02\n",
      "Epoch: 52 -- Erreur de reconstruction: 0.02035897435897436\n",
      "Epoch: 53 -- Erreur de reconstruction: 0.019153846153846153\n",
      "Epoch: 54 -- Erreur de reconstruction: 0.02028205128205128\n",
      "Epoch: 55 -- Erreur de reconstruction: 0.01958974358974359\n",
      "Epoch: 56 -- Erreur de reconstruction: 0.019307692307692307\n",
      "Epoch: 57 -- Erreur de reconstruction: 0.017948717948717947\n",
      "Epoch: 58 -- Erreur de reconstruction: 0.018\n",
      "Epoch: 59 -- Erreur de reconstruction: 0.017948717948717947\n",
      "Epoch: 60 -- Erreur de reconstruction: 0.01653846153846154\n",
      "Epoch: 61 -- Erreur de reconstruction: 0.01782051282051282\n",
      "Epoch: 62 -- Erreur de reconstruction: 0.016641025641025643\n",
      "Epoch: 63 -- Erreur de reconstruction: 0.016666666666666666\n",
      "Epoch: 64 -- Erreur de reconstruction: 0.015282051282051281\n",
      "Epoch: 65 -- Erreur de reconstruction: 0.015974358974358973\n",
      "Epoch: 66 -- Erreur de reconstruction: 0.01594871794871795\n",
      "Epoch: 67 -- Erreur de reconstruction: 0.014282051282051282\n",
      "Epoch: 68 -- Erreur de reconstruction: 0.014871794871794871\n",
      "Epoch: 69 -- Erreur de reconstruction: 0.015\n",
      "Epoch: 70 -- Erreur de reconstruction: 0.014\n",
      "Epoch: 71 -- Erreur de reconstruction: 0.013615384615384616\n",
      "Epoch: 72 -- Erreur de reconstruction: 0.013897435897435898\n",
      "Epoch: 73 -- Erreur de reconstruction: 0.014435897435897436\n",
      "Epoch: 74 -- Erreur de reconstruction: 0.012717948717948718\n",
      "Epoch: 75 -- Erreur de reconstruction: 0.01305128205128205\n",
      "Epoch: 76 -- Erreur de reconstruction: 0.011871794871794872\n",
      "Epoch: 77 -- Erreur de reconstruction: 0.012256410256410256\n",
      "Epoch: 78 -- Erreur de reconstruction: 0.012666666666666666\n",
      "Epoch: 79 -- Erreur de reconstruction: 0.011615384615384616\n",
      "Epoch: 80 -- Erreur de reconstruction: 0.012076923076923077\n",
      "Epoch: 81 -- Erreur de reconstruction: 0.012743589743589743\n",
      "Epoch: 82 -- Erreur de reconstruction: 0.012025641025641026\n",
      "Epoch: 83 -- Erreur de reconstruction: 0.011717948717948718\n",
      "Epoch: 84 -- Erreur de reconstruction: 0.011487179487179488\n",
      "Epoch: 85 -- Erreur de reconstruction: 0.010897435897435897\n",
      "Epoch: 86 -- Erreur de reconstruction: 0.009564102564102565\n",
      "Epoch: 87 -- Erreur de reconstruction: 0.010717948717948718\n",
      "Epoch: 88 -- Erreur de reconstruction: 0.010871794871794871\n",
      "Epoch: 89 -- Erreur de reconstruction: 0.011153846153846153\n",
      "Epoch: 90 -- Erreur de reconstruction: 0.009846153846153846\n",
      "Epoch: 91 -- Erreur de reconstruction: 0.01017948717948718\n",
      "Epoch: 92 -- Erreur de reconstruction: 0.009897435897435898\n",
      "Epoch: 93 -- Erreur de reconstruction: 0.009820512820512821\n",
      "Epoch: 94 -- Erreur de reconstruction: 0.009743589743589744\n",
      "Epoch: 95 -- Erreur de reconstruction: 0.009794871794871795\n",
      "Epoch: 96 -- Erreur de reconstruction: 0.009974358974358975\n",
      "Epoch: 97 -- Erreur de reconstruction: 0.009307692307692308\n",
      "Epoch: 98 -- Erreur de reconstruction: 0.009538461538461539\n",
      "Epoch: 99 -- Erreur de reconstruction: 0.008692307692307692\n",
      "Epoch: 0 -- Erreur de reconstruction: 0.22502564102564102\n",
      "Epoch: 1 -- Erreur de reconstruction: 0.2016153846153846\n",
      "Epoch: 2 -- Erreur de reconstruction: 0.17594871794871794\n",
      "Epoch: 3 -- Erreur de reconstruction: 0.15728205128205128\n",
      "Epoch: 4 -- Erreur de reconstruction: 0.13653846153846153\n",
      "Epoch: 5 -- Erreur de reconstruction: 0.12605128205128205\n",
      "Epoch: 6 -- Erreur de reconstruction: 0.11438461538461539\n",
      "Epoch: 7 -- Erreur de reconstruction: 0.09853846153846153\n",
      "Epoch: 8 -- Erreur de reconstruction: 0.09525641025641025\n",
      "Epoch: 9 -- Erreur de reconstruction: 0.08323076923076923\n",
      "Epoch: 10 -- Erreur de reconstruction: 0.07517948717948718\n",
      "Epoch: 11 -- Erreur de reconstruction: 0.06971794871794872\n",
      "Epoch: 12 -- Erreur de reconstruction: 0.06217948717948718\n",
      "Epoch: 13 -- Erreur de reconstruction: 0.058076923076923075\n",
      "Epoch: 14 -- Erreur de reconstruction: 0.05097435897435897\n",
      "Epoch: 15 -- Erreur de reconstruction: 0.048846153846153845\n",
      "Epoch: 16 -- Erreur de reconstruction: 0.045743589743589746\n",
      "Epoch: 17 -- Erreur de reconstruction: 0.04164102564102564\n",
      "Epoch: 18 -- Erreur de reconstruction: 0.037974358974358975\n",
      "Epoch: 19 -- Erreur de reconstruction: 0.03584615384615385\n",
      "Epoch: 20 -- Erreur de reconstruction: 0.03523076923076923\n",
      "Epoch: 21 -- Erreur de reconstruction: 0.03117948717948718\n",
      "Epoch: 22 -- Erreur de reconstruction: 0.03076923076923077\n",
      "Epoch: 23 -- Erreur de reconstruction: 0.02887179487179487\n",
      "Epoch: 24 -- Erreur de reconstruction: 0.02753846153846154\n",
      "Epoch: 25 -- Erreur de reconstruction: 0.025102564102564104\n",
      "Epoch: 26 -- Erreur de reconstruction: 0.024\n",
      "Epoch: 27 -- Erreur de reconstruction: 0.02317948717948718\n",
      "Epoch: 28 -- Erreur de reconstruction: 0.02135897435897436\n",
      "Epoch: 29 -- Erreur de reconstruction: 0.022487179487179487\n",
      "Epoch: 30 -- Erreur de reconstruction: 0.020615384615384615\n",
      "Epoch: 31 -- Erreur de reconstruction: 0.020128205128205127\n",
      "Epoch: 32 -- Erreur de reconstruction: 0.017435897435897435\n",
      "Epoch: 33 -- Erreur de reconstruction: 0.017256410256410257\n",
      "Epoch: 34 -- Erreur de reconstruction: 0.016794871794871796\n",
      "Epoch: 35 -- Erreur de reconstruction: 0.016615384615384615\n",
      "Epoch: 36 -- Erreur de reconstruction: 0.01423076923076923\n",
      "Epoch: 37 -- Erreur de reconstruction: 0.01323076923076923\n",
      "Epoch: 38 -- Erreur de reconstruction: 0.015717948717948717\n",
      "Epoch: 39 -- Erreur de reconstruction: 0.012564102564102564\n",
      "Epoch: 40 -- Erreur de reconstruction: 0.012871794871794871\n",
      "Epoch: 41 -- Erreur de reconstruction: 0.013\n",
      "Epoch: 42 -- Erreur de reconstruction: 0.011333333333333334\n",
      "Epoch: 43 -- Erreur de reconstruction: 0.011512820512820513\n",
      "Epoch: 44 -- Erreur de reconstruction: 0.011948717948717949\n",
      "Epoch: 45 -- Erreur de reconstruction: 0.011307692307692309\n",
      "Epoch: 46 -- Erreur de reconstruction: 0.010923076923076923\n",
      "Epoch: 47 -- Erreur de reconstruction: 0.010717948717948718\n",
      "Epoch: 48 -- Erreur de reconstruction: 0.010076923076923077\n",
      "Epoch: 49 -- Erreur de reconstruction: 0.010025641025641026\n",
      "Epoch: 50 -- Erreur de reconstruction: 0.009179487179487179\n",
      "Epoch: 51 -- Erreur de reconstruction: 0.009461538461538462\n",
      "Epoch: 52 -- Erreur de reconstruction: 0.008846153846153846\n",
      "Epoch: 53 -- Erreur de reconstruction: 0.009487179487179488\n",
      "Epoch: 54 -- Erreur de reconstruction: 0.007897435897435898\n",
      "Epoch: 55 -- Erreur de reconstruction: 0.00882051282051282\n",
      "Epoch: 56 -- Erreur de reconstruction: 0.008923076923076922\n",
      "Epoch: 57 -- Erreur de reconstruction: 0.008282051282051282\n",
      "Epoch: 58 -- Erreur de reconstruction: 0.00817948717948718\n",
      "Epoch: 59 -- Erreur de reconstruction: 0.007743589743589744\n",
      "Epoch: 60 -- Erreur de reconstruction: 0.007333333333333333\n",
      "Epoch: 61 -- Erreur de reconstruction: 0.00817948717948718\n",
      "Epoch: 62 -- Erreur de reconstruction: 0.007076923076923077\n",
      "Epoch: 63 -- Erreur de reconstruction: 0.007487179487179487\n",
      "Epoch: 64 -- Erreur de reconstruction: 0.007358974358974359\n",
      "Epoch: 65 -- Erreur de reconstruction: 0.007205128205128205\n",
      "Epoch: 66 -- Erreur de reconstruction: 0.007487179487179487\n",
      "Epoch: 67 -- Erreur de reconstruction: 0.006897435897435898\n",
      "Epoch: 68 -- Erreur de reconstruction: 0.006666666666666667\n",
      "Epoch: 69 -- Erreur de reconstruction: 0.007256410256410256\n",
      "Epoch: 70 -- Erreur de reconstruction: 0.006871794871794872\n",
      "Epoch: 71 -- Erreur de reconstruction: 0.006076923076923077\n",
      "Epoch: 72 -- Erreur de reconstruction: 0.005846153846153846\n",
      "Epoch: 73 -- Erreur de reconstruction: 0.006487179487179487\n",
      "Epoch: 74 -- Erreur de reconstruction: 0.0065128205128205125\n",
      "Epoch: 75 -- Erreur de reconstruction: 0.0061794871794871795\n",
      "Epoch: 76 -- Erreur de reconstruction: 0.006128205128205128\n",
      "Epoch: 77 -- Erreur de reconstruction: 0.0057692307692307696\n",
      "Epoch: 78 -- Erreur de reconstruction: 0.005384615384615384\n",
      "Epoch: 79 -- Erreur de reconstruction: 0.004923076923076923\n",
      "Epoch: 80 -- Erreur de reconstruction: 0.004948717948717949\n",
      "Epoch: 81 -- Erreur de reconstruction: 0.005487179487179487\n",
      "Epoch: 82 -- Erreur de reconstruction: 0.005051282051282051\n",
      "Epoch: 83 -- Erreur de reconstruction: 0.005230769230769231\n",
      "Epoch: 84 -- Erreur de reconstruction: 0.004794871794871795\n",
      "Epoch: 85 -- Erreur de reconstruction: 0.005461538461538461\n",
      "Epoch: 86 -- Erreur de reconstruction: 0.004794871794871795\n",
      "Epoch: 87 -- Erreur de reconstruction: 0.004589743589743589\n",
      "Epoch: 88 -- Erreur de reconstruction: 0.0047692307692307695\n",
      "Epoch: 89 -- Erreur de reconstruction: 0.004846153846153846\n",
      "Epoch: 90 -- Erreur de reconstruction: 0.0045128205128205125\n",
      "Epoch: 91 -- Erreur de reconstruction: 0.004564102564102564\n",
      "Epoch: 92 -- Erreur de reconstruction: 0.004538461538461538\n",
      "Epoch: 93 -- Erreur de reconstruction: 0.004051282051282051\n",
      "Epoch: 94 -- Erreur de reconstruction: 0.004230769230769231\n",
      "Epoch: 95 -- Erreur de reconstruction: 0.004\n",
      "Epoch: 96 -- Erreur de reconstruction: 0.004871794871794872\n",
      "Epoch: 97 -- Erreur de reconstruction: 0.004564102564102564\n",
      "Epoch: 98 -- Erreur de reconstruction: 0.004\n",
      "Epoch: 99 -- Erreur de reconstruction: 0.004025641025641026\n"
     ]
    },
    {
     "data": {
      "image/png": "[encoded data removed]",
      "text/plain": [
       "<Figure size 432x288 with 1 Axes>"
      ]
     },
     "metadata": {
      "needs_background": "light"
     },
     "output_type": "display_data"
    },
    {
     "data": {
      "image/png": "[encoded data removed]",
      "text/plain": [
       "<Figure size 432x288 with 1 Axes>"
      ]
     },
     "metadata": {
      "needs_background": "light"
     },
     "output_type": "display_data"
    },
    {
     "data": {
      "image/png": "[encoded data removed]",
      "text/plain": [
       "<Figure size 432x288 with 1 Axes>"
      ]
     },
     "metadata": {
      "needs_background": "light"
     },
     "output_type": "display_data"
    },
    {
     "data": {
      "image/png": "[encoded data removed]",
      "text/plain": [
       "<Figure size 432x288 with 1 Axes>"
      ]
     },
     "metadata": {
      "needs_background": "light"
     },
     "output_type": "display_data"
    },
    {
     "data": {
      "image/png": "[encoded data removed]",
      "text/plain": [
       "<Figure size 432x288 with 1 Axes>"
      ]
     },
     "metadata": {
      "needs_background": "light"
     },
     "output_type": "display_data"
    },
    {
     "data": {
      "image/png": "[encoded data removed]",
      "text/plain": [
       "<Figure size 432x288 with 1 Axes>"
      ]
     },
     "metadata": {
      "needs_background": "light"
     },
     "output_type": "display_data"
    },
    {
     "data": {
      "image/png": "[encoded data removed]",
      "text/plain": [
       "<Figure size 432x288 with 1 Axes>"
      ]
     },
     "metadata": {
      "needs_background": "light"
     },
     "output_type": "display_data"
    },
    {
     "data": {
      "image/png": "[encoded data removed]",
      "text/plain": [
       "<Figure size 432x288 with 1 Axes>"
      ]
     },
     "metadata": {
      "needs_background": "light"
     },
     "output_type": "display_data"
    },
    {
     "data": {
      "image/png": "[encoded data removed]",
      "text/plain": [
       "<Figure size 432x288 with 1 Axes>"
      ]
     },
     "metadata": {
      "needs_background": "light"
     },
     "output_type": "display_data"
    },
    {
     "data": {
      "image/png": "[encoded data removed]",
      "text/plain": [
       "<Figure size 432x288 with 1 Axes>"
      ]
     },
     "metadata": {
      "needs_background": "light"
     },
     "output_type": "display_data"
    },
    {
     "data": {
      "image/png": "[encoded data removed]",
      "text/plain": [
       "<Figure size 432x288 with 1 Axes>"
      ]
     },
     "metadata": {
      "needs_background": "light"
     },
     "output_type": "display_data"
    },
    {
     "data": {
      "image/png": "[encoded data removed]",
      "text/plain": [
       "<Figure size 432x288 with 1 Axes>"
      ]
     },
     "metadata": {
      "needs_background": "light"
     },
     "output_type": "display_data"
    },
    {
     "data": {
      "image/png": "[encoded data removed]",
      "text/plain": [
       "<Figure size 432x288 with 1 Axes>"
      ]
     },
     "metadata": {
      "needs_background": "light"
     },
     "output_type": "display_data"
    },
    {
     "data": {
      "image/png": "[encoded data removed]",
      "text/plain": [
       "<Figure size 432x288 with 1 Axes>"
      ]
     },
     "metadata": {
      "needs_background": "light"
     },
     "output_type": "display_data"
    },
    {
     "data": {
      "image/png": "[encoded data removed]",
      "text/plain": [
       "<Figure size 432x288 with 1 Axes>"
      ]
     },
     "metadata": {
      "needs_background": "light"
     },
     "output_type": "display_data"
    }
   ],
   "source": [
    "# Récuperons les données\n",
    "digits_list = ['A', 'Z']\n",
    "# digits_list = ['A']\n",
    "# X a pour format (n, p). n = 39*nbr_digits pour alphadigits et 20*16 pixels par image\n",
    "X = lire_alpha_digit(digits_list)\n",
    "# Numéro de pixels de l'image\n",
    "p = X.shape[1]\n",
    "# numero de classes\n",
    "# Initializer le RBM \n",
    "# hidden_layer_size = [100, 100]\n",
    "# Source: https://www.ki.tu-berlin.de/fileadmin/fg135/publikationen/Hebbo_2013_CDB.pdf\n",
    "#hidden_layer_size = [1000, 1000, 2000]\n",
    "hidden_layer_size = [500, 500, 2000]\n",
    "nbr_classes = len(digits_list)\n",
    "dnn = init_DNN(p, hidden_layer_size, nbr_classes)\n",
    "# train \n",
    "dnn = pretrain_DNN(dnn, X, epochs=100, learning_rate=0.1, batch_size=10)\n",
    "\n",
    "#trained_rbm = pretrain_DNN(rbm_unit, X, epochs=50, learning_rate=0.1, batch_size=3, cd_k=1)\n",
    "# Reconstruisons les images \n",
    "generer_image_DBN(dnn, nbr_iterations_gibbs=1000, nbr_images=15, image_shape=(20, 16))"
   ]
  },
  {
   "cell_type": "code",
   "execution_count": 12,
   "id": "quick-least",
   "metadata": {},
   "outputs": [
    {
     "data": {
      "text/plain": [
       "1"
      ]
     },
     "execution_count": 12,
     "metadata": {},
     "output_type": "execute_result"
    }
   ],
   "source": [
    "dnn.DBN[-1].q"
   ]
  },
  {
   "cell_type": "code",
   "execution_count": null,
   "id": "defined-latin",
   "metadata": {},
   "outputs": [],
   "source": []
  }
 ],
 "metadata": {
  "kernelspec": {
   "display_name": "Python 3",
   "language": "python",
   "name": "python3"
  },
  "language_info": {
   "codemirror_mode": {
    "name": "ipython",
    "version": 3
   },
   "file_extension": ".py",
   "mimetype": "text/x-python",
   "name": "python",
   "nbconvert_exporter": "python",
   "pygments_lexer": "ipython3",
   "version": "3.6.12"
  }
 },
 "nbformat": 4,
 "nbformat_minor": 5
}
