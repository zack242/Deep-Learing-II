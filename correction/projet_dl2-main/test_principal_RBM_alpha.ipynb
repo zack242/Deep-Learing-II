{
 "cells": [
  {
   "cell_type": "code",
   "execution_count": 3,
   "id": "smoking-absolute",
   "metadata": {},
   "outputs": [],
   "source": [
    "import os \n",
    "import requests \n",
    "import scipy.io as sio\n",
    "from sklearn.datasets import fetch_openml\n",
    "import numpy as np\n",
    "import matplotlib.pyplot as plt\n",
    "from rbm import RBM\n",
    "from utils_projet import lire_alpha_digit, sigmoid\n",
    "from principal_RBM_alpha import init_RBM, entree_sortie_RBM,\\\n",
    "                                sortie_entree_RBM, train_RBM,\\\n",
    "                                generer_image_RBM"
   ]
  },
  {
   "cell_type": "markdown",
   "id": "capable-spirituality",
   "metadata": {},
   "source": [
    "# Entrainer le RBM"
   ]
  },
  {
   "cell_type": "code",
   "execution_count": 8,
   "id": "sunset-basic",
   "metadata": {
    "tags": []
   },
   "outputs": [
    {
     "name": "stdout",
     "output_type": "stream",
     "text": [
      "File already downloaded, using version in data folder..\n",
      "Epoch: 0 -- Erreur de reconstruction: 0.3090544871794872\n",
      "Epoch: 1 -- Erreur de reconstruction: 0.26666666666666666\n",
      "Epoch: 2 -- Erreur de reconstruction: 0.234375\n",
      "Epoch: 3 -- Erreur de reconstruction: 0.20376602564102564\n",
      "Epoch: 4 -- Erreur de reconstruction: 0.19663461538461538\n",
      "Epoch: 5 -- Erreur de reconstruction: 0.1876602564102564\n",
      "Epoch: 6 -- Erreur de reconstruction: 0.1779647435897436\n",
      "Epoch: 7 -- Erreur de reconstruction: 0.16698717948717948\n",
      "Epoch: 8 -- Erreur de reconstruction: 0.15729166666666666\n",
      "Epoch: 9 -- Erreur de reconstruction: 0.15096153846153845\n",
      "Epoch: 10 -- Erreur de reconstruction: 0.13806089743589745\n",
      "Epoch: 11 -- Erreur de reconstruction: 0.13229166666666667\n",
      "Epoch: 12 -- Erreur de reconstruction: 0.12708333333333333\n",
      "Epoch: 13 -- Erreur de reconstruction: 0.12588141025641025\n",
      "Epoch: 14 -- Erreur de reconstruction: 0.11586538461538462\n",
      "Epoch: 15 -- Erreur de reconstruction: 0.11314102564102564\n",
      "Epoch: 16 -- Erreur de reconstruction: 0.11081730769230769\n",
      "Epoch: 17 -- Erreur de reconstruction: 0.10713141025641025\n",
      "Epoch: 18 -- Erreur de reconstruction: 0.10568910256410256\n",
      "Epoch: 19 -- Erreur de reconstruction: 0.10008012820512821\n",
      "Epoch: 20 -- Erreur de reconstruction: 0.09655448717948718\n",
      "Epoch: 21 -- Erreur de reconstruction: 0.0921474358974359\n",
      "Epoch: 22 -- Erreur de reconstruction: 0.08709935897435897\n",
      "Epoch: 23 -- Erreur de reconstruction: 0.08197115384615385\n",
      "Epoch: 24 -- Erreur de reconstruction: 0.08333333333333333\n",
      "Epoch: 25 -- Erreur de reconstruction: 0.08677884615384615\n",
      "Epoch: 26 -- Erreur de reconstruction: 0.07868589743589743\n",
      "Epoch: 27 -- Erreur de reconstruction: 0.07684294871794872\n",
      "Epoch: 28 -- Erreur de reconstruction: 0.06971153846153846\n",
      "Epoch: 29 -- Erreur de reconstruction: 0.07011217948717949\n",
      "Epoch: 30 -- Erreur de reconstruction: 0.06995192307692308\n",
      "Epoch: 31 -- Erreur de reconstruction: 0.07459935897435897\n",
      "Epoch: 32 -- Erreur de reconstruction: 0.06618589743589744\n",
      "Epoch: 33 -- Erreur de reconstruction: 0.06602564102564103\n",
      "Epoch: 34 -- Erreur de reconstruction: 0.06810897435897435\n",
      "Epoch: 35 -- Erreur de reconstruction: 0.06185897435897436\n",
      "Epoch: 36 -- Erreur de reconstruction: 0.05737179487179487\n",
      "Epoch: 37 -- Erreur de reconstruction: 0.06201923076923077\n",
      "Epoch: 38 -- Erreur de reconstruction: 0.0577724358974359\n",
      "Epoch: 39 -- Erreur de reconstruction: 0.05857371794871795\n",
      "Epoch: 40 -- Erreur de reconstruction: 0.05488782051282051\n",
      "Epoch: 41 -- Erreur de reconstruction: 0.05689102564102564\n",
      "Epoch: 42 -- Erreur de reconstruction: 0.0532051282051282\n",
      "Epoch: 43 -- Erreur de reconstruction: 0.052724358974358974\n",
      "Epoch: 44 -- Erreur de reconstruction: 0.053044871794871794\n",
      "Epoch: 45 -- Erreur de reconstruction: 0.05008012820512821\n",
      "Epoch: 46 -- Erreur de reconstruction: 0.047115384615384615\n",
      "Epoch: 47 -- Erreur de reconstruction: 0.04887820512820513\n",
      "Epoch: 48 -- Erreur de reconstruction: 0.046314102564102566\n",
      "Epoch: 49 -- Erreur de reconstruction: 0.04519230769230769\n",
      "Epoch: 50 -- Erreur de reconstruction: 0.046153846153846156\n",
      "Epoch: 51 -- Erreur de reconstruction: 0.04439102564102564\n",
      "Epoch: 52 -- Erreur de reconstruction: 0.04358974358974359\n",
      "Epoch: 53 -- Erreur de reconstruction: 0.043028846153846154\n",
      "Epoch: 54 -- Erreur de reconstruction: 0.04158653846153846\n",
      "Epoch: 55 -- Erreur de reconstruction: 0.04342948717948718\n",
      "Epoch: 56 -- Erreur de reconstruction: 0.03990384615384615\n",
      "Epoch: 57 -- Erreur de reconstruction: 0.04038461538461539\n",
      "Epoch: 58 -- Erreur de reconstruction: 0.0391025641025641\n",
      "Epoch: 59 -- Erreur de reconstruction: 0.0375\n",
      "Epoch: 60 -- Erreur de reconstruction: 0.03637820512820513\n",
      "Epoch: 61 -- Erreur de reconstruction: 0.03733974358974359\n",
      "Epoch: 62 -- Erreur de reconstruction: 0.03365384615384615\n",
      "Epoch: 63 -- Erreur de reconstruction: 0.0342948717948718\n",
      "Epoch: 64 -- Erreur de reconstruction: 0.03501602564102564\n",
      "Epoch: 65 -- Erreur de reconstruction: 0.03261217948717949\n",
      "Epoch: 66 -- Erreur de reconstruction: 0.03309294871794872\n",
      "Epoch: 67 -- Erreur de reconstruction: 0.03421474358974359\n",
      "Epoch: 68 -- Erreur de reconstruction: 0.03373397435897436\n",
      "Epoch: 69 -- Erreur de reconstruction: 0.03445512820512821\n",
      "Epoch: 70 -- Erreur de reconstruction: 0.03141025641025641\n",
      "Epoch: 71 -- Erreur de reconstruction: 0.031330128205128205\n",
      "Epoch: 72 -- Erreur de reconstruction: 0.030368589743589743\n",
      "Epoch: 73 -- Erreur de reconstruction: 0.02980769230769231\n",
      "Epoch: 74 -- Erreur de reconstruction: 0.030448717948717948\n",
      "Epoch: 75 -- Erreur de reconstruction: 0.029006410256410257\n",
      "Epoch: 76 -- Erreur de reconstruction: 0.028685897435897435\n",
      "Epoch: 77 -- Erreur de reconstruction: 0.03108974358974359\n",
      "Epoch: 78 -- Erreur de reconstruction: 0.02956730769230769\n",
      "Epoch: 79 -- Erreur de reconstruction: 0.026923076923076925\n",
      "Epoch: 80 -- Erreur de reconstruction: 0.02876602564102564\n",
      "Epoch: 81 -- Erreur de reconstruction: 0.02716346153846154\n",
      "Epoch: 82 -- Erreur de reconstruction: 0.02676282051282051\n",
      "Epoch: 83 -- Erreur de reconstruction: 0.02564102564102564\n",
      "Epoch: 84 -- Erreur de reconstruction: 0.02435897435897436\n",
      "Epoch: 85 -- Erreur de reconstruction: 0.0297275641025641\n",
      "Epoch: 86 -- Erreur de reconstruction: 0.022756410256410255\n",
      "Epoch: 87 -- Erreur de reconstruction: 0.022916666666666665\n",
      "Epoch: 88 -- Erreur de reconstruction: 0.025560897435897435\n",
      "Epoch: 89 -- Erreur de reconstruction: 0.02435897435897436\n",
      "Epoch: 90 -- Erreur de reconstruction: 0.024599358974358974\n",
      "Epoch: 91 -- Erreur de reconstruction: 0.022275641025641026\n",
      "Epoch: 92 -- Erreur de reconstruction: 0.02219551282051282\n",
      "Epoch: 93 -- Erreur de reconstruction: 0.023878205128205127\n",
      "Epoch: 94 -- Erreur de reconstruction: 0.022115384615384617\n",
      "Epoch: 95 -- Erreur de reconstruction: 0.02283653846153846\n",
      "Epoch: 96 -- Erreur de reconstruction: 0.02251602564102564\n",
      "Epoch: 97 -- Erreur de reconstruction: 0.02235576923076923\n",
      "Epoch: 98 -- Erreur de reconstruction: 0.020993589743589742\n",
      "Epoch: 99 -- Erreur de reconstruction: 0.021875\n",
      "Epoch: 100 -- Erreur de reconstruction: 0.021794871794871794\n",
      "Epoch: 101 -- Erreur de reconstruction: 0.022435897435897436\n",
      "Epoch: 102 -- Erreur de reconstruction: 0.021955128205128203\n",
      "Epoch: 103 -- Erreur de reconstruction: 0.020993589743589742\n",
      "Epoch: 104 -- Erreur de reconstruction: 0.021875\n",
      "Epoch: 105 -- Erreur de reconstruction: 0.022035256410256412\n",
      "Epoch: 106 -- Erreur de reconstruction: 0.01858974358974359\n",
      "Epoch: 107 -- Erreur de reconstruction: 0.019791666666666666\n",
      "Epoch: 108 -- Erreur de reconstruction: 0.019150641025641027\n",
      "Epoch: 109 -- Erreur de reconstruction: 0.020352564102564103\n",
      "Epoch: 110 -- Erreur de reconstruction: 0.017868589743589743\n",
      "Epoch: 111 -- Erreur de reconstruction: 0.01875\n",
      "Epoch: 112 -- Erreur de reconstruction: 0.018830128205128204\n",
      "Epoch: 113 -- Erreur de reconstruction: 0.01842948717948718\n",
      "Epoch: 114 -- Erreur de reconstruction: 0.01746794871794872\n",
      "Epoch: 115 -- Erreur de reconstruction: 0.020032051282051284\n",
      "Epoch: 116 -- Erreur de reconstruction: 0.01939102564102564\n",
      "Epoch: 117 -- Erreur de reconstruction: 0.019310897435897437\n",
      "Epoch: 118 -- Erreur de reconstruction: 0.02123397435897436\n",
      "Epoch: 119 -- Erreur de reconstruction: 0.02011217948717949\n",
      "Epoch: 120 -- Erreur de reconstruction: 0.01891025641025641\n",
      "Epoch: 121 -- Erreur de reconstruction: 0.01674679487179487\n",
      "Epoch: 122 -- Erreur de reconstruction: 0.01706730769230769\n",
      "Epoch: 123 -- Erreur de reconstruction: 0.017788461538461538\n",
      "Epoch: 124 -- Erreur de reconstruction: 0.017948717948717947\n",
      "Epoch: 125 -- Erreur de reconstruction: 0.016826923076923076\n",
      "Epoch: 126 -- Erreur de reconstruction: 0.017227564102564104\n",
      "Epoch: 127 -- Erreur de reconstruction: 0.01875\n",
      "Epoch: 128 -- Erreur de reconstruction: 0.017868589743589743\n",
      "Epoch: 129 -- Erreur de reconstruction: 0.01706730769230769\n",
      "Epoch: 130 -- Erreur de reconstruction: 0.016987179487179486\n",
      "Epoch: 131 -- Erreur de reconstruction: 0.017868589743589743\n",
      "Epoch: 132 -- Erreur de reconstruction: 0.016506410256410257\n",
      "Epoch: 133 -- Erreur de reconstruction: 0.016185897435897437\n",
      "Epoch: 134 -- Erreur de reconstruction: 0.016506410256410257\n",
      "Epoch: 135 -- Erreur de reconstruction: 0.016025641025641024\n",
      "Epoch: 136 -- Erreur de reconstruction: 0.015544871794871795\n",
      "Epoch: 137 -- Erreur de reconstruction: 0.015384615384615385\n",
      "Epoch: 138 -- Erreur de reconstruction: 0.014102564102564103\n",
      "Epoch: 139 -- Erreur de reconstruction: 0.013541666666666667\n",
      "Epoch: 140 -- Erreur de reconstruction: 0.01546474358974359\n",
      "Epoch: 141 -- Erreur de reconstruction: 0.016025641025641024\n",
      "Epoch: 142 -- Erreur de reconstruction: 0.014823717948717948\n",
      "Epoch: 143 -- Erreur de reconstruction: 0.013221153846153846\n",
      "Epoch: 144 -- Erreur de reconstruction: 0.01658653846153846\n",
      "Epoch: 145 -- Erreur de reconstruction: 0.014743589743589743\n",
      "Epoch: 146 -- Erreur de reconstruction: 0.015384615384615385\n",
      "Epoch: 147 -- Erreur de reconstruction: 0.013782051282051282\n",
      "Epoch: 148 -- Erreur de reconstruction: 0.014663461538461538\n",
      "Epoch: 149 -- Erreur de reconstruction: 0.014182692307692308\n",
      "Epoch: 150 -- Erreur de reconstruction: 0.014022435897435898\n",
      "Epoch: 151 -- Erreur de reconstruction: 0.014423076923076924\n",
      "Epoch: 152 -- Erreur de reconstruction: 0.01330128205128205\n",
      "Epoch: 153 -- Erreur de reconstruction: 0.012580128205128206\n",
      "Epoch: 154 -- Erreur de reconstruction: 0.015865384615384615\n",
      "Epoch: 155 -- Erreur de reconstruction: 0.01514423076923077\n",
      "Epoch: 156 -- Erreur de reconstruction: 0.014182692307692308\n",
      "Epoch: 157 -- Erreur de reconstruction: 0.013221153846153846\n",
      "Epoch: 158 -- Erreur de reconstruction: 0.012740384615384615\n",
      "Epoch: 159 -- Erreur de reconstruction: 0.014182692307692308\n",
      "Epoch: 160 -- Erreur de reconstruction: 0.01201923076923077\n",
      "Epoch: 161 -- Erreur de reconstruction: 0.013621794871794872\n",
      "Epoch: 162 -- Erreur de reconstruction: 0.013701923076923077\n",
      "Epoch: 163 -- Erreur de reconstruction: 0.012900641025641025\n",
      "Epoch: 164 -- Erreur de reconstruction: 0.014423076923076924\n",
      "Epoch: 165 -- Erreur de reconstruction: 0.01330128205128205\n",
      "Epoch: 166 -- Erreur de reconstruction: 0.012259615384615384\n",
      "Epoch: 167 -- Erreur de reconstruction: 0.012740384615384615\n",
      "Epoch: 168 -- Erreur de reconstruction: 0.011298076923076923\n",
      "Epoch: 169 -- Erreur de reconstruction: 0.011458333333333333\n",
      "Epoch: 170 -- Erreur de reconstruction: 0.013060897435897436\n",
      "Epoch: 171 -- Erreur de reconstruction: 0.011378205128205128\n",
      "Epoch: 172 -- Erreur de reconstruction: 0.01233974358974359\n",
      "Epoch: 173 -- Erreur de reconstruction: 0.011698717948717949\n",
      "Epoch: 174 -- Erreur de reconstruction: 0.012259615384615384\n",
      "Epoch: 175 -- Erreur de reconstruction: 0.013461538461538462\n",
      "Epoch: 176 -- Erreur de reconstruction: 0.012419871794871794\n",
      "Epoch: 177 -- Erreur de reconstruction: 0.012740384615384615\n",
      "Epoch: 178 -- Erreur de reconstruction: 0.012740384615384615\n",
      "Epoch: 179 -- Erreur de reconstruction: 0.01217948717948718\n",
      "Epoch: 180 -- Erreur de reconstruction: 0.010977564102564102\n",
      "Epoch: 181 -- Erreur de reconstruction: 0.012259615384615384\n",
      "Epoch: 182 -- Erreur de reconstruction: 0.011378205128205128\n",
      "Epoch: 183 -- Erreur de reconstruction: 0.013782051282051282\n",
      "Epoch: 184 -- Erreur de reconstruction: 0.011458333333333333\n",
      "Epoch: 185 -- Erreur de reconstruction: 0.011378205128205128\n",
      "Epoch: 186 -- Erreur de reconstruction: 0.010416666666666666\n",
      "Epoch: 187 -- Erreur de reconstruction: 0.011378205128205128\n",
      "Epoch: 188 -- Erreur de reconstruction: 0.012259615384615384\n",
      "Epoch: 189 -- Erreur de reconstruction: 0.011618589743589744\n",
      "Epoch: 190 -- Erreur de reconstruction: 0.011778846153846154\n",
      "Epoch: 191 -- Erreur de reconstruction: 0.010576923076923078\n",
      "Epoch: 192 -- Erreur de reconstruction: 0.011137820512820513\n",
      "Epoch: 193 -- Erreur de reconstruction: 0.010657051282051282\n",
      "Epoch: 194 -- Erreur de reconstruction: 0.010096153846153847\n",
      "Epoch: 195 -- Erreur de reconstruction: 0.009615384615384616\n",
      "Epoch: 196 -- Erreur de reconstruction: 0.010977564102564102\n",
      "Epoch: 197 -- Erreur de reconstruction: 0.010256410256410256\n",
      "Epoch: 198 -- Erreur de reconstruction: 0.009375\n",
      "Epoch: 199 -- Erreur de reconstruction: 0.008493589743589743\n",
      "Epoch: 200 -- Erreur de reconstruction: 0.010336538461538461\n",
      "Epoch: 201 -- Erreur de reconstruction: 0.010817307692307692\n",
      "Epoch: 202 -- Erreur de reconstruction: 0.009935897435897435\n",
      "Epoch: 203 -- Erreur de reconstruction: 0.009535256410256411\n",
      "Epoch: 204 -- Erreur de reconstruction: 0.009535256410256411\n",
      "Epoch: 205 -- Erreur de reconstruction: 0.010256410256410256\n",
      "Epoch: 206 -- Erreur de reconstruction: 0.009134615384615385\n",
      "Epoch: 207 -- Erreur de reconstruction: 0.010096153846153847\n",
      "Epoch: 208 -- Erreur de reconstruction: 0.010817307692307692\n",
      "Epoch: 209 -- Erreur de reconstruction: 0.009375\n",
      "Epoch: 210 -- Erreur de reconstruction: 0.009615384615384616\n",
      "Epoch: 211 -- Erreur de reconstruction: 0.00921474358974359\n",
      "Epoch: 212 -- Erreur de reconstruction: 0.009375\n",
      "Epoch: 213 -- Erreur de reconstruction: 0.009535256410256411\n",
      "Epoch: 214 -- Erreur de reconstruction: 0.008974358974358974\n",
      "Epoch: 215 -- Erreur de reconstruction: 0.010737179487179487\n",
      "Epoch: 216 -- Erreur de reconstruction: 0.009775641025641026\n",
      "Epoch: 217 -- Erreur de reconstruction: 0.010897435897435897\n",
      "Epoch: 218 -- Erreur de reconstruction: 0.00857371794871795\n",
      "Epoch: 219 -- Erreur de reconstruction: 0.010016025641025642\n",
      "Epoch: 220 -- Erreur de reconstruction: 0.009134615384615385\n",
      "Epoch: 221 -- Erreur de reconstruction: 0.00905448717948718\n",
      "Epoch: 222 -- Erreur de reconstruction: 0.007532051282051282\n",
      "Epoch: 223 -- Erreur de reconstruction: 0.008092948717948719\n",
      "Epoch: 224 -- Erreur de reconstruction: 0.008092948717948719\n",
      "Epoch: 225 -- Erreur de reconstruction: 0.009935897435897435\n",
      "Epoch: 226 -- Erreur de reconstruction: 0.00873397435897436\n",
      "Epoch: 227 -- Erreur de reconstruction: 0.008493589743589743\n",
      "Epoch: 228 -- Erreur de reconstruction: 0.008173076923076924\n",
      "Epoch: 229 -- Erreur de reconstruction: 0.008974358974358974\n",
      "Epoch: 230 -- Erreur de reconstruction: 0.008012820512820512\n",
      "Epoch: 231 -- Erreur de reconstruction: 0.008814102564102564\n",
      "Epoch: 232 -- Erreur de reconstruction: 0.00873397435897436\n",
      "Epoch: 233 -- Erreur de reconstruction: 0.009294871794871795\n",
      "Epoch: 234 -- Erreur de reconstruction: 0.00857371794871795\n",
      "Epoch: 235 -- Erreur de reconstruction: 0.009134615384615385\n",
      "Epoch: 236 -- Erreur de reconstruction: 0.008814102564102564\n",
      "Epoch: 237 -- Erreur de reconstruction: 0.009535256410256411\n",
      "Epoch: 238 -- Erreur de reconstruction: 0.008253205128205128\n",
      "Epoch: 239 -- Erreur de reconstruction: 0.009455128205128204\n",
      "Epoch: 240 -- Erreur de reconstruction: 0.008253205128205128\n",
      "Epoch: 241 -- Erreur de reconstruction: 0.008974358974358974\n",
      "Epoch: 242 -- Erreur de reconstruction: 0.008012820512820512\n",
      "Epoch: 243 -- Erreur de reconstruction: 0.009455128205128204\n",
      "Epoch: 244 -- Erreur de reconstruction: 0.00985576923076923\n",
      "Epoch: 245 -- Erreur de reconstruction: 0.008092948717948719\n",
      "Epoch: 246 -- Erreur de reconstruction: 0.009455128205128204\n",
      "Epoch: 247 -- Erreur de reconstruction: 0.008333333333333333\n",
      "Epoch: 248 -- Erreur de reconstruction: 0.008012820512820512\n",
      "Epoch: 249 -- Erreur de reconstruction: 0.008413461538461538\n",
      "Epoch: 250 -- Erreur de reconstruction: 0.007612179487179487\n",
      "Epoch: 251 -- Erreur de reconstruction: 0.007532051282051282\n",
      "Epoch: 252 -- Erreur de reconstruction: 0.007051282051282051\n",
      "Epoch: 253 -- Erreur de reconstruction: 0.007371794871794872\n",
      "Epoch: 254 -- Erreur de reconstruction: 0.007612179487179487\n",
      "Epoch: 255 -- Erreur de reconstruction: 0.007211538461538462\n",
      "Epoch: 256 -- Erreur de reconstruction: 0.006730769230769231\n",
      "Epoch: 257 -- Erreur de reconstruction: 0.007532051282051282\n",
      "Epoch: 258 -- Erreur de reconstruction: 0.007772435897435898\n",
      "Epoch: 259 -- Erreur de reconstruction: 0.008012820512820512\n",
      "Epoch: 260 -- Erreur de reconstruction: 0.008493589743589743\n",
      "Epoch: 261 -- Erreur de reconstruction: 0.009294871794871795\n",
      "Epoch: 262 -- Erreur de reconstruction: 0.006490384615384616\n",
      "Epoch: 263 -- Erreur de reconstruction: 0.007772435897435898\n",
      "Epoch: 264 -- Erreur de reconstruction: 0.007451923076923077\n",
      "Epoch: 265 -- Erreur de reconstruction: 0.00857371794871795\n",
      "Epoch: 266 -- Erreur de reconstruction: 0.007932692307692307\n",
      "Epoch: 267 -- Erreur de reconstruction: 0.008173076923076924\n",
      "Epoch: 268 -- Erreur de reconstruction: 0.007852564102564102\n",
      "Epoch: 269 -- Erreur de reconstruction: 0.0069711538461538465\n",
      "Epoch: 270 -- Erreur de reconstruction: 0.007131410256410256\n",
      "Epoch: 271 -- Erreur de reconstruction: 0.008092948717948719\n",
      "Epoch: 272 -- Erreur de reconstruction: 0.007291666666666667\n",
      "Epoch: 273 -- Erreur de reconstruction: 0.006730769230769231\n",
      "Epoch: 274 -- Erreur de reconstruction: 0.00969551282051282\n",
      "Epoch: 275 -- Erreur de reconstruction: 0.007371794871794872\n",
      "Epoch: 276 -- Erreur de reconstruction: 0.00641025641025641\n",
      "Epoch: 277 -- Erreur de reconstruction: 0.0069711538461538465\n",
      "Epoch: 278 -- Erreur de reconstruction: 0.006650641025641025\n",
      "Epoch: 279 -- Erreur de reconstruction: 0.007131410256410256\n",
      "Epoch: 280 -- Erreur de reconstruction: 0.008333333333333333\n",
      "Epoch: 281 -- Erreur de reconstruction: 0.006490384615384616\n",
      "Epoch: 282 -- Erreur de reconstruction: 0.007211538461538462\n",
      "Epoch: 283 -- Erreur de reconstruction: 0.006009615384615385\n",
      "Epoch: 284 -- Erreur de reconstruction: 0.006730769230769231\n",
      "Epoch: 285 -- Erreur de reconstruction: 0.007291666666666667\n",
      "Epoch: 286 -- Erreur de reconstruction: 0.007932692307692307\n",
      "Epoch: 287 -- Erreur de reconstruction: 0.006009615384615385\n",
      "Epoch: 288 -- Erreur de reconstruction: 0.005689102564102564\n",
      "Epoch: 289 -- Erreur de reconstruction: 0.007051282051282051\n",
      "Epoch: 290 -- Erreur de reconstruction: 0.008253205128205128\n",
      "Epoch: 291 -- Erreur de reconstruction: 0.007131410256410256\n",
      "Epoch: 292 -- Erreur de reconstruction: 0.007211538461538462\n",
      "Epoch: 293 -- Erreur de reconstruction: 0.006650641025641025\n",
      "Epoch: 294 -- Erreur de reconstruction: 0.007371794871794872\n",
      "Epoch: 295 -- Erreur de reconstruction: 0.007532051282051282\n",
      "Epoch: 296 -- Erreur de reconstruction: 0.007291666666666667\n",
      "Epoch: 297 -- Erreur de reconstruction: 0.007451923076923077\n",
      "Epoch: 298 -- Erreur de reconstruction: 0.008092948717948719\n",
      "Epoch: 299 -- Erreur de reconstruction: 0.006490384615384616\n",
      "Epoch: 300 -- Erreur de reconstruction: 0.005288461538461539\n",
      "Epoch: 301 -- Erreur de reconstruction: 0.007211538461538462\n",
      "Epoch: 302 -- Erreur de reconstruction: 0.006891025641025641\n",
      "Epoch: 303 -- Erreur de reconstruction: 0.006891025641025641\n",
      "Epoch: 304 -- Erreur de reconstruction: 0.00641025641025641\n",
      "Epoch: 305 -- Erreur de reconstruction: 0.006570512820512821\n",
      "Epoch: 306 -- Erreur de reconstruction: 0.00625\n",
      "Epoch: 307 -- Erreur de reconstruction: 0.006570512820512821\n",
      "Epoch: 308 -- Erreur de reconstruction: 0.005849358974358974\n",
      "Epoch: 309 -- Erreur de reconstruction: 0.006570512820512821\n",
      "Epoch: 310 -- Erreur de reconstruction: 0.007131410256410256\n",
      "Epoch: 311 -- Erreur de reconstruction: 0.006169871794871795\n",
      "Epoch: 312 -- Erreur de reconstruction: 0.004887820512820513\n",
      "Epoch: 313 -- Erreur de reconstruction: 0.0057692307692307696\n",
      "Epoch: 314 -- Erreur de reconstruction: 0.005929487179487179\n",
      "Epoch: 315 -- Erreur de reconstruction: 0.005929487179487179\n",
      "Epoch: 316 -- Erreur de reconstruction: 0.005368589743589744\n",
      "Epoch: 317 -- Erreur de reconstruction: 0.0069711538461538465\n",
      "Epoch: 318 -- Erreur de reconstruction: 0.0057692307692307696\n",
      "Epoch: 319 -- Erreur de reconstruction: 0.006330128205128205\n",
      "Epoch: 320 -- Erreur de reconstruction: 0.00608974358974359\n",
      "Epoch: 321 -- Erreur de reconstruction: 0.005849358974358974\n",
      "Epoch: 322 -- Erreur de reconstruction: 0.007131410256410256\n",
      "Epoch: 323 -- Erreur de reconstruction: 0.006810897435897436\n",
      "Epoch: 324 -- Erreur de reconstruction: 0.00641025641025641\n",
      "Epoch: 325 -- Erreur de reconstruction: 0.006009615384615385\n",
      "Epoch: 326 -- Erreur de reconstruction: 0.006330128205128205\n",
      "Epoch: 327 -- Erreur de reconstruction: 0.0069711538461538465\n",
      "Epoch: 328 -- Erreur de reconstruction: 0.005368589743589744\n",
      "Epoch: 329 -- Erreur de reconstruction: 0.005368589743589744\n",
      "Epoch: 330 -- Erreur de reconstruction: 0.0057692307692307696\n",
      "Epoch: 331 -- Erreur de reconstruction: 0.007371794871794872\n",
      "Epoch: 332 -- Erreur de reconstruction: 0.006490384615384616\n",
      "Epoch: 333 -- Erreur de reconstruction: 0.006009615384615385\n",
      "Epoch: 334 -- Erreur de reconstruction: 0.0057692307692307696\n",
      "Epoch: 335 -- Erreur de reconstruction: 0.005528846153846154\n",
      "Epoch: 336 -- Erreur de reconstruction: 0.005368589743589744\n",
      "Epoch: 337 -- Erreur de reconstruction: 0.006570512820512821\n",
      "Epoch: 338 -- Erreur de reconstruction: 0.004967948717948718\n",
      "Epoch: 339 -- Erreur de reconstruction: 0.007051282051282051\n",
      "Epoch: 340 -- Erreur de reconstruction: 0.006570512820512821\n",
      "Epoch: 341 -- Erreur de reconstruction: 0.005849358974358974\n",
      "Epoch: 342 -- Erreur de reconstruction: 0.005689102564102564\n",
      "Epoch: 343 -- Erreur de reconstruction: 0.00625\n",
      "Epoch: 344 -- Erreur de reconstruction: 0.00641025641025641\n",
      "Epoch: 345 -- Erreur de reconstruction: 0.005528846153846154\n",
      "Epoch: 346 -- Erreur de reconstruction: 0.005689102564102564\n",
      "Epoch: 347 -- Erreur de reconstruction: 0.0045673076923076926\n",
      "Epoch: 348 -- Erreur de reconstruction: 0.006169871794871795\n",
      "Epoch: 349 -- Erreur de reconstruction: 0.005288461538461539\n",
      "Epoch: 350 -- Erreur de reconstruction: 0.004807692307692308\n",
      "Epoch: 351 -- Erreur de reconstruction: 0.004887820512820513\n",
      "Epoch: 352 -- Erreur de reconstruction: 0.006169871794871795\n",
      "Epoch: 353 -- Erreur de reconstruction: 0.005849358974358974\n",
      "Epoch: 354 -- Erreur de reconstruction: 0.005929487179487179\n",
      "Epoch: 355 -- Erreur de reconstruction: 0.006730769230769231\n",
      "Epoch: 356 -- Erreur de reconstruction: 0.006650641025641025\n",
      "Epoch: 357 -- Erreur de reconstruction: 0.006169871794871795\n",
      "Epoch: 358 -- Erreur de reconstruction: 0.005128205128205128\n",
      "Epoch: 359 -- Erreur de reconstruction: 0.0057692307692307696\n",
      "Epoch: 360 -- Erreur de reconstruction: 0.005288461538461539\n",
      "Epoch: 361 -- Erreur de reconstruction: 0.004727564102564102\n",
      "Epoch: 362 -- Erreur de reconstruction: 0.004887820512820513\n",
      "Epoch: 363 -- Erreur de reconstruction: 0.00625\n",
      "Epoch: 364 -- Erreur de reconstruction: 0.006169871794871795\n",
      "Epoch: 365 -- Erreur de reconstruction: 0.00625\n",
      "Epoch: 366 -- Erreur de reconstruction: 0.004807692307692308\n",
      "Epoch: 367 -- Erreur de reconstruction: 0.004727564102564102\n",
      "Epoch: 368 -- Erreur de reconstruction: 0.004647435897435897\n",
      "Epoch: 369 -- Erreur de reconstruction: 0.005849358974358974\n",
      "Epoch: 370 -- Erreur de reconstruction: 0.004887820512820513\n",
      "Epoch: 371 -- Erreur de reconstruction: 0.005689102564102564\n",
      "Epoch: 372 -- Erreur de reconstruction: 0.004967948717948718\n",
      "Epoch: 373 -- Erreur de reconstruction: 0.0057692307692307696\n",
      "Epoch: 374 -- Erreur de reconstruction: 0.006009615384615385\n",
      "Epoch: 375 -- Erreur de reconstruction: 0.005929487179487179\n",
      "Epoch: 376 -- Erreur de reconstruction: 0.005689102564102564\n",
      "Epoch: 377 -- Erreur de reconstruction: 0.005368589743589744\n",
      "Epoch: 378 -- Erreur de reconstruction: 0.004967948717948718\n",
      "Epoch: 379 -- Erreur de reconstruction: 0.005208333333333333\n",
      "Epoch: 380 -- Erreur de reconstruction: 0.005288461538461539\n",
      "Epoch: 381 -- Erreur de reconstruction: 0.005849358974358974\n",
      "Epoch: 382 -- Erreur de reconstruction: 0.005929487179487179\n",
      "Epoch: 383 -- Erreur de reconstruction: 0.004807692307692308\n",
      "Epoch: 384 -- Erreur de reconstruction: 0.005368589743589744\n",
      "Epoch: 385 -- Erreur de reconstruction: 0.004887820512820513\n",
      "Epoch: 386 -- Erreur de reconstruction: 0.005128205128205128\n",
      "Epoch: 387 -- Erreur de reconstruction: 0.0054487179487179484\n",
      "Epoch: 388 -- Erreur de reconstruction: 0.0045673076923076926\n",
      "Epoch: 389 -- Erreur de reconstruction: 0.005048076923076923\n",
      "Epoch: 390 -- Erreur de reconstruction: 0.006009615384615385\n",
      "Epoch: 391 -- Erreur de reconstruction: 0.004487179487179487\n",
      "Epoch: 392 -- Erreur de reconstruction: 0.005849358974358974\n",
      "Epoch: 393 -- Erreur de reconstruction: 0.004807692307692308\n",
      "Epoch: 394 -- Erreur de reconstruction: 0.0057692307692307696\n",
      "Epoch: 395 -- Erreur de reconstruction: 0.005849358974358974\n",
      "Epoch: 396 -- Erreur de reconstruction: 0.005368589743589744\n",
      "Epoch: 397 -- Erreur de reconstruction: 0.004727564102564102\n",
      "Epoch: 398 -- Erreur de reconstruction: 0.005608974358974359\n",
      "Epoch: 399 -- Erreur de reconstruction: 0.005128205128205128\n",
      "Epoch: 400 -- Erreur de reconstruction: 0.005288461538461539\n",
      "Epoch: 401 -- Erreur de reconstruction: 0.005128205128205128\n",
      "Epoch: 402 -- Erreur de reconstruction: 0.005128205128205128\n",
      "Epoch: 403 -- Erreur de reconstruction: 0.004807692307692308\n",
      "Epoch: 404 -- Erreur de reconstruction: 0.005528846153846154\n",
      "Epoch: 405 -- Erreur de reconstruction: 0.004887820512820513\n",
      "Epoch: 406 -- Erreur de reconstruction: 0.00625\n",
      "Epoch: 407 -- Erreur de reconstruction: 0.005128205128205128\n",
      "Epoch: 408 -- Erreur de reconstruction: 0.004807692307692308\n",
      "Epoch: 409 -- Erreur de reconstruction: 0.005048076923076923\n",
      "Epoch: 410 -- Erreur de reconstruction: 0.0042467948717948715\n",
      "Epoch: 411 -- Erreur de reconstruction: 0.004006410256410256\n",
      "Epoch: 412 -- Erreur de reconstruction: 0.0069711538461538465\n",
      "Epoch: 413 -- Erreur de reconstruction: 0.0057692307692307696\n",
      "Epoch: 414 -- Erreur de reconstruction: 0.004326923076923077\n",
      "Epoch: 415 -- Erreur de reconstruction: 0.005368589743589744\n",
      "Epoch: 416 -- Erreur de reconstruction: 0.004807692307692308\n",
      "Epoch: 417 -- Erreur de reconstruction: 0.004086538461538462\n",
      "Epoch: 418 -- Erreur de reconstruction: 0.006169871794871795\n",
      "Epoch: 419 -- Erreur de reconstruction: 0.004326923076923077\n",
      "Epoch: 420 -- Erreur de reconstruction: 0.004086538461538462\n",
      "Epoch: 421 -- Erreur de reconstruction: 0.004487179487179487\n",
      "Epoch: 422 -- Erreur de reconstruction: 0.004407051282051282\n",
      "Epoch: 423 -- Erreur de reconstruction: 0.005528846153846154\n",
      "Epoch: 424 -- Erreur de reconstruction: 0.005208333333333333\n",
      "Epoch: 425 -- Erreur de reconstruction: 0.005128205128205128\n",
      "Epoch: 426 -- Erreur de reconstruction: 0.005128205128205128\n",
      "Epoch: 427 -- Erreur de reconstruction: 0.0045673076923076926\n",
      "Epoch: 428 -- Erreur de reconstruction: 0.0045673076923076926\n",
      "Epoch: 429 -- Erreur de reconstruction: 0.004166666666666667\n",
      "Epoch: 430 -- Erreur de reconstruction: 0.004407051282051282\n",
      "Epoch: 431 -- Erreur de reconstruction: 0.004487179487179487\n",
      "Epoch: 432 -- Erreur de reconstruction: 0.005208333333333333\n",
      "Epoch: 433 -- Erreur de reconstruction: 0.0042467948717948715\n",
      "Epoch: 434 -- Erreur de reconstruction: 0.004326923076923077\n",
      "Epoch: 435 -- Erreur de reconstruction: 0.0034455128205128204\n",
      "Epoch: 436 -- Erreur de reconstruction: 0.004647435897435897\n",
      "Epoch: 437 -- Erreur de reconstruction: 0.004407051282051282\n",
      "Epoch: 438 -- Erreur de reconstruction: 0.0042467948717948715\n",
      "Epoch: 439 -- Erreur de reconstruction: 0.0045673076923076926\n",
      "Epoch: 440 -- Erreur de reconstruction: 0.004166666666666667\n",
      "Epoch: 441 -- Erreur de reconstruction: 0.0035256410256410257\n",
      "Epoch: 442 -- Erreur de reconstruction: 0.005528846153846154\n",
      "Epoch: 443 -- Erreur de reconstruction: 0.003605769230769231\n",
      "Epoch: 444 -- Erreur de reconstruction: 0.004647435897435897\n",
      "Epoch: 445 -- Erreur de reconstruction: 0.005288461538461539\n",
      "Epoch: 446 -- Erreur de reconstruction: 0.003205128205128205\n",
      "Epoch: 447 -- Erreur de reconstruction: 0.005128205128205128\n",
      "Epoch: 448 -- Erreur de reconstruction: 0.004326923076923077\n",
      "Epoch: 449 -- Erreur de reconstruction: 0.003125\n",
      "Epoch: 450 -- Erreur de reconstruction: 0.004407051282051282\n",
      "Epoch: 451 -- Erreur de reconstruction: 0.004086538461538462\n",
      "Epoch: 452 -- Erreur de reconstruction: 0.004727564102564102\n",
      "Epoch: 453 -- Erreur de reconstruction: 0.004326923076923077\n",
      "Epoch: 454 -- Erreur de reconstruction: 0.005128205128205128\n",
      "Epoch: 455 -- Erreur de reconstruction: 0.0045673076923076926\n",
      "Epoch: 456 -- Erreur de reconstruction: 0.003926282051282051\n",
      "Epoch: 457 -- Erreur de reconstruction: 0.004166666666666667\n",
      "Epoch: 458 -- Erreur de reconstruction: 0.003926282051282051\n",
      "Epoch: 459 -- Erreur de reconstruction: 0.0034455128205128204\n",
      "Epoch: 460 -- Erreur de reconstruction: 0.004807692307692308\n",
      "Epoch: 461 -- Erreur de reconstruction: 0.005689102564102564\n",
      "Epoch: 462 -- Erreur de reconstruction: 0.003605769230769231\n",
      "Epoch: 463 -- Erreur de reconstruction: 0.004326923076923077\n",
      "Epoch: 464 -- Erreur de reconstruction: 0.004727564102564102\n",
      "Epoch: 465 -- Erreur de reconstruction: 0.004407051282051282\n",
      "Epoch: 466 -- Erreur de reconstruction: 0.004326923076923077\n",
      "Epoch: 467 -- Erreur de reconstruction: 0.004887820512820513\n",
      "Epoch: 468 -- Erreur de reconstruction: 0.004326923076923077\n",
      "Epoch: 469 -- Erreur de reconstruction: 0.0038461538461538464\n",
      "Epoch: 470 -- Erreur de reconstruction: 0.005208333333333333\n",
      "Epoch: 471 -- Erreur de reconstruction: 0.004807692307692308\n",
      "Epoch: 472 -- Erreur de reconstruction: 0.004727564102564102\n",
      "Epoch: 473 -- Erreur de reconstruction: 0.004006410256410256\n",
      "Epoch: 474 -- Erreur de reconstruction: 0.004166666666666667\n",
      "Epoch: 475 -- Erreur de reconstruction: 0.004086538461538462\n",
      "Epoch: 476 -- Erreur de reconstruction: 0.0038461538461538464\n",
      "Epoch: 477 -- Erreur de reconstruction: 0.0035256410256410257\n",
      "Epoch: 478 -- Erreur de reconstruction: 0.004647435897435897\n",
      "Epoch: 479 -- Erreur de reconstruction: 0.0045673076923076926\n",
      "Epoch: 480 -- Erreur de reconstruction: 0.004887820512820513\n",
      "Epoch: 481 -- Erreur de reconstruction: 0.003605769230769231\n",
      "Epoch: 482 -- Erreur de reconstruction: 0.005048076923076923\n",
      "Epoch: 483 -- Erreur de reconstruction: 0.004006410256410256\n",
      "Epoch: 484 -- Erreur de reconstruction: 0.0034455128205128204\n",
      "Epoch: 485 -- Erreur de reconstruction: 0.005368589743589744\n",
      "Epoch: 486 -- Erreur de reconstruction: 0.0035256410256410257\n",
      "Epoch: 487 -- Erreur de reconstruction: 0.004807692307692308\n",
      "Epoch: 488 -- Erreur de reconstruction: 0.004166666666666667\n",
      "Epoch: 489 -- Erreur de reconstruction: 0.004887820512820513\n",
      "Epoch: 490 -- Erreur de reconstruction: 0.004166666666666667\n",
      "Epoch: 491 -- Erreur de reconstruction: 0.0028044871794871795\n",
      "Epoch: 492 -- Erreur de reconstruction: 0.003926282051282051\n",
      "Epoch: 493 -- Erreur de reconstruction: 0.004647435897435897\n",
      "Epoch: 494 -- Erreur de reconstruction: 0.003766025641025641\n",
      "Epoch: 495 -- Erreur de reconstruction: 0.005128205128205128\n",
      "Epoch: 496 -- Erreur de reconstruction: 0.0034455128205128204\n",
      "Epoch: 497 -- Erreur de reconstruction: 0.004487179487179487\n",
      "Epoch: 498 -- Erreur de reconstruction: 0.004967948717948718\n",
      "Epoch: 499 -- Erreur de reconstruction: 0.004086538461538462\n"
     ]
    },
    {
     "data": {
      "image/png": "[encoded data removed]",
      "text/plain": [
       "<Figure size 432x288 with 1 Axes>"
      ]
     },
     "metadata": {
      "needs_background": "light"
     },
     "output_type": "display_data"
    },
    {
     "data": {
      "image/png": "[encoded data removed]",
      "text/plain": [
       "<Figure size 432x288 with 1 Axes>"
      ]
     },
     "metadata": {
      "needs_background": "light"
     },
     "output_type": "display_data"
    },
    {
     "data": {
      "image/png": "[encoded data removed]",
      "text/plain": [
       "<Figure size 432x288 with 1 Axes>"
      ]
     },
     "metadata": {
      "needs_background": "light"
     },
     "output_type": "display_data"
    }
   ],
   "source": [
    "# Récuperons les données\n",
    "digits_list = ['Z']\n",
    "# X a pour format (n, p). n = 39*nbr_digits pour alphadigits et 20*16 pixels par image\n",
    "X = lire_alpha_digit(digits_list)\n",
    "# Numéro de pixels de l'image\n",
    "p = X.shape[1]\n",
    "# numero de classes\n",
    "#q = len(digits_list)\n",
    "q = 100\n",
    "# Initializer le RBM \n",
    "rbm_unit = init_RBM(p, q)\n",
    "# train \n",
    "trained_rbm = train_RBM(rbm_unit, X, epochs=500, learning_rate=0.1, batch_size=3, cd_k=1)\n",
    "# Reconstruisons les images \n",
    "generer_image_RBM(trained_rbm, nbr_iterations_gibbs=1000, nbr_images=3, image_shape=(20, 16))"
   ]
  },
  {
   "cell_type": "code",
   "execution_count": null,
   "id": "collect-bhutan",
   "metadata": {},
   "outputs": [],
   "source": []
  },
  {
   "cell_type": "markdown",
   "id": "wrapped-natural",
   "metadata": {},
   "source": [
    "# Miscellaneous"
   ]
  },
  {
   "cell_type": "code",
   "execution_count": 6,
   "id": "abroad-posting",
   "metadata": {},
   "outputs": [
    {
     "name": "stdout",
     "output_type": "stream",
     "text": [
      "File already downloaded, using version in data folder..\n"
     ]
    }
   ],
   "source": [
    "digits_list = ['A', 'B', 'C']\n",
    "data = lire_alpha_digit(digits_list)\n",
    "#data[0][38].flatten().shape"
   ]
  },
  {
   "cell_type": "code",
   "execution_count": 7,
   "id": "relative-prediction",
   "metadata": {},
   "outputs": [
    {
     "data": {
      "text/plain": [
       "(117, 320)"
      ]
     },
     "execution_count": 7,
     "metadata": {},
     "output_type": "execute_result"
    }
   ],
   "source": [
    "data.shape"
   ]
  },
  {
   "cell_type": "code",
   "execution_count": 54,
   "id": "roman-james",
   "metadata": {},
   "outputs": [
    {
     "data": {
      "text/plain": [
       "(39, 320)"
      ]
     },
     "execution_count": 54,
     "metadata": {},
     "output_type": "execute_result"
    }
   ],
   "source": [
    "np.stack(data[0]).reshape(-1, 20*16).shape"
   ]
  },
  {
   "cell_type": "code",
   "execution_count": 58,
   "id": "quality-advisory",
   "metadata": {},
   "outputs": [
    {
     "data": {
      "text/plain": [
       "(2, 39)"
      ]
     },
     "execution_count": 58,
     "metadata": {},
     "output_type": "execute_result"
    }
   ],
   "source": [
    "np.stack(data, axis=0).shape#.reshape(-1, 20*16).shape"
   ]
  },
  {
   "cell_type": "code",
   "execution_count": 59,
   "id": "intended-concert",
   "metadata": {},
   "outputs": [],
   "source": [
    "alphadigs_dict = sio.loadmat('data/binaryalphadigs.mat')\n",
    "\n",
    "# filter digits\n",
    "digit2idx = {}\n",
    "for i, digit in enumerate(alphadigs_dict['classlabels'][0]):\n",
    "    digit2idx[digit[0]] = i\n",
    "\n",
    "# collect indexes \n",
    "idxs = []\n",
    "for digit in digits_list:\n",
    "    idxs.append(digit2idx[digit])\n"
   ]
  },
  {
   "cell_type": "code",
   "execution_count": 66,
   "id": "fresh-success",
   "metadata": {},
   "outputs": [
    {
     "data": {
      "text/plain": [
       "(2, 39)"
      ]
     },
     "execution_count": 66,
     "metadata": {},
     "output_type": "execute_result"
    }
   ],
   "source": [
    "alphadigs_dict['dat'][[0 , 1]].shape"
   ]
  },
  {
   "cell_type": "code",
   "execution_count": 78,
   "id": "prostate-mistake",
   "metadata": {},
   "outputs": [
    {
     "data": {
      "text/plain": [
       "(78, 320)"
      ]
     },
     "execution_count": 78,
     "metadata": {},
     "output_type": "execute_result"
    }
   ],
   "source": [
    "np.stack(np.concatenate(alphadigs_dict['dat'][[0 , 1]])).reshape(-1, 20*16).shape"
   ]
  },
  {
   "cell_type": "code",
   "execution_count": 72,
   "id": "strategic-start",
   "metadata": {},
   "outputs": [
    {
     "ename": "ValueError",
     "evalue": "The truth value of an array with more than one element is ambiguous. Use a.any() or a.all()",
     "output_type": "error",
     "traceback": [
      "\u001b[0;31m---------------------------------------------------------------------------\u001b[0m",
      "\u001b[0;31mValueError\u001b[0m                                Traceback (most recent call last)",
      "\u001b[0;32m<ipython-input-72-2c771bb902be>\u001b[0m in \u001b[0;36m<module>\u001b[0;34m\u001b[0m\n\u001b[1;32m      2\u001b[0m \u001b[0mans\u001b[0m \u001b[0;34m=\u001b[0m \u001b[0;32mNone\u001b[0m\u001b[0;34m\u001b[0m\u001b[0;34m\u001b[0m\u001b[0m\n\u001b[1;32m      3\u001b[0m \u001b[0;32mfor\u001b[0m \u001b[0midx\u001b[0m \u001b[0;32min\u001b[0m \u001b[0;34m[\u001b[0m\u001b[0;36m1\u001b[0m\u001b[0;34m,\u001b[0m \u001b[0;36m2\u001b[0m\u001b[0;34m]\u001b[0m\u001b[0;34m:\u001b[0m\u001b[0;34m\u001b[0m\u001b[0;34m\u001b[0m\u001b[0m\n\u001b[0;32m----> 4\u001b[0;31m     \u001b[0;32mif\u001b[0m \u001b[0mans\u001b[0m \u001b[0;34m==\u001b[0m \u001b[0;32mNone\u001b[0m\u001b[0;34m:\u001b[0m\u001b[0;34m\u001b[0m\u001b[0;34m\u001b[0m\u001b[0m\n\u001b[0m\u001b[1;32m      5\u001b[0m         \u001b[0mans\u001b[0m \u001b[0;34m=\u001b[0m \u001b[0mnp\u001b[0m\u001b[0;34m.\u001b[0m\u001b[0mstack\u001b[0m\u001b[0;34m(\u001b[0m\u001b[0malphadigs_dict\u001b[0m\u001b[0;34m[\u001b[0m\u001b[0;34m'dat'\u001b[0m\u001b[0;34m]\u001b[0m\u001b[0;34m[\u001b[0m\u001b[0midx\u001b[0m\u001b[0;34m]\u001b[0m\u001b[0;34m)\u001b[0m\u001b[0;34m.\u001b[0m\u001b[0mreshape\u001b[0m\u001b[0;34m(\u001b[0m\u001b[0;34m-\u001b[0m\u001b[0;36m1\u001b[0m\u001b[0;34m,\u001b[0m \u001b[0;36m20\u001b[0m\u001b[0;34m*\u001b[0m\u001b[0;36m16\u001b[0m\u001b[0;34m)\u001b[0m\u001b[0;31m#.shape\u001b[0m\u001b[0;34m\u001b[0m\u001b[0;34m\u001b[0m\u001b[0m\n\u001b[1;32m      6\u001b[0m     \u001b[0;32melse\u001b[0m\u001b[0;34m:\u001b[0m\u001b[0;34m\u001b[0m\u001b[0;34m\u001b[0m\u001b[0m\n",
      "\u001b[0;31mValueError\u001b[0m: The truth value of an array with more than one element is ambiguous. Use a.any() or a.all()"
     ]
    }
   ],
   "source": [
    "idx = 0\n",
    "ans = []\n",
    "for idx in [1, 2]:\n",
    "    if ans == None:\n",
    "        ans.append(np.stack(alphadigs_dict['dat'][idx]).reshape(-1, 20*16)#.shape\n",
    "    else:\n",
    "        ans.vstack(np.stack(alphadigs_dict['dat'][idx]).reshape(-1, 20*16))"
   ]
  },
  {
   "cell_type": "code",
   "execution_count": 37,
   "id": "bizarre-anime",
   "metadata": {},
   "outputs": [],
   "source": [
    "old_X = X.copy()"
   ]
  },
  {
   "cell_type": "code",
   "execution_count": 39,
   "id": "statewide-slovak",
   "metadata": {},
   "outputs": [],
   "source": [
    "np.random.shuffle(X)"
   ]
  },
  {
   "cell_type": "code",
   "execution_count": 40,
   "id": "dietary-designer",
   "metadata": {},
   "outputs": [
    {
     "data": {
      "text/plain": [
       "array([[False, False, False, ...,  True,  True,  True],\n",
       "       [ True,  True,  True, ...,  True, False, False],\n",
       "       [ True,  True,  True, ...,  True, False, False],\n",
       "       ...,\n",
       "       [ True,  True,  True, ..., False, False,  True],\n",
       "       [ True,  True,  True, ...,  True,  True,  True],\n",
       "       [ True, False, False, ...,  True,  True,  True]])"
      ]
     },
     "execution_count": 40,
     "metadata": {},
     "output_type": "execute_result"
    }
   ],
   "source": [
    "X == old_X"
   ]
  },
  {
   "cell_type": "code",
   "execution_count": 43,
   "id": "lined-equivalent",
   "metadata": {},
   "outputs": [
    {
     "data": {
      "text/plain": [
       "(78, 320)"
      ]
     },
     "execution_count": 43,
     "metadata": {},
     "output_type": "execute_result"
    }
   ],
   "source": [
    "old_X.shape"
   ]
  },
  {
   "cell_type": "code",
   "execution_count": null,
   "id": "hungarian-vancouver",
   "metadata": {},
   "outputs": [],
   "source": [
    "(39*320)"
   ]
  },
  {
   "cell_type": "code",
   "execution_count": 4,
   "id": "formal-basket",
   "metadata": {},
   "outputs": [],
   "source": [
    "data = np.random.binomial(1, 0.5, size=(10, p))"
   ]
  },
  {
   "cell_type": "code",
   "execution_count": 5,
   "id": "previous-canadian",
   "metadata": {},
   "outputs": [
    {
     "name": "stdout",
     "output_type": "stream",
     "text": [
      "Epoch: 0 -- Erreur de reconstruction: 1.5555555555555554\n",
      "Epoch: 1 -- Erreur de reconstruction: 1.5213675213675213\n",
      "Epoch: 2 -- Erreur de reconstruction: 1.4700854700854702\n",
      "Epoch: 3 -- Erreur de reconstruction: 1.4871794871794872\n",
      "Epoch: 4 -- Erreur de reconstruction: 1.5128205128205128\n",
      "Epoch: 5 -- Erreur de reconstruction: 1.5128205128205128\n",
      "Epoch: 6 -- Erreur de reconstruction: 1.393162393162393\n",
      "Epoch: 7 -- Erreur de reconstruction: 1.4102564102564101\n",
      "Epoch: 8 -- Erreur de reconstruction: 1.4957264957264957\n",
      "Epoch: 9 -- Erreur de reconstruction: 1.4529914529914532\n"
     ]
    },
    {
     "data": {
      "text/plain": [
       "<__main__.RBM at 0x7efc21f60c18>"
      ]
     },
     "execution_count": 5,
     "metadata": {},
     "output_type": "execute_result"
    }
   ],
   "source": [
    "rbm.train_RBM(data, epochs=10, learning_rate=0.01, batch_size=3, cd_k=1)"
   ]
  },
  {
   "cell_type": "code",
   "execution_count": null,
   "id": "crude-bronze",
   "metadata": {},
   "outputs": [
    {
     "name": "stdout",
     "output_type": "stream",
     "text": [
      "> \u001b[0;32m<ipython-input-95-39f8c0fcf939>\u001b[0m(44)\u001b[0;36msortie_entree_RBM\u001b[0;34m()\u001b[0m\n",
      "\u001b[0;32m     42 \u001b[0;31m        \u001b[0mSort\u001b[0m \u001b[0mentree\u001b[0m \u001b[0mdata\u001b[0m \u001b[0mreconstruit\u001b[0m \u001b[0mde\u001b[0m \u001b[0mdimension\u001b[0m \u001b[0;34m(\u001b[0m\u001b[0mnxp\u001b[0m\u001b[0;34m)\u001b[0m\u001b[0;34m\u001b[0m\u001b[0;34m\u001b[0m\u001b[0m\n",
      "\u001b[0m\u001b[0;32m     43 \u001b[0;31m        \"\"\"\n",
      "\u001b[0m\u001b[0;32m---> 44 \u001b[0;31m        \u001b[0mp_v_donne_h\u001b[0m \u001b[0;34m=\u001b[0m \u001b[0msigmoid\u001b[0m\u001b[0;34m(\u001b[0m\u001b[0mdata_h\u001b[0m\u001b[0;34m@\u001b[0m\u001b[0mW\u001b[0m\u001b[0;34m.\u001b[0m\u001b[0mT\u001b[0m \u001b[0;34m+\u001b[0m \u001b[0mself\u001b[0m\u001b[0;34m.\u001b[0m\u001b[0ma\u001b[0m\u001b[0;34m)\u001b[0m\u001b[0;34m\u001b[0m\u001b[0;34m\u001b[0m\u001b[0m\n",
      "\u001b[0m\u001b[0;32m     45 \u001b[0;31m        \u001b[0;31m# return bernoulli distribution for the sampled probabilities\u001b[0m\u001b[0;34m\u001b[0m\u001b[0;34m\u001b[0m\u001b[0;34m\u001b[0m\u001b[0m\n",
      "\u001b[0m\u001b[0;32m     46 \u001b[0;31m        \u001b[0mreconstructed_data\u001b[0m \u001b[0;34m=\u001b[0m \u001b[0mnp\u001b[0m\u001b[0;34m.\u001b[0m\u001b[0mrandom\u001b[0m\u001b[0;34m.\u001b[0m\u001b[0mbinomial\u001b[0m\u001b[0;34m(\u001b[0m\u001b[0;36m1\u001b[0m\u001b[0;34m,\u001b[0m \u001b[0mp_v_donne_h\u001b[0m\u001b[0;34m,\u001b[0m \u001b[0msize\u001b[0m\u001b[0;34m=\u001b[0m\u001b[0;32mNone\u001b[0m\u001b[0;34m)\u001b[0m\u001b[0;34m\u001b[0m\u001b[0;34m\u001b[0m\u001b[0m\n",
      "\u001b[0m\n"
     ]
    },
    {
     "name": "stdin",
     "output_type": "stream",
     "text": [
      "ipdb>  data_h.shape\n"
     ]
    },
    {
     "name": "stdout",
     "output_type": "stream",
     "text": [
      "(3, 1)\n"
     ]
    },
    {
     "name": "stdin",
     "output_type": "stream",
     "text": [
      "ipdb>  W.shape\n"
     ]
    },
    {
     "name": "stdout",
     "output_type": "stream",
     "text": [
      "(5, 9)\n"
     ]
    }
   ],
   "source": [
    "%debug"
   ]
  },
  {
   "cell_type": "code",
   "execution_count": 90,
   "id": "purple-reservation",
   "metadata": {},
   "outputs": [],
   "source": [
    "p_h_donne_v, data_h = rbm.entree_sortie_RBM(data)"
   ]
  },
  {
   "cell_type": "code",
   "execution_count": 91,
   "id": "useful-dietary",
   "metadata": {},
   "outputs": [
    {
     "data": {
      "text/plain": [
       "array([[0.51860491],\n",
       "       [0.63203543],\n",
       "       [0.76837851],\n",
       "       [0.58791993],\n",
       "       [0.68272626],\n",
       "       [0.69052153],\n",
       "       [0.65164299],\n",
       "       [0.57632981],\n",
       "       [0.70930957],\n",
       "       [0.64456906]])"
      ]
     },
     "execution_count": 91,
     "metadata": {},
     "output_type": "execute_result"
    }
   ],
   "source": [
    "p_h_donne_v"
   ]
  },
  {
   "cell_type": "code",
   "execution_count": 92,
   "id": "thorough-dividend",
   "metadata": {},
   "outputs": [
    {
     "data": {
      "text/plain": [
       "array([[1],\n",
       "       [1],\n",
       "       [1],\n",
       "       [0],\n",
       "       [1],\n",
       "       [1],\n",
       "       [1],\n",
       "       [1],\n",
       "       [0],\n",
       "       [1]])"
      ]
     },
     "execution_count": 92,
     "metadata": {},
     "output_type": "execute_result"
    }
   ],
   "source": [
    "data_h"
   ]
  },
  {
   "cell_type": "code",
   "execution_count": 68,
   "id": "turkish-friend",
   "metadata": {},
   "outputs": [
    {
     "data": {
      "text/plain": [
       "-2.348130775342886"
      ]
     },
     "execution_count": 68,
     "metadata": {},
     "output_type": "execute_result"
    }
   ],
   "source": [
    "np.sum(a)"
   ]
  },
  {
   "cell_type": "code",
   "execution_count": null,
   "id": "delayed-stack",
   "metadata": {},
   "outputs": [],
   "source": [
    "def DBN:\n",
    "    def __init__(self):\n",
    "        pass\n",
    "    def init_DBN(self):\n",
    "        pass\n",
    "    def pretrain_DNN(self)\n",
    "    \n",
    "    \n",
    "        "
   ]
  },
  {
   "cell_type": "code",
   "execution_count": 14,
   "id": "confidential-roman",
   "metadata": {},
   "outputs": [
    {
     "data": {
      "text/plain": [
       "-2.63139536837038e-05"
      ]
     },
     "execution_count": 14,
     "metadata": {},
     "output_type": "execute_result"
    }
   ],
   "source": [
    "import numpy as np\n",
    ".mean()"
   ]
  },
  {
   "cell_type": "code",
   "execution_count": 71,
   "id": "experienced-testing",
   "metadata": {
    "collapsed": true,
    "jupyter": {
     "outputs_hidden": true
    },
    "tags": []
   },
   "outputs": [
    {
     "data": {
      "text/plain": [
       "array([[-0.05214187],\n",
       "       [ 0.07012625],\n",
       "       [ 0.09959477],\n",
       "       [ 0.01163886],\n",
       "       [-0.04875912],\n",
       "       [ 0.23321488],\n",
       "       [-0.00292611],\n",
       "       [-0.03002914],\n",
       "       [-0.06346839],\n",
       "       [-0.15519526],\n",
       "       [ 0.06355991],\n",
       "       [-0.11859925],\n",
       "       [-0.04515475],\n",
       "       [ 0.0032718 ],\n",
       "       [ 0.01602887],\n",
       "       [ 0.19101388],\n",
       "       [ 0.18414055],\n",
       "       [-0.10312725],\n",
       "       [-0.20965412],\n",
       "       [ 0.15623735],\n",
       "       [-0.01891943],\n",
       "       [-0.01666451],\n",
       "       [ 0.08122356],\n",
       "       [ 0.15262467],\n",
       "       [-0.07095568],\n",
       "       [-0.06893115],\n",
       "       [ 0.01637673],\n",
       "       [ 0.07048092],\n",
       "       [ 0.05554803],\n",
       "       [-0.07199344],\n",
       "       [ 0.12674552],\n",
       "       [-0.01500956],\n",
       "       [-0.12023044],\n",
       "       [-0.05780861],\n",
       "       [-0.02066452],\n",
       "       [-0.00823631],\n",
       "       [ 0.23315604],\n",
       "       [-0.07771179],\n",
       "       [-0.12112403]])"
      ]
     },
     "execution_count": 71,
     "metadata": {},
     "output_type": "execute_result"
    }
   ],
   "source": [
    "np.random.normal(loc=0, scale=0.1, size=(p, q))"
   ]
  },
  {
   "cell_type": "code",
   "execution_count": 16,
   "id": "emotional-enough",
   "metadata": {},
   "outputs": [
    {
     "data": {
      "text/plain": [
       "array([[0., 0., 0., 0., 0., 0., 0., 0., 0., 0.]])"
      ]
     },
     "execution_count": 16,
     "metadata": {},
     "output_type": "execute_result"
    }
   ],
   "source": [
    "np.zeros((1, 10))"
   ]
  },
  {
   "cell_type": "code",
   "execution_count": 59,
   "id": "single-african",
   "metadata": {},
   "outputs": [
    {
     "data": {
      "text/plain": [
       "array([[1, 0, 0, 0, 0, 1, 0, 0, 1],\n",
       "       [0, 1, 0, 0, 0, 1, 0, 0, 1],\n",
       "       [0, 1, 1, 0, 1, 1, 1, 1, 0],\n",
       "       [1, 0, 1, 1, 1, 1, 0, 1, 0],\n",
       "       [1, 1, 0, 1, 0, 0, 0, 0, 1],\n",
       "       [0, 1, 1, 0, 1, 1, 1, 1, 0],\n",
       "       [0, 1, 0, 0, 1, 1, 1, 1, 0],\n",
       "       [1, 1, 0, 0, 1, 1, 1, 0, 0],\n",
       "       [1, 1, 0, 0, 0, 1, 0, 0, 1],\n",
       "       [1, 0, 1, 0, 1, 1, 0, 0, 1]])"
      ]
     },
     "execution_count": 59,
     "metadata": {},
     "output_type": "execute_result"
    }
   ],
   "source": [
    "data_h"
   ]
  },
  {
   "cell_type": "code",
   "execution_count": 64,
   "id": "dominant-terrain",
   "metadata": {},
   "outputs": [
    {
     "data": {
      "text/plain": [
       "(10, 5)"
      ]
     },
     "execution_count": 64,
     "metadata": {},
     "output_type": "execute_result"
    }
   ],
   "source": [
    "p_v_donne_h = sigmoid(data_h@W.T + a)\n",
    "# return bernoulli distribution for the sampled probabilities \n",
    "reconstructed_data = np.random.binomial(1, p_v_donne_h, size=None)\n",
    "reconstructed_data.shape"
   ]
  },
  {
   "cell_type": "code",
   "execution_count": 77,
   "id": "surprised-muscle",
   "metadata": {},
   "outputs": [
    {
     "data": {
      "text/plain": [
       "(10, 39)"
      ]
     },
     "execution_count": 77,
     "metadata": {},
     "output_type": "execute_result"
    }
   ],
   "source": [
    "np.random.binomial(1, 0.5, size=(10, p))"
   ]
  },
  {
   "cell_type": "code",
   "execution_count": 35,
   "id": "inappropriate-ebony",
   "metadata": {},
   "outputs": [],
   "source": [
    "p = 5\n",
    "q = 9\n",
    "x = np.random.randn(10, p)\n",
    "a = np.random.randn(1, p)\n",
    "b = np.random.randn(1, q)\n",
    "W = np.random.randn(p, q)"
   ]
  },
  {
   "cell_type": "code",
   "execution_count": 38,
   "id": "interracial-photograph",
   "metadata": {},
   "outputs": [
    {
     "data": {
      "text/plain": [
       "array([[0.44807423, 0.922243  , 0.27139376, 0.59325034, 0.74411231],\n",
       "       [0.3345052 , 0.3706395 , 0.32592071, 0.26898638, 0.6784325 ],\n",
       "       [0.22591937, 0.22904465, 0.33220585, 0.12146756, 0.53269372],\n",
       "       [0.63990301, 0.27651585, 0.60456779, 0.36659139, 0.19768871],\n",
       "       [0.61790696, 0.39954692, 0.50753818, 0.61715851, 0.76067089],\n",
       "       [0.31043638, 0.39408641, 0.09740038, 0.54403384, 0.20173695],\n",
       "       [0.11999641, 0.53870227, 0.37291058, 0.46362032, 0.37312552],\n",
       "       [0.23465812, 0.45551946, 0.58646431, 0.52538235, 0.51127102],\n",
       "       [0.52457743, 0.73536737, 0.54612009, 0.46783358, 0.6927917 ],\n",
       "       [0.69488557, 0.64643543, 0.30012612, 0.34986211, 0.71967344]])"
      ]
     },
     "execution_count": 38,
     "metadata": {},
     "output_type": "execute_result"
    }
   ],
   "source": [
    "sigmoid(x)"
   ]
  },
  {
   "cell_type": "code",
   "execution_count": 56,
   "id": "alternate-bible",
   "metadata": {},
   "outputs": [],
   "source": [
    "p_h_donne_v = sigmoid(x@W + b)\n",
    "# return bernoulli distribution for the sampled probabilities \n",
    "data_h = np.random.binomial(1, p_h_donne_v, size=None)"
   ]
  },
  {
   "cell_type": "code",
   "execution_count": 61,
   "id": "swiss-guatemala",
   "metadata": {},
   "outputs": [
    {
     "data": {
      "text/plain": [
       "(10, 5)"
      ]
     },
     "execution_count": 61,
     "metadata": {},
     "output_type": "execute_result"
    }
   ],
   "source": [
    "(data_h @ W.T).shape"
   ]
  },
  {
   "cell_type": "code",
   "execution_count": 40,
   "id": "acceptable-moment",
   "metadata": {},
   "outputs": [
    {
     "data": {
      "text/plain": [
       "array([[-1.18209332,  1.16150467, -1.0494074 ,  0.47911461,  0.96482544],\n",
       "       [-1.66151709, -1.84118986, -0.7885383 , -0.8980753 ,  0.64394958],\n",
       "       [-2.20513653, -2.525429  , -0.76006987, -1.87690951,  0.02833381],\n",
       "       [-0.39869547, -2.27352599,  0.36268974, -0.44517181, -1.50343097],\n",
       "       [-0.49296494, -1.7190688 , -0.03168969,  0.57920089,  1.05373322],\n",
       "       [-1.77171865, -1.74188272, -2.28829365,  0.27828892, -1.47810146],\n",
       "       [-2.96610284, -1.15659615, -0.58159519, -0.04408028, -0.62145938],\n",
       "       [-2.15583166, -1.49010927,  0.28752327,  0.20331281, -0.05753622],\n",
       "       [-0.87524967, -0.28968788,  0.12316154, -0.02714758,  0.71057545],\n",
       "       [-0.1505784 , -0.70830832, -0.90854207, -0.51794931,  0.84021442]])"
      ]
     },
     "execution_count": 40,
     "metadata": {},
     "output_type": "execute_result"
    }
   ],
   "source": [
    "x + a"
   ]
  },
  {
   "cell_type": "code",
   "execution_count": 53,
   "id": "banner-magazine",
   "metadata": {},
   "outputs": [
    {
     "data": {
      "text/plain": [
       "(10, 9)"
      ]
     },
     "execution_count": 53,
     "metadata": {},
     "output_type": "execute_result"
    }
   ],
   "source": [
    "(x@W + b).shape"
   ]
  },
  {
   "cell_type": "code",
   "execution_count": 55,
   "id": "based-brown",
   "metadata": {},
   "outputs": [
    {
     "data": {
      "text/plain": [
       "(10, 9)"
      ]
     },
     "execution_count": 55,
     "metadata": {},
     "output_type": "execute_result"
    }
   ],
   "source": [
    "sigmoid(x@W + b)"
   ]
  },
  {
   "cell_type": "code",
   "execution_count": 46,
   "id": "alien-shift",
   "metadata": {},
   "outputs": [
    {
     "data": {
      "text/plain": [
       "(10, 25)"
      ]
     },
     "execution_count": 46,
     "metadata": {},
     "output_type": "execute_result"
    }
   ],
   "source": [
    "np.tile(a, (x.shape[0], p)).shape"
   ]
  },
  {
   "cell_type": "code",
   "execution_count": 47,
   "id": "growing-transport",
   "metadata": {},
   "outputs": [
    {
     "data": {
      "text/plain": [
       "(10, 5)"
      ]
     },
     "execution_count": 47,
     "metadata": {},
     "output_type": "execute_result"
    }
   ],
   "source": [
    "x.shape"
   ]
  },
  {
   "cell_type": "code",
   "execution_count": 48,
   "id": "romance-attack",
   "metadata": {},
   "outputs": [
    {
     "data": {
      "text/plain": [
       "array([[-0.20845464,  2.47322019, -0.98756269,  0.37741856,  1.06745337],\n",
       "       [-0.68787841, -0.52947434, -0.7266936 , -0.99977136,  0.7465775 ],\n",
       "       [-1.23149785, -1.21371348, -0.69822516, -1.97860557,  0.13096173],\n",
       "       [ 0.57494322, -0.96181047,  0.42453444, -0.54686787, -1.40080304],\n",
       "       [ 0.48067374, -0.40735329,  0.03015502,  0.47750484,  1.15636115],\n",
       "       [-0.79807997, -0.4301672 , -2.22644895,  0.17659287, -1.37547354],\n",
       "       [-1.99246415,  0.15511937, -0.51975049, -0.14577633, -0.51883146],\n",
       "       [-1.18219297, -0.17839375,  0.34936797,  0.10161675,  0.0450917 ],\n",
       "       [ 0.09838901,  1.02202764,  0.18500625, -0.12884363,  0.81320337],\n",
       "       [ 0.82306028,  0.6034072 , -0.84669736, -0.61964536,  0.94284234]])"
      ]
     },
     "execution_count": 48,
     "metadata": {},
     "output_type": "execute_result"
    }
   ],
   "source": [
    "x"
   ]
  },
  {
   "cell_type": "code",
   "execution_count": null,
   "id": "synthetic-allergy",
   "metadata": {},
   "outputs": [],
   "source": []
  }
 ],
 "metadata": {
  "kernelspec": {
   "display_name": "Python 3",
   "language": "python",
   "name": "python3"
  },
  "language_info": {
   "codemirror_mode": {
    "name": "ipython",
    "version": 3
   },
   "file_extension": ".py",
   "mimetype": "text/x-python",
   "name": "python",
   "nbconvert_exporter": "python",
   "pygments_lexer": "ipython3",
   "version": "3.6.12"
  }
 },
 "nbformat": 4,
 "nbformat_minor": 5
}
