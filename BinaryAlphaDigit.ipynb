{
 "cells": [
  {
   "cell_type": "markdown",
   "metadata": {},
   "source": [
    "# Données"
   ]
  },
  {
   "cell_type": "code",
   "execution_count": 1,
   "metadata": {},
   "outputs": [],
   "source": [
    "import os\n",
    "import requests\n",
    "from scipy.io import loadmat\n",
    "from sklearn.datasets import fetch_openml\n",
    "from sklearn.preprocessing import OneHotEncoder\n",
    "import matplotlib.pyplot as plt\n",
    "from sklearn.utils import shuffle\n",
    "import numpy as np\n",
    "\n",
    "def get_mnist(): \n",
    "    mnist = fetch_openml('mnist_784')\n",
    "    X = mnist['data']\n",
    "    X = (mnist['data'] > 128).astype(int)\n",
    "    y = mnist['target']\n",
    "    y = OneHotEncoder().fit_transform(y.reshape(-1, 1)).toarray()\n",
    "    return X, y\n",
    "    \n",
    "def get_alphadigs():\n",
    "    if os.path.exists('data/alphadigs.mat'):\n",
    "        return loadmat('data/alphadigs.mat')\n",
    "    \n",
    "    alphadigs_url = 'https://cs.nyu.edu/~roweis/data/binaryalphadigs.mat'\n",
    "    r = requests.get(alphadigs_url, allow_redirects=True)\n",
    "\n",
    "    with open('data/alphadigs.mat', 'wb') as f:\n",
    "        f.write(r.content)\n",
    "                \n",
    "    return loadmat('data/alphadigs.mat')\n",
    "\n",
    "def lire_alpha_digit(digits_list):\n",
    "    # Charger les données\n",
    "    dataset = get_alphadigs()\n",
    "\n",
    "    # Filtrages des données selon la liste de chiffres voulus\n",
    "    digit2idx = {}\n",
    "    for i, digit in enumerate(dataset['classlabels'][0]):\n",
    "        digit2idx[digit[0]] = i\n",
    "    \n",
    "    idxs = []\n",
    "    for digit in digits_list:\n",
    "        idxs.append(digit2idx[digit])\n",
    "    \n",
    "    # Adaptation au format (n, p), chaque colonne designe un pixel et chaque ligne une image\n",
    "    return np.stack(np.concatenate(dataset['dat'][idxs])).reshape(-1, 20*16)"
   ]
  },
  {
   "cell_type": "code",
   "execution_count": 2,
   "metadata": {},
   "outputs": [],
   "source": [
    "f = lire_alpha_digit(['0', '2', 'P','F', 'Z'])"
   ]
  },
  {
   "cell_type": "code",
   "execution_count": 3,
   "metadata": {},
   "outputs": [
    {
     "data": {
      "text/plain": [
       "(195, 320)"
      ]
     },
     "execution_count": 3,
     "metadata": {},
     "output_type": "execute_result"
    }
   ],
   "source": [
    "f.shape"
   ]
  },
  {
   "cell_type": "code",
   "execution_count": 4,
   "metadata": {},
   "outputs": [],
   "source": [
    "import numpy as np\n",
    "import numpy as np\n",
    "import random\n",
    "import matplotlib.pyplot as plt\n",
    "\n",
    "def relu(x):\n",
    "    return np.maximum(x, 0)\n",
    "def sigmoid(x):\n",
    "    return 1 / (1 + np.exp(-x))"
   ]
  },
  {
   "cell_type": "markdown",
   "metadata": {},
   "source": [
    "# Fonctions élémentaires"
   ]
  },
  {
   "cell_type": "markdown",
   "metadata": {},
   "source": [
    "## Construction d’un RBM et test sur Binary AlphaDigits"
   ]
  },
  {
   "cell_type": "code",
   "execution_count": 5,
   "metadata": {},
   "outputs": [],
   "source": [
    "class RBM:\n",
    "    def __init__(self, p, q):\n",
    "        self.W = 0.01 * np.random.rand(p,q)\n",
    "        self.a = np.zeros((1,p))\n",
    "        self.b = np.zeros((1,q))\n",
    "        \n",
    "def init_RBM(p, q):\n",
    "    return RBM(p, q)\n",
    "\n",
    "def entree_sortie_RBM(rbm, x):\n",
    "    return sigmoid(np.dot(x, rbm.W) + rbm.b)\n",
    "\n",
    "def sortie_entree_RBM(rbm, y): #(n * q) -> (n * p)\n",
    "    return sigmoid(np.dot(y, rbm.W.T) + rbm.a)"
   ]
  },
  {
   "cell_type": "code",
   "execution_count": 6,
   "metadata": {},
   "outputs": [],
   "source": [
    "def train_RBM(rbm,X,learning_rate, epochs, batch_size):\n",
    "        \n",
    "    n = X.shape[0]\n",
    "    p = X.shape[1]\n",
    "    q = len(rbm.b) \n",
    "    \n",
    "    error = []\n",
    "    for epoch in range(epochs):\n",
    "        X_copy = X.copy()\n",
    "    \n",
    "        for batch  in range(0, n, batch_size):\n",
    "            X_batch = X_copy[batch:batch + batch_size]\n",
    "            \n",
    "            tb = len(X_batch)\n",
    "            \n",
    "            v_0 = X_batch # (tb * p)\n",
    "            #print(tb,p,v_0.shape)\n",
    "            \n",
    "            p_h_v_0 = entree_sortie_RBM(rbm,v_0) # (tb * q)\n",
    "            #print(tb,q,p_h_v_0.shape)\n",
    "            \n",
    "            h_0 = (p_h_v_0 > np.random.rand(tb, q)).astype(int) # (tb * q)\n",
    "            #print(tb,q,h_0.shape)\n",
    "            \n",
    "            p_v_h_0 = sortie_entree_RBM(rbm,h_0) # (tb * p)\n",
    "            #print(tb,p,p_v_h_0.shape)\n",
    "            v_1 = (p_v_h_0 > np.random.rand(tb, p)).astype(int) # (tb * p)\n",
    "            #print(tb,p,v_1.shape)\n",
    "            \n",
    "            p_h_v_1 = entree_sortie_RBM(rbm,v_1) # (tb * q)\n",
    "            #print(tb,q,p_h_v_1.shape)\n",
    "            \n",
    "            norm_learning_rate = learning_rate/tb\n",
    "            \n",
    "            rbm.W += norm_learning_rate * (np.dot(v_0.T, p_h_v_0) - np.dot(v_1.T, p_h_v_1)) # (p * q)   \n",
    "            #print(p,q,rbm.W.shape)     \n",
    "            rbm.a += norm_learning_rate * np.sum(v_0 - v_1, axis=0) # (1 * p)\n",
    "            #print(p,rbm.a.shape)\n",
    "            rbm.b += norm_learning_rate * np.sum(p_h_v_0 - p_h_v_1, axis=0) # (1 * q)\n",
    "            #print(q,rbm.b.shape)\n",
    "            \n",
    "        H = entree_sortie_RBM(rbm,X)\n",
    "        X_reconstruit = sortie_entree_RBM(rbm,H)\n",
    "        loss = np.sum((X - X_reconstruit)**2)/(n*p)\n",
    "        error.append(loss)\n",
    "        if epoch % 10 == 0:\n",
    "            print(\"Epoch : \", epoch, \"Erreur : \", loss)\n",
    "            \n",
    "    return rbm,error\n"
   ]
  },
  {
   "cell_type": "code",
   "execution_count": 7,
   "metadata": {},
   "outputs": [],
   "source": [
    "def generer_image_RBM(rbm, nb_iter, nb_images):\n",
    "    p = rbm.a.shape[1]\n",
    "    q = len(rbm.b)\n",
    "    for i in range(nb_images):\n",
    "        image = np.random.uniform(0, 1, (1, p))\n",
    "        for j in range(nb_iter):\n",
    "            prob_h_given_v = entree_sortie_RBM(rbm, image)\n",
    "            h = (prob_h_given_v > np.random.rand(q)) * 1.0\n",
    "            prob_v_given_h = sortie_entree_RBM(rbm, h)\n",
    "            image = (prob_v_given_h > np.random.rand(p)) * 1.0\n",
    "\n",
    "        image = np.reshape(image, (20, 16))\n",
    "        plt.imshow(image, cmap='gray')\n",
    "        plt.show()"
   ]
  },
  {
   "cell_type": "code",
   "execution_count": 8,
   "metadata": {},
   "outputs": [
    {
     "name": "stdout",
     "output_type": "stream",
     "text": [
      "Epoch :  0 Erreur :  0.18457764686016961\n",
      "Epoch :  10 Erreur :  0.09443564243197135\n",
      "Epoch :  20 Erreur :  0.04979250348592288\n",
      "Epoch :  30 Erreur :  0.0293454511808028\n",
      "Epoch :  40 Erreur :  0.018416763783077304\n",
      "Epoch :  50 Erreur :  0.012160628262170509\n",
      "Epoch :  60 Erreur :  0.008636554022741149\n",
      "Epoch :  70 Erreur :  0.006429656143627346\n",
      "Epoch :  80 Erreur :  0.004685376671192025\n",
      "Epoch :  90 Erreur :  0.003806135750465557\n"
     ]
    },
    {
     "data": {
      "text/plain": [
       "[<matplotlib.lines.Line2D at 0x2684db69c70>]"
      ]
     },
     "execution_count": 8,
     "metadata": {},
     "output_type": "execute_result"
    },
    {
     "data": {
      "image/png": "[encoded data removed]",
      "text/plain": [
       "<Figure size 432x288 with 1 Axes>"
      ]
     },
     "metadata": {
      "needs_background": "light"
     },
     "output_type": "display_data"
    }
   ],
   "source": [
    "X = lire_alpha_digit(['X'])\n",
    "p = len(X[0])\n",
    "q = 100\n",
    "Rbm = init_RBM(p,q)\n",
    "Rbm,error = train_RBM(Rbm,X,0.1, 100, 3)\n",
    "plt.plot(error)"
   ]
  },
  {
   "cell_type": "code",
   "execution_count": 9,
   "metadata": {},
   "outputs": [
    {
     "data": {
      "image/png": "[encoded data removed]",
      "text/plain": [
       "<Figure size 432x288 with 1 Axes>"
      ]
     },
     "metadata": {
      "needs_background": "light"
     },
     "output_type": "display_data"
    },
    {
     "data": {
      "image/png": "[encoded data removed]",
      "text/plain": [
       "<Figure size 432x288 with 1 Axes>"
      ]
     },
     "metadata": {
      "needs_background": "light"
     },
     "output_type": "display_data"
    }
   ],
   "source": [
    "generer_image_RBM(Rbm, 500, 2)"
   ]
  },
  {
   "cell_type": "markdown",
   "metadata": {},
   "source": [
    "# Construction d’un DBN et test sur Binary AlphaDigits"
   ]
  },
  {
   "cell_type": "code",
   "execution_count": 10,
   "metadata": {},
   "outputs": [],
   "source": [
    "def init_DBN(config):\n",
    "    for i in range(len(config)-1):\n",
    "        if i == 0:\n",
    "            DBN = [init_RBM(config[i], config[i+1])]\n",
    "        else:\n",
    "            DBN.append(init_RBM(config[i], config[i+1]))\n",
    "    return DBN\n",
    "\n",
    "def train_DBN(DBN, H, epsilon, epochs, batch_size):\n",
    "    for i in range(len(DBN)):\n",
    "            DBN[i],error = train_RBM(DBN[i], H, epsilon, epochs, batch_size)\n",
    "            H = entree_sortie_RBM(DBN[i],H)\n",
    "    return DBN"
   ]
  },
  {
   "cell_type": "code",
   "execution_count": 11,
   "metadata": {},
   "outputs": [],
   "source": [
    "def generer_image_DBN(Dbm, nb_iter, nb_images):\n",
    "    for i in range(nb_images):\n",
    "        v_0 = np.random.uniform(0, 1, (1, config[0]))\n",
    "        v_k = v_0\n",
    "        for j in range(nb_iter):\n",
    "            \n",
    "            for y in range(0,len(Dbm)): \n",
    "                prob_h_given_v = entree_sortie_RBM(Dbm[y], v_k)\n",
    "                v_k = (prob_h_given_v > np.random.rand(config[y+1])) * 1.0\n",
    "\n",
    "            h_k = v_k\n",
    "            for k in range(len(Dbm)-1, -1, -1):\n",
    "                prob_v_given_h = sortie_entree_RBM(Dbm[k], h_k)\n",
    "                h_k = (prob_v_given_h > np.random.rand(config[k])) * 1.0\n",
    "\n",
    "            v_k = h_k\n",
    "\n",
    "        image = np.reshape(v_k, (20, 16))\n",
    "        plt.imshow(image, cmap='gray')\n",
    "        plt.show()"
   ]
  },
  {
   "cell_type": "code",
   "execution_count": 12,
   "metadata": {},
   "outputs": [
    {
     "name": "stdout",
     "output_type": "stream",
     "text": [
      "Epoch :  0 Erreur :  0.18820013085501566\n",
      "Epoch :  10 Erreur :  0.09096221023257697\n",
      "Epoch :  20 Erreur :  0.048872915634340965\n",
      "Epoch :  30 Erreur :  0.028986540043328336\n",
      "Epoch :  40 Erreur :  0.018612683994708605\n",
      "Epoch :  50 Erreur :  0.012615035681713956\n",
      "Epoch :  60 Erreur :  0.009420944227700888\n",
      "Epoch :  70 Erreur :  0.006584994172535079\n",
      "Epoch :  80 Erreur :  0.005082756030590295\n",
      "Epoch :  90 Erreur :  0.0041784777376601455\n",
      "Epoch :  0 Erreur :  0.1731631439113572\n",
      "Epoch :  10 Erreur :  0.10491227187619706\n",
      "Epoch :  20 Erreur :  0.05710088967350462\n",
      "Epoch :  30 Erreur :  0.03386944589209761\n",
      "Epoch :  40 Erreur :  0.021241088439708008\n",
      "Epoch :  50 Erreur :  0.015061995490988916\n",
      "Epoch :  60 Erreur :  0.011660978984858452\n",
      "Epoch :  70 Erreur :  0.008816817823756802\n",
      "Epoch :  80 Erreur :  0.006695754581328273\n",
      "Epoch :  90 Erreur :  0.005665587583491926\n",
      "Epoch :  0 Erreur :  0.25066378201874323\n",
      "Epoch :  10 Erreur :  0.1569504610338238\n",
      "Epoch :  20 Erreur :  0.09008509454570264\n",
      "Epoch :  30 Erreur :  0.054493697561502887\n",
      "Epoch :  40 Erreur :  0.028954500483416957\n",
      "Epoch :  50 Erreur :  0.019327470525709326\n",
      "Epoch :  60 Erreur :  0.014256299408290473\n",
      "Epoch :  70 Erreur :  0.009692001050171876\n",
      "Epoch :  80 Erreur :  0.007148946868817467\n",
      "Epoch :  90 Erreur :  0.00590065952433777\n"
     ]
    },
    {
     "data": {
      "text/plain": [
       "[<matplotlib.lines.Line2D at 0x2684fd5c610>]"
      ]
     },
     "execution_count": 12,
     "metadata": {},
     "output_type": "execute_result"
    },
    {
     "data": {
      "image/png": "[encoded data removed]",
      "text/plain": [
       "<Figure size 432x288 with 1 Axes>"
      ]
     },
     "metadata": {
      "needs_background": "light"
     },
     "output_type": "display_data"
    }
   ],
   "source": [
    "config = [len(X[0]),100,50,100]\n",
    "X  = lire_alpha_digit(['X'])\n",
    "Dbm = init_DBN(config)\n",
    "Dbm = train_DBN(Dbm, X, 0.1, 100, 3)\n",
    "plt.plot(error, \"red\")"
   ]
  },
  {
   "cell_type": "code",
   "execution_count": 13,
   "metadata": {},
   "outputs": [
    {
     "data": {
      "image/png": "[encoded data removed]",
      "text/plain": [
       "<Figure size 432x288 with 1 Axes>"
      ]
     },
     "metadata": {
      "needs_background": "light"
     },
     "output_type": "display_data"
    },
    {
     "data": {
      "image/png": "[encoded data removed]",
      "text/plain": [
       "<Figure size 432x288 with 1 Axes>"
      ]
     },
     "metadata": {
      "needs_background": "light"
     },
     "output_type": "display_data"
    }
   ],
   "source": [
    "plt.figure()\n",
    "generer_image_DBN(Dbm, 500, 2)"
   ]
  },
  {
   "cell_type": "markdown",
   "metadata": {},
   "source": [
    "# Étude sur Binary AlphaDigit"
   ]
  },
  {
   "cell_type": "code",
   "execution_count": 14,
   "metadata": {},
   "outputs": [],
   "source": [
    "from principal_DBN_alpha import *\n",
    "# Spécification des paramètres liés au réseau et à l’apprentissage\n",
    "input_size = 320  # Taille de l'entrée (20 x 16 pixels)\n",
    "hidden_sizes = [25, 25]  # Nombre de neurones dans chaque couche cachée\n",
    "output_size = 2  # Nombre de neurones en sortie (10 classes)\n",
    "num_iters = 100  # Nombre d'itérations pour les descentes de gradient\n",
    "learning_rate = 0.02  # Taux d'apprentissage\n",
    "batch_size = 100  # Taille des mini-batch\n",
    "num_train_data = 50000  # Nombre de données d'apprentissage\n",
    "num_val_data = 200  # Nombre de données de validation\n",
    "num_test_data = 200  # Nombre de données de test\n",
    "\n",
    "# Charger les données\n",
    "data = lire_alpha_digit(['0', '2', 'F', 'Z'])\n",
    "\n",
    "# On fait un mélange les données aléatoirement (Shuffle)\n",
    "random.shuffle(data)\n",
    "\n",
    "# Filtration des données pour ne garder que les données d'apprentissage\n",
    "train_data = data[:num_train_data] # sélection des num_train_data premières données de la liste data"
   ]
  },
  {
   "cell_type": "code",
   "execution_count": 15,
   "metadata": {},
   "outputs": [
    {
     "name": "stdout",
     "output_type": "stream",
     "text": [
      "Epoch :  0 Erreur :  0.2069604812024641\n",
      "Epoch :  10 Erreur :  0.08979463614743617\n",
      "Epoch :  20 Erreur :  0.05141072592771299\n",
      "Epoch :  30 Erreur :  0.03566399458548302\n",
      "Epoch :  40 Erreur :  0.02666961672276448\n",
      "Epoch :  50 Erreur :  0.021045816286478815\n",
      "Epoch :  60 Erreur :  0.01708253087203517\n",
      "Epoch :  70 Erreur :  0.013973469952829297\n",
      "Epoch :  80 Erreur :  0.011895293060583565\n",
      "Epoch :  90 Erreur :  0.010281034360036077\n"
     ]
    },
    {
     "data": {
      "text/plain": [
       "[<matplotlib.lines.Line2D at 0x2684fe9edf0>]"
      ]
     },
     "execution_count": 15,
     "metadata": {},
     "output_type": "execute_result"
    },
    {
     "data": {
      "image/png": "[encoded data removed]",
      "text/plain": [
       "<Figure size 432x288 with 1 Axes>"
      ]
     },
     "metadata": {
      "needs_background": "light"
     },
     "output_type": "display_data"
    }
   ],
   "source": [
    "# Entrainement du RBM sur les données d'apprentissage\n",
    "X = train_data\n",
    "p = len(X[0])\n",
    "q = 100\n",
    "Rbm = init_RBM(p,q)\n",
    "Rbm,error = train_RBM(Rbm,X,learning_rate, batch_size, output_size)\n",
    "plt.plot(error)"
   ]
  },
  {
   "cell_type": "code",
   "execution_count": 16,
   "metadata": {},
   "outputs": [
    {
     "data": {
      "image/png": "[encoded data removed]",
      "text/plain": [
       "<Figure size 432x288 with 1 Axes>"
      ]
     },
     "metadata": {
      "needs_background": "light"
     },
     "output_type": "display_data"
    },
    {
     "data": {
      "image/png": "[encoded data removed]",
      "text/plain": [
       "<Figure size 432x288 with 1 Axes>"
      ]
     },
     "metadata": {
      "needs_background": "light"
     },
     "output_type": "display_data"
    }
   ],
   "source": [
    "generer_image_RBM(Rbm, nb_iter = 500, nb_images = 2)"
   ]
  },
  {
   "cell_type": "code",
   "execution_count": 17,
   "metadata": {},
   "outputs": [
    {
     "name": "stdout",
     "output_type": "stream",
     "text": [
      "Epoch :  0 Erreur :  0.1802761959202557\n",
      "Epoch :  10 Erreur :  0.0958385251747963\n",
      "Epoch :  20 Erreur :  0.05223621415088145\n",
      "Epoch :  30 Erreur :  0.028595053043109334\n",
      "Epoch :  40 Erreur :  0.016884338684044976\n",
      "Epoch :  50 Erreur :  0.010444687986504489\n",
      "Epoch :  60 Erreur :  0.007174438407357211\n",
      "Epoch :  70 Erreur :  0.005452000381980417\n",
      "Epoch :  80 Erreur :  0.003936186397045435\n",
      "Epoch :  90 Erreur :  0.00315947366304519\n",
      "Epoch :  0 Erreur :  0.16559405474741243\n",
      "Epoch :  10 Erreur :  0.11760612417971589\n",
      "Epoch :  20 Erreur :  0.06465131253760766\n",
      "Epoch :  30 Erreur :  0.03843260224648881\n",
      "Epoch :  40 Erreur :  0.023997881634923616\n",
      "Epoch :  50 Erreur :  0.01638402772654897\n",
      "Epoch :  60 Erreur :  0.010938305325545359\n",
      "Epoch :  70 Erreur :  0.008144419419273456\n",
      "Epoch :  80 Erreur :  0.005828067050449651\n",
      "Epoch :  90 Erreur :  0.004718070866436349\n",
      "Epoch :  0 Erreur :  0.2620990020668092\n",
      "Epoch :  10 Erreur :  0.16621069800811616\n",
      "Epoch :  20 Erreur :  0.08432848252798748\n",
      "Epoch :  30 Erreur :  0.05645611004260359\n",
      "Epoch :  40 Erreur :  0.03499366061300096\n",
      "Epoch :  50 Erreur :  0.020699364322995326\n",
      "Epoch :  60 Erreur :  0.015685922271731486\n",
      "Epoch :  70 Erreur :  0.010635109705643362\n",
      "Epoch :  80 Erreur :  0.009120094101312091\n",
      "Epoch :  90 Erreur :  0.007577908805374242\n"
     ]
    },
    {
     "data": {
      "text/plain": [
       "[<matplotlib.lines.Line2D at 0x2684ffddb20>]"
      ]
     },
     "execution_count": 17,
     "metadata": {},
     "output_type": "execute_result"
    },
    {
     "data": {
      "image/png": "[encoded data removed]",
      "text/plain": [
       "<Figure size 432x288 with 1 Axes>"
      ]
     },
     "metadata": {
      "needs_background": "light"
     },
     "output_type": "display_data"
    }
   ],
   "source": [
    "config = [len(X[0]),100,50,100]\n",
    "X  = lire_alpha_digit(['X'])\n",
    "Dbm = init_DBN(config)\n",
    "Dbm = train_DBN(Dbm, X, 0.1, 100, 3)\n",
    "plt.plot(error, 'red' )"
   ]
  },
  {
   "cell_type": "code",
   "execution_count": 18,
   "metadata": {
    "scrolled": false
   },
   "outputs": [
    {
     "data": {
      "image/png": "[encoded data removed]",
      "text/plain": [
       "<Figure size 432x288 with 1 Axes>"
      ]
     },
     "metadata": {
      "needs_background": "light"
     },
     "output_type": "display_data"
    },
    {
     "data": {
      "image/png": "[encoded data removed]",
      "text/plain": [
       "<Figure size 432x288 with 1 Axes>"
      ]
     },
     "metadata": {
      "needs_background": "light"
     },
     "output_type": "display_data"
    }
   ],
   "source": [
    "generer_image_RBM(Rbm, 500, 2)"
   ]
  },
  {
   "cell_type": "code",
   "execution_count": null,
   "metadata": {},
   "outputs": [],
   "source": []
  }
 ],
 "metadata": {
  "kernelspec": {
   "display_name": "Python 3 (ipykernel)",
   "language": "python",
   "name": "python3"
  },
  "language_info": {
   "codemirror_mode": {
    "name": "ipython",
    "version": 3
   },
   "file_extension": ".py",
   "mimetype": "text/x-python",
   "name": "python",
   "nbconvert_exporter": "python",
   "pygments_lexer": "ipython3",
   "version": "3.8.13"
  },
  "vscode": {
   "interpreter": {
    "hash": "f9536b55bfb9378dc6c66f0d0ab12324a50b180b1476f0ea0b6d5b7b55d4ecf0"
   }
  }
 },
 "nbformat": 4,
 "nbformat_minor": 2
}
