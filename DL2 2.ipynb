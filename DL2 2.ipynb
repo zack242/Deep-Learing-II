{
 "cells": [
  {
   "cell_type": "markdown",
   "metadata": {},
   "source": [
    "# Données"
   ]
  },
  {
   "cell_type": "code",
   "execution_count": 1,
   "metadata": {},
   "outputs": [],
   "source": [
    "import os\n",
    "import requests\n",
    "from scipy.io import loadmat\n",
    "from sklearn.datasets import fetch_openml\n",
    "from sklearn.preprocessing import OneHotEncoder\n",
    "import matplotlib.pyplot as plt\n",
    "from sklearn.utils import shuffle\n",
    "import numpy as np\n",
    "\n",
    "def get_mnist(): \n",
    "    mnist = fetch_openml('mnist_784')\n",
    "    X = mnist['data']\n",
    "    X = (mnist['data'] > 128).astype(int)\n",
    "    y = mnist['target']\n",
    "    y = OneHotEncoder().fit_transform(y.reshape(-1, 1)).toarray()\n",
    "    return X, y\n",
    "    \n",
    "def get_alphadigs():\n",
    "    if os.path.exists('data/alphadigs.mat'):\n",
    "        return loadmat('data/alphadigs.mat')\n",
    "    \n",
    "    alphadigs_url = 'https://cs.nyu.edu/~roweis/data/binaryalphadigs.mat'\n",
    "    r = requests.get(alphadigs_url, allow_redirects=True)\n",
    "\n",
    "    with open('data/alphadigs.mat', 'wb') as f:\n",
    "        f.write(r.content)\n",
    "                \n",
    "    return loadmat('data/alphadigs.mat')\n",
    "\n",
    "def lire_alpha_digit(digits_list):\n",
    "    # Charger les données\n",
    "    dataset = get_alphadigs()\n",
    "\n",
    "    # Filtrages des données selon la liste de chiffres voulus\n",
    "    digit2idx = {}\n",
    "    for i, digit in enumerate(dataset['classlabels'][0]):\n",
    "        digit2idx[digit[0]] = i\n",
    "    \n",
    "    idxs = []\n",
    "    for digit in digits_list:\n",
    "        idxs.append(digit2idx[digit])\n",
    "    \n",
    "    # Adaptation au format (n, p), chaque colonne designe un pixel et chaque ligne une image\n",
    "    return np.stack(np.concatenate(dataset['dat'][idxs])).reshape(-1, 20*16)"
   ]
  },
  {
   "cell_type": "code",
   "execution_count": 2,
   "metadata": {},
   "outputs": [],
   "source": [
    "f = lire_alpha_digit(['0', '2', 'P','F', 'Z'])"
   ]
  },
  {
   "cell_type": "code",
   "execution_count": 3,
   "metadata": {},
   "outputs": [
    {
     "data": {
      "text/plain": [
       "(195, 320)"
      ]
     },
     "execution_count": 3,
     "metadata": {},
     "output_type": "execute_result"
    }
   ],
   "source": [
    "f.shape"
   ]
  },
  {
   "cell_type": "code",
   "execution_count": 4,
   "metadata": {},
   "outputs": [],
   "source": [
    "import numpy as np\n",
    "import numpy as np\n",
    "import random\n",
    "import matplotlib.pyplot as plt\n",
    "\n",
    "def relu(x):\n",
    "    return np.maximum(x, 0)\n",
    "def sigmoid(x):\n",
    "    return 1 / (1 + np.exp(-x))"
   ]
  },
  {
   "cell_type": "markdown",
   "metadata": {},
   "source": [
    "# Fonctions élémentaires"
   ]
  },
  {
   "cell_type": "markdown",
   "metadata": {},
   "source": [
    "## Construction d’un RBM et test sur Binary AlphaDigits"
   ]
  },
  {
   "cell_type": "code",
   "execution_count": 5,
   "metadata": {},
   "outputs": [],
   "source": [
    "class RBM:\n",
    "    def __init__(self, p, q):\n",
    "        self.W = 0.01 * np.random.rand(p,q)\n",
    "        self.a = np.zeros((1,p))\n",
    "        self.b = np.zeros((1,q))\n",
    "        \n",
    "def init_RBM(p, q):\n",
    "    return RBM(p, q)\n",
    "\n",
    "def entree_sortie_RBM(rbm, x):\n",
    "    return sigmoid(np.dot(x, rbm.W) + rbm.b)\n",
    "\n",
    "def sortie_entree_RBM(rbm, y): #(n * q) -> (n * p)\n",
    "    return sigmoid(np.dot(y, rbm.W.T) + rbm.a)"
   ]
  },
  {
   "cell_type": "code",
   "execution_count": 6,
   "metadata": {},
   "outputs": [],
   "source": [
    "def train_RBM(rbm,X,learning_rate, epochs, batch_size):\n",
    "        \n",
    "    n = X.shape[0]\n",
    "    p = X.shape[1]\n",
    "    q = len(rbm.b) \n",
    "    \n",
    "    error = []\n",
    "    for epoch in range(epochs):\n",
    "        X_copy = X.copy()\n",
    "    \n",
    "        for batch  in range(0, n, batch_size):\n",
    "            X_batch = X_copy[batch:batch + batch_size]\n",
    "            \n",
    "            tb = len(X_batch)\n",
    "            \n",
    "            v_0 = X_batch # (tb * p)\n",
    "            #print(tb,p,v_0.shape)\n",
    "            \n",
    "            p_h_v_0 = entree_sortie_RBM(rbm,v_0) # (tb * q)\n",
    "            #print(tb,q,p_h_v_0.shape)\n",
    "            \n",
    "            h_0 = (p_h_v_0 > np.random.rand(tb, q)).astype(int) # (tb * q)\n",
    "            #print(tb,q,h_0.shape)\n",
    "            \n",
    "            p_v_h_0 = sortie_entree_RBM(rbm,h_0) # (tb * p)\n",
    "            #print(tb,p,p_v_h_0.shape)\n",
    "            v_1 = (p_v_h_0 > np.random.rand(tb, p)).astype(int) # (tb * p)\n",
    "            #print(tb,p,v_1.shape)\n",
    "            \n",
    "            p_h_v_1 = entree_sortie_RBM(rbm,v_1) # (tb * q)\n",
    "            #print(tb,q,p_h_v_1.shape)\n",
    "            \n",
    "            norm_learning_rate = learning_rate/tb\n",
    "            \n",
    "            rbm.W += norm_learning_rate * (np.dot(v_0.T, p_h_v_0) - np.dot(v_1.T, p_h_v_1)) # (p * q)   \n",
    "            #print(p,q,rbm.W.shape)     \n",
    "            rbm.a += norm_learning_rate * np.sum(v_0 - v_1, axis=0) # (1 * p)\n",
    "            #print(p,rbm.a.shape)\n",
    "            rbm.b += norm_learning_rate * np.sum(p_h_v_0 - p_h_v_1, axis=0) # (1 * q)\n",
    "            #print(q,rbm.b.shape)\n",
    "            \n",
    "        H = entree_sortie_RBM(rbm,X)\n",
    "        X_reconstruit = sortie_entree_RBM(rbm,H)\n",
    "        loss = np.sum((X - X_reconstruit)**2)/(n*p)\n",
    "        error.append(loss)\n",
    "        if epoch % 10 == 0:\n",
    "            print(\"Epoch : \", epoch, \"Erreur : \", loss)\n",
    "            \n",
    "    return rbm,error\n"
   ]
  },
  {
   "cell_type": "code",
   "execution_count": 7,
   "metadata": {},
   "outputs": [],
   "source": [
    "def generer_image_RBM(rbm, nb_iter, nb_images):\n",
    "    p = rbm.a.shape[1]\n",
    "    q = len(rbm.b)\n",
    "    for i in range(nb_images):\n",
    "        image = np.random.uniform(0, 1, (1, p))\n",
    "        for j in range(nb_iter):\n",
    "            prob_h_given_v = entree_sortie_RBM(rbm, image)\n",
    "            h = (prob_h_given_v > np.random.rand(q)) * 1.0\n",
    "            prob_v_given_h = sortie_entree_RBM(rbm, h)\n",
    "            image = (prob_v_given_h > np.random.rand(p)) * 1.0\n",
    "\n",
    "        image = np.reshape(image, (20, 16))\n",
    "        plt.imshow(image, cmap='gray')\n",
    "        plt.show()"
   ]
  },
  {
   "cell_type": "code",
   "execution_count": 8,
   "metadata": {},
   "outputs": [
    {
     "name": "stdout",
     "output_type": "stream",
     "text": [
      "Epoch :  0 Erreur :  0.18516778566921221\n",
      "Epoch :  10 Erreur :  0.09195802172933293\n",
      "Epoch :  20 Erreur :  0.04849429055110907\n",
      "Epoch :  30 Erreur :  0.028782382953361343\n",
      "Epoch :  40 Erreur :  0.018106945713615152\n",
      "Epoch :  50 Erreur :  0.011560423864543597\n",
      "Epoch :  60 Erreur :  0.008003733122852671\n",
      "Epoch :  70 Erreur :  0.005705149641306666\n",
      "Epoch :  80 Erreur :  0.004363547235326432\n",
      "Epoch :  90 Erreur :  0.003458834242993804\n"
     ]
    },
    {
     "data": {
      "text/plain": [
       "[<matplotlib.lines.Line2D at 0x1dd041bad00>]"
      ]
     },
     "execution_count": 8,
     "metadata": {},
     "output_type": "execute_result"
    },
    {
     "data": {
      "image/png": "[encoded data removed]",
      "text/plain": [
       "<Figure size 432x288 with 1 Axes>"
      ]
     },
     "metadata": {
      "needs_background": "light"
     },
     "output_type": "display_data"
    }
   ],
   "source": [
    "X = lire_alpha_digit(['X'])\n",
    "p = len(X[0])\n",
    "q = 100\n",
    "Rbm = init_RBM(p,q)\n",
    "Rbm,error = train_RBM(Rbm,X,0.1, 100, 3)\n",
    "plt.plot(error)"
   ]
  },
  {
   "cell_type": "code",
   "execution_count": 9,
   "metadata": {},
   "outputs": [
    {
     "data": {
      "image/png": "[encoded data removed]",
      "text/plain": [
       "<Figure size 432x288 with 1 Axes>"
      ]
     },
     "metadata": {
      "needs_background": "light"
     },
     "output_type": "display_data"
    },
    {
     "data": {
      "image/png": "[encoded data removed]",
      "text/plain": [
       "<Figure size 432x288 with 1 Axes>"
      ]
     },
     "metadata": {
      "needs_background": "light"
     },
     "output_type": "display_data"
    }
   ],
   "source": [
    "generer_image_RBM(Rbm, 500, 2)"
   ]
  },
  {
   "cell_type": "markdown",
   "metadata": {},
   "source": [
    "# Construction d’un DBN et test sur Binary AlphaDigits"
   ]
  },
  {
   "cell_type": "code",
   "execution_count": 10,
   "metadata": {},
   "outputs": [],
   "source": [
    "def init_DBN(config):\n",
    "    for i in range(len(config)-1):\n",
    "        if i == 0:\n",
    "            DBN = [init_RBM(config[i], config[i+1])]\n",
    "        else:\n",
    "            DBN.append(init_RBM(config[i], config[i+1]))\n",
    "    return DBN\n",
    "\n",
    "def train_DBN(DBN, H, epsilon, epochs, batch_size):\n",
    "    for i in range(len(DBN)):\n",
    "            DBN[i],error = train_RBM(DBN[i], H, epsilon, epochs, batch_size)\n",
    "            H = entree_sortie_RBM(DBN[i],H)\n",
    "    return DBN"
   ]
  },
  {
   "cell_type": "code",
   "execution_count": 11,
   "metadata": {},
   "outputs": [],
   "source": [
    "def generer_image_DBN(Dbm, nb_iter, nb_images):\n",
    "    for i in range(nb_images):\n",
    "        v_0 = np.random.uniform(0, 1, (1, config[0]))\n",
    "        v_k = v_0\n",
    "        for j in range(nb_iter):\n",
    "            \n",
    "            for y in range(0,len(Dbm)): \n",
    "                prob_h_given_v = entree_sortie_RBM(Dbm[y], v_k)\n",
    "                v_k = (prob_h_given_v > np.random.rand(config[y+1])) * 1.0\n",
    "\n",
    "            h_k = v_k\n",
    "            for k in range(len(Dbm)-1, -1, -1):\n",
    "                prob_v_given_h = sortie_entree_RBM(Dbm[k], h_k)\n",
    "                h_k = (prob_v_given_h > np.random.rand(config[k])) * 1.0\n",
    "\n",
    "            v_k = h_k\n",
    "\n",
    "        image = np.reshape(v_k, (20, 16))\n",
    "        plt.imshow(image, cmap='gray')\n",
    "        plt.show()"
   ]
  },
  {
   "cell_type": "code",
   "execution_count": 12,
   "metadata": {},
   "outputs": [
    {
     "name": "stdout",
     "output_type": "stream",
     "text": [
      "Epoch :  0 Erreur :  0.18271953649198086\n",
      "Epoch :  10 Erreur :  0.09761023375270225\n",
      "Epoch :  20 Erreur :  0.04781730672334792\n",
      "Epoch :  30 Erreur :  0.02775661417939184\n",
      "Epoch :  40 Erreur :  0.01742828229075545\n",
      "Epoch :  50 Erreur :  0.011913689653811944\n",
      "Epoch :  60 Erreur :  0.008432467447065675\n",
      "Epoch :  70 Erreur :  0.006521382188542273\n",
      "Epoch :  80 Erreur :  0.005170693734466484\n",
      "Epoch :  90 Erreur :  0.003921055043899971\n",
      "Epoch :  0 Erreur :  0.16342437290190387\n",
      "Epoch :  10 Erreur :  0.11722015834197738\n",
      "Epoch :  20 Erreur :  0.0640867351605961\n",
      "Epoch :  30 Erreur :  0.038509443534083705\n",
      "Epoch :  40 Erreur :  0.02302171061045492\n",
      "Epoch :  50 Erreur :  0.016502689671795478\n",
      "Epoch :  60 Erreur :  0.011537587595236489\n",
      "Epoch :  70 Erreur :  0.008305779773810508\n",
      "Epoch :  80 Erreur :  0.006143535317040049\n",
      "Epoch :  90 Erreur :  0.005754204564733511\n",
      "Epoch :  0 Erreur :  0.24763739513110755\n",
      "Epoch :  10 Erreur :  0.1887379284608036\n",
      "Epoch :  20 Erreur :  0.08548368975395143\n",
      "Epoch :  30 Erreur :  0.0573632369088695\n",
      "Epoch :  40 Erreur :  0.038141802120061505\n",
      "Epoch :  50 Erreur :  0.02534631211283872\n",
      "Epoch :  60 Erreur :  0.014546156587621688\n",
      "Epoch :  70 Erreur :  0.012413419363650662\n",
      "Epoch :  80 Erreur :  0.009150296698535506\n",
      "Epoch :  90 Erreur :  0.006905549835355506\n"
     ]
    }
   ],
   "source": [
    "config = [len(X[0]),100,50,100]\n",
    "X  = lire_alpha_digit(['X'])\n",
    "Dbm = init_DBN(config)\n",
    "Dbm = train_DBN(Dbm, X, 0.1, 100, 3)"
   ]
  },
  {
   "cell_type": "code",
   "execution_count": 13,
   "metadata": {},
   "outputs": [
    {
     "data": {
      "image/png": "[encoded data removed]",
      "text/plain": [
       "<Figure size 432x288 with 1 Axes>"
      ]
     },
     "metadata": {
      "needs_background": "light"
     },
     "output_type": "display_data"
    },
    {
     "data": {
      "image/png": "[encoded data removed]",
      "text/plain": [
       "<Figure size 432x288 with 1 Axes>"
      ]
     },
     "metadata": {
      "needs_background": "light"
     },
     "output_type": "display_data"
    }
   ],
   "source": [
    "generer_image_DBN(Dbm, 500, 2)"
   ]
  },
  {
   "cell_type": "markdown",
   "metadata": {},
   "source": [
    "# Construction d’un DNN et test sur MNIST"
   ]
  },
  {
   "cell_type": "code",
   "execution_count": 14,
   "metadata": {},
   "outputs": [],
   "source": [
    "from principal_RBM_MNIST import init_RBM, entree_sortie_RBM,\\\n",
    "                                sortie_entree_RBM, train_RBM\n",
    "# Définition de la classe DNN\n",
    "class DNN:\n",
    "    # Initialisation de la classe DNN avec 3 arguments: p, hidden_layers_units, nbr_classes\n",
    "    def __init__(self, p, hidden_layers_units, nbr_classes):\n",
    "        # Vérifie si hidden_layers_units contient au moins un élément\n",
    "        if len(hidden_layers_units) == 0:\n",
    "            # Si hidden_layers_units est vide, une exception ValueError est levée\n",
    "            raise ValueError('Pas de hidden layers...')\n",
    "        # Stocke les arguments en tant qu'attributs de la classe\n",
    "        self.p = p\n",
    "        self.nbr_classes = nbr_classes\n",
    "        # Initialise layer_p avec la valeur de p\n",
    "        layer_p = p\n",
    "        # Initialise une liste vide pour stocker les RBM\n",
    "        self.DBN = []\n",
    "        # Parcours tous les éléments de hidden_layers_units\n",
    "        for l, q in enumerate(hidden_layers_units):\n",
    "            # Initialise un RBM avec p=layer_p et q=q, puis ajoute ce RBM à la liste DBN\n",
    "            self.DBN.append(init_RBM(p=layer_p, q=q))\n",
    "            # Met à jour la valeur de layer_p avec la valeur de q\n",
    "            layer_p = q\n",
    "        # Initialise un RBM pour la couche de classification avec p=layer_p et q=nbr_classes\n",
    "        self.classification_layer = init_RBM(p=layer_p, q=nbr_classes)\n",
    "        # Stocke le nombre de couches cachées dans l'attribut nbr_hidden_layers\n",
    "        self.nbr_hidden_layers = len(self.DBN)\n",
    "                \n",
    "# fonction qui initialise un objet DNN avec les arguments donnés\n",
    "def init_DNN(p, hidden_layers_units, nbr_classes):\n",
    "    return DNN(p, hidden_layers_units, nbr_classes)\n",
    "\n"
   ]
  },
  {
   "cell_type": "code",
   "execution_count": 15,
   "metadata": {},
   "outputs": [],
   "source": [
    "# fonction qui effectue une phase de pré-entraînement sur l'objet DNN donné avec les données X, \n",
    "# pendant un certain nombre d'époques, avec un taux d'apprentissage et une taille de batch donnés\n",
    "def pretrain_DNN(dnn, X, epochs, learning_rate, batch_size):\n",
    "    # Copie les données X dans v\n",
    "    v = X.copy()\n",
    "    # Parcours toutes les couches cachées de l'objet DNN\n",
    "    for layer in range(dnn.nbr_hidden_layers):\n",
    "        # Effectue une phase d'entraînement sur la couche RBM actuelle avec les données v, \n",
    "        # pendant un certain nombre d'époques, avec un taux d'apprentissage et une taille de batch donnés\n",
    "        dnn.DBN[layer] = train_RBM(dnn.DBN[layer], v, epochs=epochs, learning_rate=learning_rate, batch_size=batch_size, cd_k=1)\n",
    "        # Calcule la sortie de la couche RBM actuelle et stocke cette sortie dans v\n",
    "        _, v = entree_sortie_RBM(dnn.DBN[layer], v)\n",
    "    # Retourne l'objet DNN avec les couches RBM pré-entraînées\n",
    "    return dnn\n",
    "\n"
   ]
  },
  {
   "cell_type": "code",
   "execution_count": 16,
   "metadata": {},
   "outputs": [],
   "source": [
    "# Cette fonction prend en entrée une RBM et une matrice d'entrée, et calcule la sortie\n",
    "# softmax de la couche de classification.\n",
    "def calcul_softmax(rbm_unit, data_entree):\n",
    "    # Calcul de la sortie brute de la RBM.\n",
    "    raw_output = data_entree @ rbm_unit.W + rbm_unit.b\n",
    "    # Calcul des exponentielles de la sortie brute, avec une normalisation pour éviter les erreurs numériques.\n",
    "    exps = np.exp(raw_output - np.max(raw_output, axis=1)[:, None])\n",
    "    # Calcul de la sortie softmax.\n",
    "    return exps / np.sum(exps, axis=1)[:, None], raw_output\n",
    "\n"
   ]
  },
  {
   "cell_type": "code",
   "execution_count": 17,
   "metadata": {},
   "outputs": [],
   "source": [
    "# Cette fonction prend en entrée un réseau DNN et une matrice d'entrée, et calcule la sortie\n",
    "# du réseau pour cette entrée.\n",
    "def entree_sortie_reseau(dnn, data_entree):\n",
    "    # Initialisation d'une liste pour stocker les sorties de chaque couche.\n",
    "    outputs_reseau = []\n",
    "    # Copie de la matrice d'entrée.\n",
    "    v = data_entree.copy()\n",
    "    # Boucle sur les couches cachées du DNN.\n",
    "    for i in range(dnn.nbr_hidden_layers):\n",
    "        # Calcul de la sortie de la couche cachée avec une RBM.\n",
    "        v, _ = entree_sortie_RBM(dnn.DBN[i], v)\n",
    "        # Stockage de la sortie de la couche cachée.\n",
    "        outputs_reseau.append(v)\n",
    "    # Calcul de la sortie de la couche de classification.\n",
    "    class_probabilities, raw_classification_output = calcul_softmax(dnn.classification_layer, v)\n",
    "    # Stockage de la sortie brute de la couche de classification et de la sortie softmax.\n",
    "    outputs_reseau.append(raw_classification_output)\n",
    "    outputs_reseau.append(class_probabilities)\n",
    "    # Retourne la liste des sorties de chaque couche.\n",
    "    return outputs_reseau"
   ]
  },
  {
   "cell_type": "code",
   "execution_count": 18,
   "metadata": {},
   "outputs": [],
   "source": [
    "# Cette fonction calcule l'entropie croisée entre les prédictions et les cibles.\n",
    "def cross_entropy(predictions, targets, epsilon=1e-12):\n",
    "    # Limitation des prédictions pour éviter les erreurs de calcul.\n",
    "    predictions = np.clip(predictions, epsilon, 1. - epsilon)\n",
    "    # Calcul de la taille de l'échantillon.\n",
    "    N = predictions.shape[0]\n",
    "    # Calcul de l'entropie croisée.\n",
    "    ce = -np.sum(targets * np.log(predictions + 1e-9)) / N\n",
    "    return ce\n",
    "\n",
    "def retropropagation(dnn, epochs, learning_rate, batch_size, X, y):\n",
    "    loss_history = [] # Liste vide pour stocker les valeurs de la fonction de coût\n",
    "    X_train = X.copy()\n",
    "    y_train = y.copy()\n",
    "    for epoch in range(epochs):\n",
    "        X_train, y_train = shuffle(X_train, y_train) # On mélange les données\n",
    "        loss = 0.\n",
    "        n = X_train.shape[0]\n",
    "        if batch_size > n:\n",
    "            raise ValueError('Batch size > Train size') \n",
    "        for batch_start in range(0, n - batch_size, batch_size):\n",
    "            x_batch = X_train[batch_start:batch_start + batch_size, :]  # Extraction des exemples pour le batch\n",
    "            y_batch = y_train[batch_start:batch_start + batch_size, :]  # Extraction des labels pour le batch\n",
    "            taille_batch = x_batch.shape[0]\n",
    "            outputs_reseau = entree_sortie_reseau(dnn, x_batch)\n",
    "            y_pred = outputs_reseau[-1]\n",
    "            grads = {}\n",
    "            c_p = y_pred - y_batch  # Calcul de la dérivée partielle de la fonction de coût par rapport aux sorties \n",
    "                                    # de la dernière couche\n",
    "            x_l_minus_1 = outputs_reseau[-3] # Données d'entrée pour la dernière couche cachée\n",
    "            grads[f'dW_softmax'] = (x_l_minus_1.T @ c_p)/taille_batch # Calcul du gradient de la dernière couche\n",
    "                                                                      # de classification\n",
    "            grads[f'db_softmax'] = np.mean(c_p, axis=0)\n",
    "            c_l_plus_1 = c_p # Initialisation de la dérivée partielle de la fonction de coût par rapport aux sorties\n",
    "                             # de la couche précédente\n",
    "            # Parcourt sur les couches cachées du réseau de neurones partant de la dernière couche cachée à la première.\n",
    "            for l in range(dnn.nbr_hidden_layers - 1, -1, -1):\n",
    "                x_l = outputs_reseau[l] # récupèration de la sortie de la couche cachée actuelle.\n",
    "                if l != 0:\n",
    "                    x_l_minus_1 = outputs_reseau[l-1]\n",
    "                else:\n",
    "                    x_l_minus_1 = x_batch\n",
    "                if l == dnn.nbr_hidden_layers - 1:\n",
    "                    W_l_plus_1 = dnn.classification_layer.W\n",
    "                else:\n",
    "                    W_l_plus_1 = dnn.DBN[l+1].W\n",
    "                c_l = (c_l_plus_1 @ W_l_plus_1.T)*(x_l*(1-x_l)) \n",
    "                c_l_plus_1 = c_l # mise à jour l'erreur pour la couche suivante.\n",
    "                grads[f'dW_{l}'] = (x_l_minus_1.T @ c_l)/taille_batch # calcul des gradients pour la couche actuelle.\n",
    "                grads[f'db_{l}'] = np.mean(c_l, axis=0)\n",
    "            dnn.classification_layer.W -= learning_rate*grads['dW_softmax'] # Mise à jour du gradient\n",
    "            dnn.classification_layer.b -= learning_rate*grads['db_softmax'] # Mise à jour du gradient\n",
    "            for l in range(dnn.nbr_hidden_layers - 1, -1, -1):\n",
    "                dnn.DBN[l].W -= learning_rate*grads[f'dW_{l}'] # Mise à jour des poids et biais de chaque couche cachée\n",
    "                dnn.DBN[l].b -= learning_rate*grads[f'db_{l}']\n",
    "        outputs_reseau = entree_sortie_reseau(dnn, X_train)  # Calcul de la perte sur les données d'entraînement\n",
    "        prob_y_pred = outputs_reseau[-1]\n",
    "        train_loss = cross_entropy(prob_y_pred, y_train)\n",
    "        loss_history.append(train_loss)\n",
    "    # Visualisation de la courbe de perte au fil des epochs\n",
    "    f = plt.figure(figsize=(10, 7))\n",
    "    plt.plot(range(epochs), loss_history)\n",
    "    plt.legend(['Cross entropy'])\n",
    "    plt.title(\"Cross entropy per epochs\")\n",
    "    plt.xlabel(\"epochs\")\n",
    "    plt.ylabel('Cross entropy')\n",
    "    plt.show()\n",
    "    return [dnn, loss_history]"
   ]
  },
  {
   "cell_type": "code",
   "execution_count": 19,
   "metadata": {},
   "outputs": [],
   "source": [
    "def test_DNN(dnn, X_test, y_test):\n",
    "    # Compute the outputs of the network for the test set\n",
    "    outputs_reseau = entree_sortie_reseau(dnn, X_test)\n",
    "    # Get the predicted labels from the network's output\n",
    "    y_pred = outputs_reseau[-1]\n",
    "    # Compute the cross-entropy loss for the test set\n",
    "    test_loss = cross_entropy(y_pred, y_test)\n",
    "    # Convert the predicted labels to one-hot encoding\n",
    "    pred_labels = np.zeros_like(y_pred)\n",
    "    pred_labels[np.arange(len(y_pred)), y_pred.argmax(1)] = 1\n",
    "    # Compute the accuracy of the predictions\n",
    "    acc_test = np.sum((pred_labels == y_test).all(1))/pred_labels.shape[0]\n",
    "    # Print the test loss and accuracy\n",
    "    print(f'Test loss: {test_loss}, Acc. %: {100*acc_test}%')\n",
    "    # Return the test loss and accuracy\n",
    "    return test_loss, acc_test"
   ]
  },
  {
   "cell_type": "code",
   "execution_count": 20,
   "metadata": {},
   "outputs": [],
   "source": [
    "# Load the MNIST data\n",
    "from sklearn.model_selection import train_test_split\n",
    "X, y = get_mnist()\n",
    "X_train, X_test, y_train, y_test = train_test_split(X, y, test_size=0.2, random_state=42)"
   ]
  },
  {
   "cell_type": "code",
   "execution_count": 21,
   "metadata": {},
   "outputs": [
    {
     "name": "stdout",
     "output_type": "stream",
     "text": [
      "Epoch: 0 -- Erreur de reconstruction: 0.07249271137026239\n",
      "Epoch: 1 -- Erreur de reconstruction: 0.06284814595481049\n",
      "Epoch: 2 -- Erreur de reconstruction: 0.05771560677842565\n",
      "Epoch: 3 -- Erreur de reconstruction: 0.054426931486880464\n",
      "Epoch: 4 -- Erreur de reconstruction: 0.05188379190962099\n",
      "Epoch: 5 -- Erreur de reconstruction: 0.04988249362244898\n",
      "Epoch: 6 -- Erreur de reconstruction: 0.04813103589650146\n",
      "Epoch: 7 -- Erreur de reconstruction: 0.04678603316326531\n",
      "Epoch: 8 -- Erreur de reconstruction: 0.0456488930393586\n",
      "Epoch: 9 -- Erreur de reconstruction: 0.04447325983965015\n",
      "Epoch: 10 -- Erreur de reconstruction: 0.04365588556851312\n",
      "Epoch: 11 -- Erreur de reconstruction: 0.042760226858600585\n",
      "Epoch: 12 -- Erreur de reconstruction: 0.042058764577259475\n",
      "Epoch: 13 -- Erreur de reconstruction: 0.04142738702623907\n",
      "Epoch: 14 -- Erreur de reconstruction: 0.04092246720116618\n",
      "Epoch: 15 -- Erreur de reconstruction: 0.040317351494169096\n",
      "Epoch: 16 -- Erreur de reconstruction: 0.03980883290816326\n",
      "Epoch: 17 -- Erreur de reconstruction: 0.03933165543002915\n",
      "Epoch: 18 -- Erreur de reconstruction: 0.038915019132653064\n",
      "Epoch: 19 -- Erreur de reconstruction: 0.038537217565597665\n",
      "Epoch: 0 -- Erreur de reconstruction: 0.20344473214285713\n",
      "Epoch: 1 -- Erreur de reconstruction: 0.17768044642857142\n",
      "Epoch: 2 -- Erreur de reconstruction: 0.1641636607142857\n",
      "Epoch: 3 -- Erreur de reconstruction: 0.15521089285714285\n",
      "Epoch: 4 -- Erreur de reconstruction: 0.1495274107142857\n",
      "Epoch: 5 -- Erreur de reconstruction: 0.1450225\n",
      "Epoch: 6 -- Erreur de reconstruction: 0.141534375\n",
      "Epoch: 7 -- Erreur de reconstruction: 0.1385775892857143\n",
      "Epoch: 8 -- Erreur de reconstruction: 0.1357917857142857\n",
      "Epoch: 9 -- Erreur de reconstruction: 0.13336857142857142\n",
      "Epoch: 10 -- Erreur de reconstruction: 0.131893125\n",
      "Epoch: 11 -- Erreur de reconstruction: 0.13024383928571429\n",
      "Epoch: 12 -- Erreur de reconstruction: 0.12884330357142856\n",
      "Epoch: 13 -- Erreur de reconstruction: 0.12743598214285715\n",
      "Epoch: 14 -- Erreur de reconstruction: 0.1261938392857143\n",
      "Epoch: 15 -- Erreur de reconstruction: 0.12511339285714285\n",
      "Epoch: 16 -- Erreur de reconstruction: 0.12400205357142857\n",
      "Epoch: 17 -- Erreur de reconstruction: 0.12294285714285715\n",
      "Epoch: 18 -- Erreur de reconstruction: 0.122514375\n",
      "Epoch: 19 -- Erreur de reconstruction: 0.121409375\n"
     ]
    },
    {
     "data": {
      "image/png": "[encoded data removed]",
      "text/plain": [
       "<Figure size 720x504 with 1 Axes>"
      ]
     },
     "metadata": {
      "needs_background": "light"
     },
     "output_type": "display_data"
    },
    {
     "name": "stdout",
     "output_type": "stream",
     "text": [
      "Test loss: 0.15158359645447153, Acc. %: 95.55714285714285%\n",
      "Epoch: 0 -- Erreur de reconstruction: 0.07244631468658892\n",
      "Epoch: 1 -- Erreur de reconstruction: 0.06290237791545189\n",
      "Epoch: 2 -- Erreur de reconstruction: 0.05779644223760933\n",
      "Epoch: 3 -- Erreur de reconstruction: 0.0543269861516035\n",
      "Epoch: 4 -- Erreur de reconstruction: 0.05168920827259475\n",
      "Epoch: 5 -- Erreur de reconstruction: 0.04967836643586006\n",
      "Epoch: 6 -- Erreur de reconstruction: 0.04807361516034985\n",
      "Epoch: 7 -- Erreur de reconstruction: 0.046706905976676386\n",
      "Epoch: 8 -- Erreur de reconstruction: 0.04542911807580175\n",
      "Epoch: 9 -- Erreur de reconstruction: 0.04440046465014577\n",
      "Epoch: 10 -- Erreur de reconstruction: 0.043503621537900876\n",
      "Epoch: 11 -- Erreur de reconstruction: 0.04284174562682216\n",
      "Epoch: 12 -- Erreur de reconstruction: 0.04211276876822157\n",
      "Epoch: 13 -- Erreur de reconstruction: 0.04136103771865889\n",
      "Epoch: 14 -- Erreur de reconstruction: 0.04087486333819242\n",
      "Epoch: 15 -- Erreur de reconstruction: 0.04039032889941691\n",
      "Epoch: 16 -- Erreur de reconstruction: 0.039894428753644316\n",
      "Epoch: 17 -- Erreur de reconstruction: 0.03953109056122449\n",
      "Epoch: 18 -- Erreur de reconstruction: 0.03910374908892128\n",
      "Epoch: 19 -- Erreur de reconstruction: 0.03864554482507289\n",
      "Epoch: 0 -- Erreur de reconstruction: 0.20509035714285714\n",
      "Epoch: 1 -- Erreur de reconstruction: 0.1781794642857143\n",
      "Epoch: 2 -- Erreur de reconstruction: 0.16535241071428572\n",
      "Epoch: 3 -- Erreur de reconstruction: 0.15706964285714287\n",
      "Epoch: 4 -- Erreur de reconstruction: 0.15090973214285713\n",
      "Epoch: 5 -- Erreur de reconstruction: 0.14605642857142856\n",
      "Epoch: 6 -- Erreur de reconstruction: 0.1423411607142857\n",
      "Epoch: 7 -- Erreur de reconstruction: 0.13925785714285716\n",
      "Epoch: 8 -- Erreur de reconstruction: 0.13678857142857143\n",
      "Epoch: 9 -- Erreur de reconstruction: 0.13426785714285713\n",
      "Epoch: 10 -- Erreur de reconstruction: 0.132578125\n",
      "Epoch: 11 -- Erreur de reconstruction: 0.13146696428571428\n",
      "Epoch: 12 -- Erreur de reconstruction: 0.12946375\n",
      "Epoch: 13 -- Erreur de reconstruction: 0.12822741071428573\n",
      "Epoch: 14 -- Erreur de reconstruction: 0.1268217857142857\n",
      "Epoch: 15 -- Erreur de reconstruction: 0.1256194642857143\n",
      "Epoch: 16 -- Erreur de reconstruction: 0.1252161607142857\n",
      "Epoch: 17 -- Erreur de reconstruction: 0.123838125\n",
      "Epoch: 18 -- Erreur de reconstruction: 0.12315785714285714\n",
      "Epoch: 19 -- Erreur de reconstruction: 0.12233660714285714\n",
      "Epoch: 0 -- Erreur de reconstruction: 0.16977517857142857\n",
      "Epoch: 1 -- Erreur de reconstruction: 0.14932392857142857\n",
      "Epoch: 2 -- Erreur de reconstruction: 0.140004375\n",
      "Epoch: 3 -- Erreur de reconstruction: 0.13378071428571428\n",
      "Epoch: 4 -- Erreur de reconstruction: 0.12983589285714286\n",
      "Epoch: 5 -- Erreur de reconstruction: 0.12710473214285714\n",
      "Epoch: 6 -- Erreur de reconstruction: 0.12463196428571428\n",
      "Epoch: 7 -- Erreur de reconstruction: 0.12319830357142857\n",
      "Epoch: 8 -- Erreur de reconstruction: 0.12140803571428571\n",
      "Epoch: 9 -- Erreur de reconstruction: 0.120385\n",
      "Epoch: 10 -- Erreur de reconstruction: 0.11902410714285715\n",
      "Epoch: 11 -- Erreur de reconstruction: 0.11815553571428572\n",
      "Epoch: 12 -- Erreur de reconstruction: 0.11719375\n",
      "Epoch: 13 -- Erreur de reconstruction: 0.11645901785714285\n",
      "Epoch: 14 -- Erreur de reconstruction: 0.11545089285714286\n",
      "Epoch: 15 -- Erreur de reconstruction: 0.11511223214285714\n",
      "Epoch: 16 -- Erreur de reconstruction: 0.11436866071428571\n",
      "Epoch: 17 -- Erreur de reconstruction: 0.11414285714285714\n",
      "Epoch: 18 -- Erreur de reconstruction: 0.11350741071428572\n",
      "Epoch: 19 -- Erreur de reconstruction: 0.11292705357142857\n"
     ]
    },
    {
     "data": {
      "image/png": "[encoded data removed]",
      "text/plain": [
       "<Figure size 720x504 with 1 Axes>"
      ]
     },
     "metadata": {
      "needs_background": "light"
     },
     "output_type": "display_data"
    },
    {
     "name": "stdout",
     "output_type": "stream",
     "text": [
      "Test loss: 0.14339053875324068, Acc. %: 95.78571428571429%\n",
      "Epoch: 0 -- Erreur de reconstruction: 0.07247699526239067\n",
      "Epoch: 1 -- Erreur de reconstruction: 0.06317485878279884\n",
      "Epoch: 2 -- Erreur de reconstruction: 0.05789600036443149\n",
      "Epoch: 3 -- Erreur de reconstruction: 0.05460345298833819\n",
      "Epoch: 4 -- Erreur de reconstruction: 0.05202250364431487\n",
      "Epoch: 5 -- Erreur de reconstruction: 0.049994829628279884\n",
      "Epoch: 6 -- Erreur de reconstruction: 0.04827872175655977\n",
      "Epoch: 7 -- Erreur de reconstruction: 0.04691488247084548\n",
      "Epoch: 8 -- Erreur de reconstruction: 0.045792228498542274\n",
      "Epoch: 9 -- Erreur de reconstruction: 0.04466280976676385\n",
      "Epoch: 10 -- Erreur de reconstruction: 0.04374697066326531\n",
      "Epoch: 11 -- Erreur de reconstruction: 0.04295360331632653\n",
      "Epoch: 12 -- Erreur de reconstruction: 0.04234413720845481\n",
      "Epoch: 13 -- Erreur de reconstruction: 0.04171818057580175\n",
      "Epoch: 14 -- Erreur de reconstruction: 0.04116763848396501\n",
      "Epoch: 15 -- Erreur de reconstruction: 0.040630033709912534\n",
      "Epoch: 16 -- Erreur de reconstruction: 0.04011859967201166\n",
      "Epoch: 17 -- Erreur de reconstruction: 0.039673218841107874\n",
      "Epoch: 18 -- Erreur de reconstruction: 0.03928626093294461\n",
      "Epoch: 19 -- Erreur de reconstruction: 0.039021114249271134\n",
      "Epoch: 0 -- Erreur de reconstruction: 0.20423205357142857\n",
      "Epoch: 1 -- Erreur de reconstruction: 0.17803321428571428\n",
      "Epoch: 2 -- Erreur de reconstruction: 0.16470928571428572\n",
      "Epoch: 3 -- Erreur de reconstruction: 0.15633214285714286\n",
      "Epoch: 4 -- Erreur de reconstruction: 0.14999955357142858\n",
      "Epoch: 5 -- Erreur de reconstruction: 0.14554955357142857\n",
      "Epoch: 6 -- Erreur de reconstruction: 0.14191544642857143\n",
      "Epoch: 7 -- Erreur de reconstruction: 0.13872544642857143\n",
      "Epoch: 8 -- Erreur de reconstruction: 0.1360238392857143\n",
      "Epoch: 9 -- Erreur de reconstruction: 0.13430026785714286\n",
      "Epoch: 10 -- Erreur de reconstruction: 0.13188267857142857\n",
      "Epoch: 11 -- Erreur de reconstruction: 0.13014553571428572\n",
      "Epoch: 12 -- Erreur de reconstruction: 0.12873535714285714\n",
      "Epoch: 13 -- Erreur de reconstruction: 0.12755580357142857\n",
      "Epoch: 14 -- Erreur de reconstruction: 0.12632723214285715\n",
      "Epoch: 15 -- Erreur de reconstruction: 0.1255369642857143\n",
      "Epoch: 16 -- Erreur de reconstruction: 0.12433071428571428\n",
      "Epoch: 17 -- Erreur de reconstruction: 0.12328732142857143\n",
      "Epoch: 18 -- Erreur de reconstruction: 0.12287714285714285\n",
      "Epoch: 19 -- Erreur de reconstruction: 0.12189178571428572\n",
      "Epoch: 0 -- Erreur de reconstruction: 0.1731917857142857\n",
      "Epoch: 1 -- Erreur de reconstruction: 0.15275178571428571\n",
      "Epoch: 2 -- Erreur de reconstruction: 0.14311455357142858\n",
      "Epoch: 3 -- Erreur de reconstruction: 0.13720651785714286\n",
      "Epoch: 4 -- Erreur de reconstruction: 0.13313535714285715\n",
      "Epoch: 5 -- Erreur de reconstruction: 0.13023723214285715\n",
      "Epoch: 6 -- Erreur de reconstruction: 0.12782375\n",
      "Epoch: 7 -- Erreur de reconstruction: 0.12595276785714285\n",
      "Epoch: 8 -- Erreur de reconstruction: 0.12427830357142858\n",
      "Epoch: 9 -- Erreur de reconstruction: 0.12318241071428572\n",
      "Epoch: 10 -- Erreur de reconstruction: 0.12175821428571429\n",
      "Epoch: 11 -- Erreur de reconstruction: 0.12091169642857143\n",
      "Epoch: 12 -- Erreur de reconstruction: 0.11993928571428572\n",
      "Epoch: 13 -- Erreur de reconstruction: 0.11939982142857143\n",
      "Epoch: 14 -- Erreur de reconstruction: 0.11855267857142857\n",
      "Epoch: 15 -- Erreur de reconstruction: 0.11800071428571429\n",
      "Epoch: 16 -- Erreur de reconstruction: 0.11757169642857143\n",
      "Epoch: 17 -- Erreur de reconstruction: 0.11682223214285714\n",
      "Epoch: 18 -- Erreur de reconstruction: 0.11657928571428572\n",
      "Epoch: 19 -- Erreur de reconstruction: 0.11591428571428572\n",
      "Epoch: 0 -- Erreur de reconstruction: 0.21041160714285714\n",
      "Epoch: 1 -- Erreur de reconstruction: 0.190815\n",
      "Epoch: 2 -- Erreur de reconstruction: 0.18103535714285715\n",
      "Epoch: 3 -- Erreur de reconstruction: 0.17601839285714285\n",
      "Epoch: 4 -- Erreur de reconstruction: 0.17251294642857143\n",
      "Epoch: 5 -- Erreur de reconstruction: 0.16962258928571428\n",
      "Epoch: 6 -- Erreur de reconstruction: 0.16731357142857142\n",
      "Epoch: 7 -- Erreur de reconstruction: 0.16556375\n",
      "Epoch: 8 -- Erreur de reconstruction: 0.16426089285714285\n",
      "Epoch: 9 -- Erreur de reconstruction: 0.16334401785714286\n",
      "Epoch: 10 -- Erreur de reconstruction: 0.162214375\n",
      "Epoch: 11 -- Erreur de reconstruction: 0.16156491071428572\n",
      "Epoch: 12 -- Erreur de reconstruction: 0.16056392857142857\n",
      "Epoch: 13 -- Erreur de reconstruction: 0.1601344642857143\n",
      "Epoch: 14 -- Erreur de reconstruction: 0.15951383928571428\n",
      "Epoch: 15 -- Erreur de reconstruction: 0.15930875\n",
      "Epoch: 16 -- Erreur de reconstruction: 0.15870875\n",
      "Epoch: 17 -- Erreur de reconstruction: 0.1581188392857143\n",
      "Epoch: 18 -- Erreur de reconstruction: 0.15783544642857142\n",
      "Epoch: 19 -- Erreur de reconstruction: 0.15735839285714287\n"
     ]
    },
    {
     "data": {
      "image/png": "[encoded data removed]",
      "text/plain": [
       "<Figure size 720x504 with 1 Axes>"
      ]
     },
     "metadata": {
      "needs_background": "light"
     },
     "output_type": "display_data"
    },
    {
     "name": "stdout",
     "output_type": "stream",
     "text": [
      "Test loss: 0.13407184571532726, Acc. %: 96.03571428571429%\n",
      "Epoch: 0 -- Erreur de reconstruction: 0.07227701348396501\n",
      "Epoch: 1 -- Erreur de reconstruction: 0.06309634657434403\n",
      "Epoch: 2 -- Erreur de reconstruction: 0.05783516308309038\n",
      "Epoch: 3 -- Erreur de reconstruction: 0.054184835094752186\n",
      "Epoch: 4 -- Erreur de reconstruction: 0.05169649690233236\n",
      "Epoch: 5 -- Erreur de reconstruction: 0.04972248542274053\n",
      "Epoch: 6 -- Erreur de reconstruction: 0.047860650510204085\n",
      "Epoch: 7 -- Erreur de reconstruction: 0.046602496355685134\n",
      "Epoch: 8 -- Erreur de reconstruction: 0.045386160714285716\n",
      "Epoch: 9 -- Erreur de reconstruction: 0.04428719478862974\n",
      "Epoch: 10 -- Erreur de reconstruction: 0.0433938137755102\n",
      "Epoch: 11 -- Erreur de reconstruction: 0.04282662172011662\n",
      "Epoch: 12 -- Erreur de reconstruction: 0.04199282525510204\n",
      "Epoch: 13 -- Erreur de reconstruction: 0.041415884657434406\n",
      "Epoch: 14 -- Erreur de reconstruction: 0.04073861151603499\n",
      "Epoch: 15 -- Erreur de reconstruction: 0.040254897048104955\n",
      "Epoch: 16 -- Erreur de reconstruction: 0.039830448250728866\n",
      "Epoch: 17 -- Erreur de reconstruction: 0.03940130739795918\n",
      "Epoch: 18 -- Erreur de reconstruction: 0.03902079537172012\n",
      "Epoch: 19 -- Erreur de reconstruction: 0.03865135295189504\n",
      "Epoch: 0 -- Erreur de reconstruction: 0.20577589285714284\n",
      "Epoch: 1 -- Erreur de reconstruction: 0.17814714285714287\n",
      "Epoch: 2 -- Erreur de reconstruction: 0.16482642857142857\n",
      "Epoch: 3 -- Erreur de reconstruction: 0.15654508928571428\n",
      "Epoch: 4 -- Erreur de reconstruction: 0.15062910714285715\n",
      "Epoch: 5 -- Erreur de reconstruction: 0.1458705357142857\n",
      "Epoch: 6 -- Erreur de reconstruction: 0.1418907142857143\n",
      "Epoch: 7 -- Erreur de reconstruction: 0.13929705357142858\n",
      "Epoch: 8 -- Erreur de reconstruction: 0.137076875\n",
      "Epoch: 9 -- Erreur de reconstruction: 0.13468125\n",
      "Epoch: 10 -- Erreur de reconstruction: 0.1323850892857143\n",
      "Epoch: 11 -- Erreur de reconstruction: 0.13078419642857142\n",
      "Epoch: 12 -- Erreur de reconstruction: 0.129206875\n",
      "Epoch: 13 -- Erreur de reconstruction: 0.12800598214285713\n",
      "Epoch: 14 -- Erreur de reconstruction: 0.1268386607142857\n",
      "Epoch: 15 -- Erreur de reconstruction: 0.12570785714285715\n",
      "Epoch: 16 -- Erreur de reconstruction: 0.12463151785714285\n",
      "Epoch: 17 -- Erreur de reconstruction: 0.12353089285714286\n",
      "Epoch: 18 -- Erreur de reconstruction: 0.12264464285714285\n",
      "Epoch: 19 -- Erreur de reconstruction: 0.12191803571428571\n",
      "Epoch: 0 -- Erreur de reconstruction: 0.16955651785714285\n",
      "Epoch: 1 -- Erreur de reconstruction: 0.14973946428571427\n",
      "Epoch: 2 -- Erreur de reconstruction: 0.13962276785714287\n",
      "Epoch: 3 -- Erreur de reconstruction: 0.1337525\n",
      "Epoch: 4 -- Erreur de reconstruction: 0.13007839285714284\n",
      "Epoch: 5 -- Erreur de reconstruction: 0.12686017857142856\n",
      "Epoch: 6 -- Erreur de reconstruction: 0.12446678571428571\n",
      "Epoch: 7 -- Erreur de reconstruction: 0.12288419642857143\n",
      "Epoch: 8 -- Erreur de reconstruction: 0.12094848214285714\n",
      "Epoch: 9 -- Erreur de reconstruction: 0.11966008928571428\n",
      "Epoch: 10 -- Erreur de reconstruction: 0.11833035714285714\n",
      "Epoch: 11 -- Erreur de reconstruction: 0.117394375\n",
      "Epoch: 12 -- Erreur de reconstruction: 0.11671\n",
      "Epoch: 13 -- Erreur de reconstruction: 0.11559794642857144\n",
      "Epoch: 14 -- Erreur de reconstruction: 0.11483482142857143\n",
      "Epoch: 15 -- Erreur de reconstruction: 0.11446348214285715\n",
      "Epoch: 16 -- Erreur de reconstruction: 0.113516875\n",
      "Epoch: 17 -- Erreur de reconstruction: 0.11297946428571429\n",
      "Epoch: 18 -- Erreur de reconstruction: 0.11258598214285714\n",
      "Epoch: 19 -- Erreur de reconstruction: 0.11215651785714285\n",
      "Epoch: 0 -- Erreur de reconstruction: 0.20912830357142856\n",
      "Epoch: 1 -- Erreur de reconstruction: 0.1887025892857143\n",
      "Epoch: 2 -- Erreur de reconstruction: 0.17909026785714285\n",
      "Epoch: 3 -- Erreur de reconstruction: 0.17369928571428572\n",
      "Epoch: 4 -- Erreur de reconstruction: 0.17010982142857142\n",
      "Epoch: 5 -- Erreur de reconstruction: 0.16701035714285714\n",
      "Epoch: 6 -- Erreur de reconstruction: 0.16537517857142858\n",
      "Epoch: 7 -- Erreur de reconstruction: 0.16347544642857142\n",
      "Epoch: 8 -- Erreur de reconstruction: 0.16220651785714285\n",
      "Epoch: 9 -- Erreur de reconstruction: 0.161053125\n",
      "Epoch: 10 -- Erreur de reconstruction: 0.15995285714285715\n",
      "Epoch: 11 -- Erreur de reconstruction: 0.159126875\n",
      "Epoch: 12 -- Erreur de reconstruction: 0.15871401785714287\n",
      "Epoch: 13 -- Erreur de reconstruction: 0.15823410714285716\n",
      "Epoch: 14 -- Erreur de reconstruction: 0.15752910714285714\n",
      "Epoch: 15 -- Erreur de reconstruction: 0.15669151785714286\n",
      "Epoch: 16 -- Erreur de reconstruction: 0.15626428571428572\n",
      "Epoch: 17 -- Erreur de reconstruction: 0.15582455357142858\n",
      "Epoch: 18 -- Erreur de reconstruction: 0.15586392857142858\n",
      "Epoch: 19 -- Erreur de reconstruction: 0.15534901785714286\n",
      "Epoch: 0 -- Erreur de reconstruction: 0.18909169642857143\n",
      "Epoch: 1 -- Erreur de reconstruction: 0.17201357142857143\n",
      "Epoch: 2 -- Erreur de reconstruction: 0.16435517857142856\n",
      "Epoch: 3 -- Erreur de reconstruction: 0.15946892857142858\n",
      "Epoch: 4 -- Erreur de reconstruction: 0.15651535714285714\n",
      "Epoch: 5 -- Erreur de reconstruction: 0.15447017857142858\n",
      "Epoch: 6 -- Erreur de reconstruction: 0.15282517857142858\n",
      "Epoch: 7 -- Erreur de reconstruction: 0.15123491071428571\n",
      "Epoch: 8 -- Erreur de reconstruction: 0.15029348214285715\n",
      "Epoch: 9 -- Erreur de reconstruction: 0.14898214285714287\n",
      "Epoch: 10 -- Erreur de reconstruction: 0.14850642857142857\n",
      "Epoch: 11 -- Erreur de reconstruction: 0.14745455357142856\n",
      "Epoch: 12 -- Erreur de reconstruction: 0.14750214285714286\n",
      "Epoch: 13 -- Erreur de reconstruction: 0.14696928571428572\n",
      "Epoch: 14 -- Erreur de reconstruction: 0.1460394642857143\n",
      "Epoch: 15 -- Erreur de reconstruction: 0.14596473214285716\n",
      "Epoch: 16 -- Erreur de reconstruction: 0.14558428571428572\n",
      "Epoch: 17 -- Erreur de reconstruction: 0.14528169642857142\n",
      "Epoch: 18 -- Erreur de reconstruction: 0.14512348214285714\n",
      "Epoch: 19 -- Erreur de reconstruction: 0.14446214285714284\n"
     ]
    },
    {
     "data": {
      "image/png": "[encoded data removed]",
      "text/plain": [
       "<Figure size 720x504 with 1 Axes>"
      ]
     },
     "metadata": {
      "needs_background": "light"
     },
     "output_type": "display_data"
    },
    {
     "name": "stdout",
     "output_type": "stream",
     "text": [
      "Test loss: 0.1284074020247695, Acc. %: 96.32142857142857%\n"
     ]
    }
   ],
   "source": [
    "p = 28*28\n",
    "nbr_classes = y_train.shape[1]\n",
    "events1 = []\n",
    "events2 = []\n",
    "hidden_layers_units = [[200, 200], [200, 200, 200], [200, 200, 200, 200], [200, 200, 200, 200, 200]]\n",
    "for hidden_layers_units_loop in hidden_layers_units:\n",
    "    dnn = init_DNN(p, hidden_layers_units_loop, nbr_classes)\n",
    "    dnn = pretrain_DNN(dnn, X_train, epochs=20, learning_rate=0.1, batch_size=100) \n",
    "    dnn, train_loss = retropropagation(dnn, epochs=20, learning_rate=0.1, batch_size=100, X=X_train, y=y_train)\n",
    "    events2.append(train_loss)\n",
    "    test_loss, error_pct = test_DNN(dnn, X_test, y_test)"
   ]
  },
  {
   "cell_type": "markdown",
   "metadata": {},
   "source": [
    "# Étude sur Binary AlphaDigit"
   ]
  },
  {
   "cell_type": "code",
   "execution_count": 22,
   "metadata": {},
   "outputs": [],
   "source": [
    "from principal_DBN_alpha import *\n",
    "# Spécification des paramètres liés au réseau et à l’apprentissage\n",
    "input_size = 320  # Taille de l'entrée (20 x 16 pixels)\n",
    "hidden_sizes = [25, 25]  # Nombre de neurones dans chaque couche cachée\n",
    "output_size = 2  # Nombre de neurones en sortie (10 classes)\n",
    "num_iters = 100  # Nombre d'itérations pour les descentes de gradient\n",
    "learning_rate = 0.02  # Taux d'apprentissage\n",
    "batch_size = 100  # Taille des mini-batch\n",
    "num_train_data = 50000  # Nombre de données d'apprentissage\n",
    "num_val_data = 200  # Nombre de données de validation\n",
    "num_test_data = 200  # Nombre de données de test\n",
    "\n",
    "# Charger les données\n",
    "data = lire_alpha_digit(['0', '2', 'F', 'Z'])\n",
    "\n",
    "# On fait un mélange les données aléatoirement (Shuffle)\n",
    "random.shuffle(data)\n",
    "\n",
    "# Filtration des données pour ne garder que les données d'apprentissage\n",
    "train_data = data[:num_train_data] # sélection des num_train_data premières données de la liste data"
   ]
  },
  {
   "cell_type": "code",
   "execution_count": 23,
   "metadata": {},
   "outputs": [
    {
     "name": "stdout",
     "output_type": "stream",
     "text": [
      "Epoch :  0 Erreur :  0.19902271680020955\n",
      "Epoch :  10 Erreur :  0.08746277505554441\n",
      "Epoch :  20 Erreur :  0.05584419910637215\n",
      "Epoch :  30 Erreur :  0.03989278639086666\n",
      "Epoch :  40 Erreur :  0.030861065274524056\n",
      "Epoch :  50 Erreur :  0.025167532700578248\n",
      "Epoch :  60 Erreur :  0.020796545898600794\n",
      "Epoch :  70 Erreur :  0.01747472139211543\n",
      "Epoch :  80 Erreur :  0.014913717724902516\n",
      "Epoch :  90 Erreur :  0.012941571337703425\n"
     ]
    },
    {
     "data": {
      "text/plain": [
       "[<matplotlib.lines.Line2D at 0x1dd2188b670>]"
      ]
     },
     "execution_count": 23,
     "metadata": {},
     "output_type": "execute_result"
    },
    {
     "data": {
      "image/png": "[encoded data removed]",
      "text/plain": [
       "<Figure size 432x288 with 1 Axes>"
      ]
     },
     "metadata": {
      "needs_background": "light"
     },
     "output_type": "display_data"
    }
   ],
   "source": [
    "# Entrainement du RBM sur les données d'apprentissage\n",
    "X = train_data\n",
    "p = len(X[0])\n",
    "q = 100\n",
    "Rbm = init_RBM(p,q)\n",
    "Rbm,error = train_RBM(Rbm,X,learning_rate, batch_size, output_size)\n",
    "plt.plot(error)"
   ]
  },
  {
   "cell_type": "code",
   "execution_count": 24,
   "metadata": {},
   "outputs": [
    {
     "data": {
      "image/png": "[encoded data removed]",
      "text/plain": [
       "<Figure size 432x288 with 1 Axes>"
      ]
     },
     "metadata": {
      "needs_background": "light"
     },
     "output_type": "display_data"
    },
    {
     "data": {
      "image/png": "[encoded data removed]",
      "text/plain": [
       "<Figure size 432x288 with 1 Axes>"
      ]
     },
     "metadata": {
      "needs_background": "light"
     },
     "output_type": "display_data"
    }
   ],
   "source": [
    "generer_image_RBM(Rbm, nb_iter = 500, nb_images = 2)"
   ]
  },
  {
   "cell_type": "code",
   "execution_count": 25,
   "metadata": {},
   "outputs": [
    {
     "name": "stdout",
     "output_type": "stream",
     "text": [
      "Epoch :  0 Erreur :  0.18654709332462038\n",
      "Epoch :  10 Erreur :  0.08823836570515904\n",
      "Epoch :  20 Erreur :  0.04721739104753765\n",
      "Epoch :  30 Erreur :  0.027904685125566542\n",
      "Epoch :  40 Erreur :  0.01791008799775358\n",
      "Epoch :  50 Erreur :  0.011882632488675021\n",
      "Epoch :  60 Erreur :  0.008353888869829436\n",
      "Epoch :  70 Erreur :  0.0059055997952490984\n",
      "Epoch :  80 Erreur :  0.004497915072813831\n",
      "Epoch :  90 Erreur :  0.0035511768328765855\n",
      "Epoch :  0 Erreur :  0.156791467648766\n",
      "Epoch :  10 Erreur :  0.13873872738970613\n",
      "Epoch :  20 Erreur :  0.06702195776942925\n",
      "Epoch :  30 Erreur :  0.038859454550365144\n",
      "Epoch :  40 Erreur :  0.025855451541506636\n",
      "Epoch :  50 Erreur :  0.017525312789018307\n",
      "Epoch :  60 Erreur :  0.011895374086183895\n",
      "Epoch :  70 Erreur :  0.009030819449005929\n",
      "Epoch :  80 Erreur :  0.007421173314298354\n",
      "Epoch :  90 Erreur :  0.005381643154529781\n",
      "Epoch :  0 Erreur :  0.2639216074792401\n",
      "Epoch :  10 Erreur :  0.14956704137881605\n",
      "Epoch :  20 Erreur :  0.07703870737641437\n",
      "Epoch :  30 Erreur :  0.04359679668353701\n",
      "Epoch :  40 Erreur :  0.027633664163672158\n",
      "Epoch :  50 Erreur :  0.01808785202050713\n",
      "Epoch :  60 Erreur :  0.012318511141693387\n",
      "Epoch :  70 Erreur :  0.009483336309582289\n",
      "Epoch :  80 Erreur :  0.0064154709235417435\n",
      "Epoch :  90 Erreur :  0.004796830266776132\n"
     ]
    },
    {
     "data": {
      "text/plain": [
       "[<matplotlib.lines.Line2D at 0x1dd09b68b20>]"
      ]
     },
     "execution_count": 25,
     "metadata": {},
     "output_type": "execute_result"
    },
    {
     "data": {
      "image/png": "[encoded data removed]",
      "text/plain": [
       "<Figure size 432x288 with 1 Axes>"
      ]
     },
     "metadata": {
      "needs_background": "light"
     },
     "output_type": "display_data"
    }
   ],
   "source": [
    "config = [len(X[0]),100,50,100]\n",
    "X  = lire_alpha_digit(['X'])\n",
    "Dbm = init_DBN(config)\n",
    "Dbm = train_DBN(Dbm, X, 0.1, 100, 3)\n",
    "plt.plot(error, 'red' )"
   ]
  },
  {
   "cell_type": "code",
   "execution_count": 26,
   "metadata": {
    "scrolled": false
   },
   "outputs": [
    {
     "data": {
      "image/png": "[encoded data removed]",
      "text/plain": [
       "<Figure size 432x288 with 1 Axes>"
      ]
     },
     "metadata": {
      "needs_background": "light"
     },
     "output_type": "display_data"
    },
    {
     "data": {
      "image/png": "[encoded data removed]",
      "text/plain": [
       "<Figure size 432x288 with 1 Axes>"
      ]
     },
     "metadata": {
      "needs_background": "light"
     },
     "output_type": "display_data"
    }
   ],
   "source": [
    "generer_image_RBM(Rbm, 500, 2)"
   ]
  },
  {
   "cell_type": "markdown",
   "metadata": {},
   "source": [
    "# Étude à réaliser sur MNIST"
   ]
  },
  {
   "cell_type": "code",
   "execution_count": null,
   "metadata": {},
   "outputs": [],
   "source": []
  }
 ],
 "metadata": {
  "kernelspec": {
   "display_name": "Python 3 (ipykernel)",
   "language": "python",
   "name": "python3"
  },
  "language_info": {
   "codemirror_mode": {
    "name": "ipython",
    "version": 3
   },
   "file_extension": ".py",
   "mimetype": "text/x-python",
   "name": "python",
   "nbconvert_exporter": "python",
   "pygments_lexer": "ipython3",
   "version": "3.8.13"
  },
  "vscode": {
   "interpreter": {
    "hash": "f9536b55bfb9378dc6c66f0d0ab12324a50b180b1476f0ea0b6d5b7b55d4ecf0"
   }
  }
 },
 "nbformat": 4,
 "nbformat_minor": 2
}
