{
 "cells": [
  {
   "attachments": {},
   "cell_type": "markdown",
   "metadata": {},
   "source": [
    "# Données"
   ]
  },
  {
   "cell_type": "code",
   "execution_count": 1,
   "metadata": {},
   "outputs": [
    {
     "name": "stderr",
     "output_type": "stream",
     "text": [
      "<frozen importlib._bootstrap>:228: RuntimeWarning: scipy._lib.messagestream.MessageStream size changed, may indicate binary incompatibility. Expected 56 from C header, got 64 from PyObject\n"
     ]
    }
   ],
   "source": [
    "import os\n",
    "import requests\n",
    "from scipy.io import loadmat\n",
    "from sklearn.datasets import fetch_openml\n",
    "from sklearn.preprocessing import OneHotEncoder\n",
    "import numpy as np\n",
    "\n",
    "def get_mnist(): \n",
    "    mnist = fetch_openml('mnist_784')\n",
    "    X = mnist['data'].values\n",
    "    X = (mnist['data'] > 128).astype(int)\n",
    "    y = mnist['target'].values\n",
    "    y = OneHotEncoder().fit_transform(y.reshape(-1, 1)).toarray()\n",
    "\n",
    "    return X, y\n",
    "    \n",
    "def get_alphadigs():\n",
    "    if os.path.exists('data/alphadigs.mat'):\n",
    "        return loadmat('data/alphadigs.mat')\n",
    "    \n",
    "    alphadigs_url = 'https://cs.nyu.edu/~roweis/data/binaryalphadigs.mat'\n",
    "    r = requests.get(alphadigs_url, allow_redirects=True)\n",
    "\n",
    "    with open('data/alphadigs.mat', 'wb') as f:\n",
    "        f.write(r.content)\n",
    "                \n",
    "    return loadmat('data/alphadigs.mat')\n",
    "      \n",
    "def lire_alpha_digit(list_digits):\n",
    "    arr = []\n",
    "    dataset = get_alphadigs()\n",
    "    indices = np.where(np.isin(dataset[\"classlabels\"], list_digits))[1]\n",
    "    dataset_flatten = dataset[\"dat\"][indices].flatten()\n",
    "    for img in dataset_flatten:\n",
    "        arr.append(img.flatten())\n",
    "    \n",
    "    return np.array(arr)"
   ]
  },
  {
   "cell_type": "code",
   "execution_count": 2,
   "metadata": {},
   "outputs": [],
   "source": [
    "f = lire_alpha_digit(['0', '2', 'P','F', 'Z'])"
   ]
  },
  {
   "cell_type": "code",
   "execution_count": null,
   "metadata": {},
   "outputs": [],
   "source": [
    "f.shape"
   ]
  },
  {
   "cell_type": "code",
   "execution_count": 3,
   "metadata": {},
   "outputs": [],
   "source": [
    "import numpy as np\n",
    "import numpy as np\n",
    "import random\n",
    "import matplotlib.pyplot as plt\n",
    "\n",
    "def relu(x):\n",
    "    return np.maximum(x, 0)\n",
    "def sigmoid(x):\n",
    "    return 1 / (1 + np.exp(-x))"
   ]
  },
  {
   "attachments": {},
   "cell_type": "markdown",
   "metadata": {},
   "source": [
    "# Fonctions élémentaires"
   ]
  },
  {
   "attachments": {},
   "cell_type": "markdown",
   "metadata": {},
   "source": [
    "## Construction d’un RBM et test sur Binary AlphaDigits"
   ]
  },
  {
   "cell_type": "code",
   "execution_count": 11,
   "metadata": {},
   "outputs": [],
   "source": [
    "class RBM:\n",
    "    def __init__(self, p, q):\n",
    "        self.W = 0.01 * np.random.rand(p,q)\n",
    "        self.a = np.zeros((1,p))\n",
    "        self.b = np.zeros((1,q))\n",
    "        \n",
    "def init_RBM(p, q):\n",
    "    return RBM(p, q)\n",
    "\n",
    "def entree_sortie_RBM(rbm, x):\n",
    "    return sigmoid(np.dot(x, rbm.W) + rbm.b)\n",
    "\n",
    "def sortie_entree_RBM(rbm, y): #(n * q) -> (n * p)\n",
    "    return sigmoid(np.dot(y, rbm.W.T) + rbm.a)"
   ]
  },
  {
   "cell_type": "code",
   "execution_count": 129,
   "metadata": {},
   "outputs": [],
   "source": [
    "def train_RBM(rbm,X,epsilon, epochs, batch_size):\n",
    "        \n",
    "    n = X.shape[0]\n",
    "    p = X.shape[1]\n",
    "    q = len(rbm.b) \n",
    "    \n",
    "    error = []\n",
    "    for epoch in range(epochs):\n",
    "        X_copy = X.copy()\n",
    "    \n",
    "        for batch  in range(0, n, batch_size):\n",
    "            X_batch = X_copy[batch:batch + batch_size]\n",
    "            \n",
    "            tb = len(X_batch)\n",
    "            \n",
    "            v_0 = X_batch # (tb * p)\n",
    "            #print(tb,p,v_0.shape)\n",
    "            \n",
    "            p_h_v_0 = entree_sortie_RBM(rbm,v_0) # (tb * q)\n",
    "            #print(tb,q,p_h_v_0.shape)\n",
    "            \n",
    "            h_0 = (p_h_v_0 > np.random.rand(tb, q)).astype(int) # (tb * q)\n",
    "            #print(tb,q,h_0.shape)\n",
    "            \n",
    "            p_v_h_0 = sortie_entree_RBM(rbm,h_0) # (tb * p)\n",
    "            #print(tb,p,p_v_h_0.shape)\n",
    "            v_1 = (p_v_h_0 > np.random.rand(tb, p)).astype(int) # (tb * p)\n",
    "            #print(tb,p,v_1.shape)\n",
    "            \n",
    "            p_h_v_1 = entree_sortie_RBM(rbm,v_1) # (tb * q)\n",
    "            #print(tb,q,p_h_v_1.shape)\n",
    "            \n",
    "            norm_epsilon = epsilon/tb\n",
    "            \n",
    "            rbm.W += norm_epsilon * (np.dot(v_0.T, p_h_v_0) - np.dot(v_1.T, p_h_v_1)) # (p * q)   \n",
    "            #print(p,q,rbm.W.shape)     \n",
    "            rbm.a += norm_epsilon * np.sum(v_0 - v_1, axis=0) # (1 * p)\n",
    "            #print(p,rbm.a.shape)\n",
    "            rbm.b += norm_epsilon * np.sum(p_h_v_0 - p_h_v_1, axis=0) # (1 * q)\n",
    "            #print(q,rbm.b.shape)\n",
    "            \n",
    "        H = entree_sortie_RBM(rbm,X)\n",
    "        X_reconstruit = sortie_entree_RBM(rbm,H)\n",
    "        loss = np.sum((X - X_reconstruit)**2)/(n*p)\n",
    "        error.append(loss)\n",
    "        if epoch % 10 == 0:\n",
    "            print(\"Epoch : \", epoch, \"Erreur : \", loss)\n",
    "            \n",
    "    return rbm,error\n"
   ]
  },
  {
   "cell_type": "code",
   "execution_count": 287,
   "metadata": {},
   "outputs": [],
   "source": [
    "def generer_image_RBM(rbm, nb_iter, nb_images):\n",
    "    p = rbm.a.shape[1]\n",
    "    q = len(rbm.b)\n",
    "    for i in range(nb_images):\n",
    "        image = np.random.uniform(0, 1, (1, p))\n",
    "        for j in range(nb_iter):\n",
    "            prob_h_given_v = entree_sortie_RBM(rbm, image)\n",
    "            h = (prob_h_given_v > np.random.rand(q)) * 1.0\n",
    "            prob_v_given_h = sortie_entree_RBM(rbm, h)\n",
    "            image = (prob_v_given_h > np.random.rand(p)) * 1.0\n",
    "\n",
    "        image = np.reshape(image, (20, 16))\n",
    "        plt.imshow(image, cmap='gray')\n",
    "        plt.show()"
   ]
  },
  {
   "cell_type": "code",
   "execution_count": 303,
   "metadata": {},
   "outputs": [
    {
     "name": "stdout",
     "output_type": "stream",
     "text": [
      "Epoch :  0 Erreur :  0.17939475912764496\n",
      "Epoch :  10 Erreur :  0.09295591844685698\n",
      "Epoch :  20 Erreur :  0.0515572213941134\n",
      "Epoch :  30 Erreur :  0.029941865124850583\n",
      "Epoch :  40 Erreur :  0.018396431349356156\n",
      "Epoch :  50 Erreur :  0.012136692529035294\n",
      "Epoch :  60 Erreur :  0.008752598463629765\n",
      "Epoch :  70 Erreur :  0.006106808230276387\n",
      "Epoch :  80 Erreur :  0.004647085867483645\n",
      "Epoch :  90 Erreur :  0.0037324978220543946\n"
     ]
    },
    {
     "data": {
      "text/plain": [
       "[<matplotlib.lines.Line2D at 0x1511b1d00>]"
      ]
     },
     "execution_count": 303,
     "metadata": {},
     "output_type": "execute_result"
    },
    {
     "data": {
      "image/png": "[encoded data removed]",
      "text/plain": [
       "<Figure size 640x480 with 1 Axes>"
      ]
     },
     "metadata": {},
     "output_type": "display_data"
    }
   ],
   "source": [
    "X = lire_alpha_digit(['X'])\n",
    "p = len(X[0])\n",
    "q = 100\n",
    "Rbm = init_RBM(p,q)\n",
    "Rbm,error = train_RBM(Rbm,X,0.1, 100, 3)\n",
    "plt.plot(error)"
   ]
  },
  {
   "cell_type": "code",
   "execution_count": 294,
   "metadata": {},
   "outputs": [
    {
     "data": {
      "image/png": "[encoded data removed]",
      "text/plain": [
       "<Figure size 640x480 with 1 Axes>"
      ]
     },
     "metadata": {},
     "output_type": "display_data"
    },
    {
     "data": {
      "image/png": "[encoded data removed]",
      "text/plain": [
       "<Figure size 640x480 with 1 Axes>"
      ]
     },
     "metadata": {},
     "output_type": "display_data"
    }
   ],
   "source": [
    "generer_image_RBM(Rbm, 500, 2)"
   ]
  },
  {
   "attachments": {},
   "cell_type": "markdown",
   "metadata": {},
   "source": [
    "# Construction d’un DBN et test sur Binary AlphaDigits"
   ]
  },
  {
   "cell_type": "code",
   "execution_count": 332,
   "metadata": {},
   "outputs": [],
   "source": [
    "def init_DBN(config):\n",
    "    for i in range(len(config)-1):\n",
    "        if i == 0:\n",
    "            DBN = [init_RBM(config[i], config[i+1])]\n",
    "        else:\n",
    "            DBN.append(init_RBM(config[i], config[i+1]))\n",
    "    return DBN\n",
    "\n",
    "def train_DBN(DBN, H, epsilon, epochs, batch_size):\n",
    "    for i in range(len(DBN)):\n",
    "            DBN[i],error = train_RBM(DBN[i], H, epsilon, epochs, batch_size)\n",
    "            H = entree_sortie_RBM(DBN[i],H)\n",
    "    return DBN"
   ]
  },
  {
   "cell_type": "code",
   "execution_count": 492,
   "metadata": {},
   "outputs": [],
   "source": [
    "def generer_image_DBN(Dbm, nb_iter, nb_images):\n",
    "    for i in range(nb_images):\n",
    "        v_0 = np.random.uniform(0, 1, (1, config[0]))\n",
    "        v_k = v_0\n",
    "        for j in range(nb_iter):\n",
    "            \n",
    "            for y in range(0,len(Dbm)): \n",
    "                prob_h_given_v = entree_sortie_RBM(Dbm[y], v_k)\n",
    "                v_k = (prob_h_given_v > np.random.rand(config[y+1])) * 1.0\n",
    "\n",
    "            h_k = v_k\n",
    "            for k in range(len(Dbm)-1, -1, -1):\n",
    "                prob_v_given_h = sortie_entree_RBM(Dbm[k], h_k)\n",
    "                h_k = (prob_v_given_h > np.random.rand(config[k])) * 1.0\n",
    "\n",
    "            v_k = h_k\n",
    "\n",
    "        image = np.reshape(v_k, (20, 16))\n",
    "        plt.imshow(image, cmap='gray')\n",
    "        plt.show()"
   ]
  },
  {
   "cell_type": "code",
   "execution_count": 490,
   "metadata": {},
   "outputs": [
    {
     "name": "stdout",
     "output_type": "stream",
     "text": [
      "Epoch :  0 Erreur :  0.18266747392110425\n",
      "Epoch :  10 Erreur :  0.09595766973606937\n",
      "Epoch :  20 Erreur :  0.05129028449316478\n",
      "Epoch :  30 Erreur :  0.029082779512700947\n",
      "Epoch :  40 Erreur :  0.01742828462260867\n",
      "Epoch :  50 Erreur :  0.011455677430947511\n",
      "Epoch :  60 Erreur :  0.008205638920620583\n",
      "Epoch :  70 Erreur :  0.0059942431419013915\n",
      "Epoch :  80 Erreur :  0.004545089930235314\n",
      "Epoch :  90 Erreur :  0.0034542088234296316\n",
      "Epoch :  0 Erreur :  0.17081558719549142\n",
      "Epoch :  10 Erreur :  0.12078613170831254\n",
      "Epoch :  20 Erreur :  0.06305520648780172\n",
      "Epoch :  30 Erreur :  0.03839394893450951\n",
      "Epoch :  40 Erreur :  0.024744660018739595\n",
      "Epoch :  50 Erreur :  0.01683259048380023\n",
      "Epoch :  60 Erreur :  0.011801446395361742\n",
      "Epoch :  70 Erreur :  0.008947936909082315\n",
      "Epoch :  80 Erreur :  0.006644068503799112\n",
      "Epoch :  90 Erreur :  0.004994569408036412\n",
      "Epoch :  0 Erreur :  0.24137310656923153\n",
      "Epoch :  10 Erreur :  0.16753806924919654\n",
      "Epoch :  20 Erreur :  0.08399521840298974\n",
      "Epoch :  30 Erreur :  0.04937179822774564\n",
      "Epoch :  40 Erreur :  0.028982873987276687\n",
      "Epoch :  50 Erreur :  0.020303036125728674\n",
      "Epoch :  60 Erreur :  0.01394427307354547\n",
      "Epoch :  70 Erreur :  0.012294719056800067\n",
      "Epoch :  80 Erreur :  0.0075543684386270744\n",
      "Epoch :  90 Erreur :  0.007165044307165018\n"
     ]
    }
   ],
   "source": [
    "config = [len(X[0]),100,50,100]\n",
    "X  = lire_alpha_digit(['X'])\n",
    "Dbm = init_DBN(config)\n",
    "Dbm = train_DBN(Dbm, X, 0.1, 100, 3)"
   ]
  },
  {
   "cell_type": "code",
   "execution_count": 493,
   "metadata": {},
   "outputs": [
    {
     "data": {
      "image/png": "[encoded data removed]",
      "text/plain": [
       "<Figure size 640x480 with 1 Axes>"
      ]
     },
     "metadata": {},
     "output_type": "display_data"
    },
    {
     "data": {
      "image/png": "[encoded data removed]",
      "text/plain": [
       "<Figure size 640x480 with 1 Axes>"
      ]
     },
     "metadata": {},
     "output_type": "display_data"
    }
   ],
   "source": [
    "generer_image_DBN(Dbm, 500, 2)"
   ]
  },
  {
   "attachments": {},
   "cell_type": "markdown",
   "metadata": {},
   "source": [
    "# Construction d’un DNN et test sur MNIST"
   ]
  }
 ],
 "metadata": {
  "kernelspec": {
   "display_name": "base",
   "language": "python",
   "name": "python3"
  },
  "language_info": {
   "codemirror_mode": {
    "name": "ipython",
    "version": 3
   },
   "file_extension": ".py",
   "mimetype": "text/x-python",
   "name": "python",
   "nbconvert_exporter": "python",
   "pygments_lexer": "ipython3",
   "version": "3.9.16"
  },
  "orig_nbformat": 4,
  "vscode": {
   "interpreter": {
    "hash": "f9536b55bfb9378dc6c66f0d0ab12324a50b180b1476f0ea0b6d5b7b55d4ecf0"
   }
  }
 },
 "nbformat": 4,
 "nbformat_minor": 2
}
