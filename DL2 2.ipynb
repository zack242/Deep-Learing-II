{
 "cells": [
  {
   "attachments": {},
   "cell_type": "markdown",
   "metadata": {},
   "source": [
    "# Données"
   ]
  },
  {
   "cell_type": "code",
   "execution_count": 1,
   "metadata": {},
   "outputs": [
    {
     "name": "stderr",
     "output_type": "stream",
     "text": [
      "<frozen importlib._bootstrap>:228: RuntimeWarning: scipy._lib.messagestream.MessageStream size changed, may indicate binary incompatibility. Expected 56 from C header, got 64 from PyObject\n"
     ]
    }
   ],
   "source": [
    "import os\n",
    "import requests\n",
    "from scipy.io import loadmat\n",
    "from sklearn.datasets import fetch_openml\n",
    "from sklearn.preprocessing import OneHotEncoder\n",
    "import numpy as np\n",
    "\n",
    "def get_mnist(): \n",
    "    mnist = fetch_openml('mnist_784')\n",
    "    X = mnist['data'].values\n",
    "    X = (mnist['data'] > 128).astype(int)\n",
    "    y = mnist['target'].values\n",
    "    y = OneHotEncoder().fit_transform(y.reshape(-1, 1)).toarray()\n",
    "\n",
    "    return X, y\n",
    "    \n",
    "def get_alphadigs():\n",
    "    if os.path.exists('data/alphadigs.mat'):\n",
    "        return loadmat('data/alphadigs.mat')\n",
    "    \n",
    "    alphadigs_url = 'https://cs.nyu.edu/~roweis/data/binaryalphadigs.mat'\n",
    "    r = requests.get(alphadigs_url, allow_redirects=True)\n",
    "\n",
    "    with open('data/alphadigs.mat', 'wb') as f:\n",
    "        f.write(r.content)\n",
    "                \n",
    "    return loadmat('data/alphadigs.mat')\n",
    "      \n",
    "def lire_alpha_digit(list_digits) : \n",
    "    X = get_alphadigs()\n",
    "    indices = np.where(np.isin(X[\"classlabels\"], list_digits))[1]\n",
    "    rows = X[\"dat\"][indices]\n",
    "    return rows  "
   ]
  },
  {
   "cell_type": "code",
   "execution_count": null,
   "metadata": {},
   "outputs": [],
   "source": [
    "f = lire_alpha_digit(['0', '2', 'P','F', 'Z'])\n",
    "x,y = get_mnist()"
   ]
  },
  {
   "cell_type": "code",
   "execution_count": 7,
   "metadata": {},
   "outputs": [],
   "source": [
    "import numpy as np\n",
    "\n",
    "def relu(x):\n",
    "    return np.maximum(x, 0)\n",
    "def sigmoid(x):\n",
    "    return 1 / (1 + np.exp(-x))"
   ]
  },
  {
   "attachments": {},
   "cell_type": "markdown",
   "metadata": {},
   "source": [
    "# Fonctions élémentaires"
   ]
  },
  {
   "attachments": {},
   "cell_type": "markdown",
   "metadata": {},
   "source": [
    "## Construction d’un RBM et test sur Binary AlphaDigits"
   ]
  },
  {
   "cell_type": "code",
   "execution_count": 11,
   "metadata": {},
   "outputs": [
    {
     "ename": "ValueError",
     "evalue": "shapes (39,100) and (5,39) not aligned: 100 (dim 1) != 5 (dim 0)",
     "output_type": "error",
     "traceback": [
      "\u001b[0;31m---------------------------------------------------------------------------\u001b[0m",
      "\u001b[0;31mValueError\u001b[0m                                Traceback (most recent call last)",
      "Cell \u001b[0;32mIn[11], line 84\u001b[0m\n\u001b[1;32m     81\u001b[0m rbm \u001b[39m=\u001b[39m init_RBM(p, q)\n\u001b[1;32m     83\u001b[0m \u001b[39m# Train the RBM on the MNIST data for 20 epochs with a batch size of 100\u001b[39;00m\n\u001b[0;32m---> 84\u001b[0m k \u001b[39m=\u001b[39m train_RBM(rbm, X, epochs\u001b[39m=\u001b[39;49m\u001b[39m20\u001b[39;49m, learning_rate\u001b[39m=\u001b[39;49m\u001b[39m0.1\u001b[39;49m, batch_size\u001b[39m=\u001b[39;49m\u001b[39m100\u001b[39;49m)\n\u001b[1;32m     86\u001b[0m \u001b[39m# Generate 25 new images using the RBM\u001b[39;00m\n\u001b[1;32m     87\u001b[0m generated_images \u001b[39m=\u001b[39m generer_image_RBM(rbm, \u001b[39m100\u001b[39m, \u001b[39m25\u001b[39m)\n",
      "Cell \u001b[0;32mIn[11], line 41\u001b[0m, in \u001b[0;36mtrain_RBM\u001b[0;34m(rbm, X, epochs, learning_rate, batch_size)\u001b[0m\n\u001b[1;32m     38\u001b[0m x \u001b[39m=\u001b[39m X_copy[i:i \u001b[39m+\u001b[39m batch_size]\n\u001b[1;32m     40\u001b[0m v0 \u001b[39m=\u001b[39m x\n\u001b[0;32m---> 41\u001b[0m ph_v0 \u001b[39m=\u001b[39m entree_sortie_RBM(rbm,v0)\n\u001b[1;32m     42\u001b[0m h0 \u001b[39m=\u001b[39m (ph_v0 \u001b[39m>\u001b[39m np\u001b[39m.\u001b[39mrandom\u001b[39m.\u001b[39mrand(v0\u001b[39m.\u001b[39mshape[\u001b[39m0\u001b[39m], q))\u001b[39m.\u001b[39mastype(\u001b[39mint\u001b[39m)\n\u001b[1;32m     44\u001b[0m pv_h0 \u001b[39m=\u001b[39m sortie_entree_RBM(rbm,h0)\n",
      "Cell \u001b[0;32mIn[11], line 27\u001b[0m, in \u001b[0;36mentree_sortie_RBM\u001b[0;34m(RBM, data)\u001b[0m\n\u001b[1;32m     24\u001b[0m W \u001b[39m=\u001b[39m RBM\u001b[39m.\u001b[39mW\n\u001b[1;32m     25\u001b[0m n, p \u001b[39m=\u001b[39m data\u001b[39m.\u001b[39mshape\n\u001b[0;32m---> 27\u001b[0m output_RBM \u001b[39m=\u001b[39m \u001b[39m1\u001b[39m\u001b[39m/\u001b[39m(\u001b[39m1\u001b[39m \u001b[39m+\u001b[39m np\u001b[39m.\u001b[39mexp(\u001b[39m-\u001b[39m b \u001b[39m-\u001b[39m np\u001b[39m.\u001b[39;49mdot(W,data )))\n\u001b[1;32m     29\u001b[0m \u001b[39mreturn\u001b[39;00m output_RBM\n",
      "File \u001b[0;32m<__array_function__ internals>:200\u001b[0m, in \u001b[0;36mdot\u001b[0;34m(*args, **kwargs)\u001b[0m\n",
      "\u001b[0;31mValueError\u001b[0m: shapes (39,100) and (5,39) not aligned: 100 (dim 1) != 5 (dim 0)"
     ]
    }
   ],
   "source": [
    "import numpy as np\n",
    "import matplotlib.pyplot as plt\n",
    "\n",
    "class RBM:\n",
    "    def __init__(self, p, q):\n",
    "        self.W = np.random.normal(0, 0.1, (p, q))\n",
    "        self.a = np.zeros(p)\n",
    "        self.b = np.zeros(q)\n",
    "\n",
    "def init_RBM(p, q):\n",
    "    return RBM(p, q)\n",
    "\n",
    "def sortie_entree_RBM(RBM, data):\n",
    "  a = RBM.a.reshape(-1, 1)\n",
    "  W = RBM.W\n",
    "  n, p  = data.shape\n",
    "\n",
    "  input_RBM = 1/(1 + np.exp( - a - np.dot(W, data)))\n",
    "\n",
    "  return input_RBM\n",
    "\n",
    "def entree_sortie_RBM(RBM, data):\n",
    "  b = RBM.b.reshape(-1,1)\n",
    "  W = RBM.W\n",
    "  n, p = data.shape\n",
    "\n",
    "  output_RBM = 1/(1 + np.exp(- b - np.dot(W,data )))\n",
    "\n",
    "  return output_RBM\n",
    "\n",
    "def train_RBM(RBM, X, n_hidden, n_iter, learning_rate, batch_size):\n",
    "        \n",
    "    n = X.shape[0]\n",
    "    p = X.shape[1]\n",
    "    q = n_hidden\n",
    "    \n",
    "    X_copy = X.copy()\n",
    "\n",
    "    for epoch in range(epochs):\n",
    "        error = 0\n",
    "        for i in range(0, len(X), batch_size):\n",
    "            x = X_copy[i:i + batch_size]\n",
    "            \n",
    "            v0 = x\n",
    "            ph_v0 = entree_sortie_RBM(rbm,v0)\n",
    "            h0 = (ph_v0 > np.random.rand(v0.shape[0], q)).astype(int)\n",
    "            \n",
    "            pv_h0 = sortie_entree_RBM(rbm,h0)\n",
    "            v1 = (pv_h0 > np.random.rand(batch_size, p)).astype(int)\n",
    "            \n",
    "            ph_v1 = entree_sortie_RBM (rbm,v1)\n",
    "            h1 = (ph_v1 > np.random.rand(batch_size, q)).astype(int)\n",
    "        \n",
    "            rbm.W += learning_rate * np.dot(v0.T, h0) - np.dot(v1.T, h1)\n",
    "            rbm.a += learning_rate * np.sum(v0 - v1, axis=0)\n",
    "            rbm.b += learning_rate * np.sum(ph_v0 - ph_v1, axis=0)\n",
    "            \n",
    "            error += np.mean((v0 - v1)**2)\n",
    "        print(\"Epoch:\", epoch, \"Error:\", error)\n",
    "    return rbm\n",
    "\n",
    "\n",
    "def generer_images_RBM(rbm, iterations, num_images):\n",
    "    hidden_probs = np.random.rand(num_images, rbm.W.shape[1])\n",
    "    hidden_states = hidden_probs > 0.5\n",
    "\n",
    "    for i in range(iterations):\n",
    "        visible_probs = sortie_entree_RBM(rbm, hidden_states)\n",
    "        visible_states = visible_probs > np.random.rand(*visible_probs.shape)\n",
    "        hidden_probs = entree_sortie_RBM (rbm, visible_states)\n",
    "        hidden_states = hidden_probs > np.random.rand(*hidden_probs.shape)\n",
    "\n",
    "    return visible_states\n",
    "\n",
    "def afficher_images(images, n_cols=None):\n",
    "    n_images, n_pixels = images.shape\n",
    "    if n_cols is None:\n",
    "        n_cols = int(np.ceil(np.sqrt(n_images)))\n",
    "        \n",
    "        \n",
    "X = lire_alpha_digit(['0', '2', 'P','F', 'Z'])\n",
    "\n",
    "# Initialize an RBM with 784 visible units and 100 hidden units\n",
    "p, q = X.shape[1], 100\n",
    "rbm = init_RBM(p, q)\n",
    "\n",
    "# Train the RBM on the MNIST data for 20 epochs with a batch size of 100\n",
    "k = train_RBM(rbm, X, epochs=20, learning_rate=0.1, batch_size=100)\n",
    "\n",
    "# Generate 25 new images using the RBM\n",
    "generated_images = generer_image_RBM(rbm, 100, 25)\n",
    "\n",
    "# Display the generated images\n",
    "afficher_images(generated_images)"
   ]
  }
 ],
 "metadata": {
  "kernelspec": {
   "display_name": "base",
   "language": "python",
   "name": "python3"
  },
  "language_info": {
   "codemirror_mode": {
    "name": "ipython",
    "version": 3
   },
   "file_extension": ".py",
   "mimetype": "text/x-python",
   "name": "python",
   "nbconvert_exporter": "python",
   "pygments_lexer": "ipython3",
   "version": "3.9.12"
  },
  "orig_nbformat": 4,
  "vscode": {
   "interpreter": {
    "hash": "f9536b55bfb9378dc6c66f0d0ab12324a50b180b1476f0ea0b6d5b7b55d4ecf0"
   }
  }
 },
 "nbformat": 4,
 "nbformat_minor": 2
}
